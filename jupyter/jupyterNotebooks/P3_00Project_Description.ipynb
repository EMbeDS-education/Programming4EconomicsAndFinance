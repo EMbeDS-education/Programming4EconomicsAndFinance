{
 "cells": [
  {
   "cell_type": "markdown",
   "metadata": {
    "tags": []
   },
   "source": [
    "<center><font size=\"+4\">Programming for Economics and Finance 23/24</font></center>\n",
    "<center><font size=\"+2\">LM in Economics</font></center>\n",
    "<center><font size=\"+2\">Sant'Anna School of Advanced Studies, Pisa, Italy</font></center>\n",
    "<center><font size=\"+2\">Università di Pisa, Pisa, Italy</font></center>\n",
    "<center><img src=\"https://github.com/EMbeDS-education/ComputingDataAnalysisModeling20232024/raw/main/PDAI/jupyter/jupyterNotebooks/images/SSSA_LEMbeDS.png\" width=\"700\" alt=\"L'EMbeDS\"></center>\n",
    "\n",
    "<center><font size=\"+2\">Course responsible</font></center>\n",
    "<center><font size=\"+2\">Andrea Vandin a.vandin@santannapisa.it</font></center>\n",
    "\n",
    "---"
   ]
  },
  {
   "cell_type": "markdown",
   "metadata": {},
   "source": [
    "<center><font size=\"+4\">Part 3</font></center>\n",
    "<center><font size=\"+4\">Project description</font></center>"
   ]
  },
  {
   "cell_type": "markdown",
   "metadata": {},
   "source": [
    "---"
   ]
  },
  {
   "cell_type": "markdown",
   "metadata": {},
   "source": [
    "# How are we going to evaluate you?\n",
    "\n",
    "## Oral examination based on assignments & project report\n",
    "* _Assignments_\n",
    "    * For each course part, we provided sets of simple coding assignments\n",
    "    * The ones for part 3 are to test the topics complementary to the project work\n",
    "    * You shall hand in your assignments and project by the exam date. \n",
    "* _Project report_\n",
    "    * You will be given a simple _classic_ dataset\n",
    "      * Would have you survived the Titanic shipwreck?\n",
    "      * Or __you can propose one of interest if any__\n",
    "        - Please contact us\n",
    "        - You can do this only if we explicitly agree\n",
    "    * You will be asked to do a data-analysis project \n",
    "\n",
    "* Groups\n",
    "    * As discussed, assignments and projects shall be don in groups"
   ]
  },
  {
   "cell_type": "markdown",
   "metadata": {},
   "source": [
    "## The _default titanic_ project\n",
    "- Consider the **Titanic** dataset available in the __datasets__ page of our wiki\n",
    "    - You will also find a **description** there\n",
    "  - Or contact us if you want to propose a dataset of interest.\n",
    "- It contains information on 1309 passengers\n",
    "  - 14 properties/attributes\n",
    "  - 1 target variable on the survival of the passenger\n",
    "- __Your task is to analyze this dataset in the lines of what shown in the course__\n",
    "  - The final goal is to **obtain a classifier able to predict the survival probability of a hypotethical passenger**\n",
    "    - Or other classification tasks to be agreed on if you use a dataset of interest\n",
    "  - BEWARE: \n",
    "    - Try first to understand the data. Read the provided description. \n",
    "    - Not all datasets are the same\n",
    "      - Do not just blindly apply all tasks seen in class, with the same parameters. \n",
    "      - Try to perform reasoned choices.\n",
    "      -  You are free to choose part of the techniques/tools seen during the course\n",
    "         - **Motivate your choices**\n",
    "    - You should prepare a [jupyterLab notebook](https://jupyterlab.readthedocs.io/en/stable/), or colab notebook (which is the same thing) containing your analysis \n",
    "      - **Properly commenting/motivating each step with suitable comments**\n",
    "      - Similarly to what we do in the jupyterLab notebooks we use in our classes"
   ]
  },
  {
   "cell_type": "markdown",
   "metadata": {},
   "source": [
    "## Form your group!"
   ]
  },
  {
   "cell_type": "code",
   "execution_count": 2,
   "metadata": {},
   "outputs": [
    {
     "data": {
      "text/plain": [
       "'https://docs.google.com/document/d/1taUcfXay9nxM5br84SefGJ7U7tNkiNQ_gTHdVi2fBhk/edit?usp=sharing'"
      ]
     },
     "execution_count": 2,
     "metadata": {},
     "output_type": "execute_result"
    }
   ],
   "source": [
    "googleDoc=\"https://docs.google.com/document/d/1taUcfXay9nxM5br84SefGJ7U7tNkiNQ_gTHdVi2fBhk/edit?usp=sharing\"\n",
    "googleDoc"
   ]
  },
  {
   "cell_type": "code",
   "execution_count": 3,
   "metadata": {},
   "outputs": [
    {
     "data": {
      "text/html": [
       "\n",
       "        <iframe\n",
       "            width=\"1300\"\n",
       "            height=\"700\"\n",
       "            src=\"https://docs.google.com/document/d/1taUcfXay9nxM5br84SefGJ7U7tNkiNQ_gTHdVi2fBhk/edit?usp=sharing\"\n",
       "            frameborder=\"0\"\n",
       "            allowfullscreen\n",
       "            \n",
       "        ></iframe>\n",
       "        "
      ],
      "text/plain": [
       "<IPython.lib.display.IFrame at 0x7fda90251520>"
      ]
     },
     "execution_count": 3,
     "metadata": {},
     "output_type": "execute_result"
    }
   ],
   "source": [
    "from IPython.display import IFrame\n",
    "IFrame(googleDoc, 1300, 700)"
   ]
  }
 ],
 "metadata": {
  "kernelspec": {
   "display_name": "env_iproml_2022",
   "language": "python",
   "name": "env_iproml_2022"
  },
  "language_info": {
   "codemirror_mode": {
    "name": "ipython",
    "version": 3
   },
   "file_extension": ".py",
   "mimetype": "text/x-python",
   "name": "python",
   "nbconvert_exporter": "python",
   "pygments_lexer": "ipython3",
   "version": "3.9.10"
  },
  "toc-autonumbering": true
 },
 "nbformat": 4,
 "nbformat_minor": 4
}
