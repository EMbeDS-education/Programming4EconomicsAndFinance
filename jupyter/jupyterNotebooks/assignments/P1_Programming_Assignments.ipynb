{
 "cells": [
  {
   "cell_type": "markdown",
   "id": "250e8b32-65bb-4dce-9a5d-30ba95f4ddd6",
   "metadata": {
    "tags": []
   },
   "source": [
    "<center><font size=\"+4\">Programming for Economics and Finance 23/24</font></center>\n",
    "<center><font size=\"+2\">LM in Economics</font></center>\n",
    "<center><font size=\"+2\">Sant'Anna School of Advanced Studies, Pisa, Italy</font></center>\n",
    "<center><font size=\"+2\">Università di Pisa, Pisa, Italy</font></center>\n",
    "<center><img src=\"https://github.com/EMbeDS-education/ComputingDataAnalysisModeling20232024/raw/main/PDAI/jupyter/jupyterNotebooks/images/SSSA_LEMbeDS.png\" width=\"700\" alt=\"L'EMbeDS\"></center>\n",
    "\n",
    "<center><font size=\"+2\">Course responsible</font></center>\n",
    "<center><font size=\"+2\">Andrea Vandin a.vandin@santannapisa.it</font></center>\n",
    "\n",
    "---"
   ]
  },
  {
   "cell_type": "markdown",
   "id": "8b882236-0da1-4d40-915f-7af83b240625",
   "metadata": {
    "id": "PzTk_3lR7k5D"
   },
   "source": [
    "<center><font size=\"+4\">Assignments for</font></center>\n",
    "<center><font size=\"+4\">Part 1</font><br/></center>\n",
    "\n",
    "---\n"
   ]
  },
  {
   "cell_type": "code",
   "execution_count": null,
   "id": "ba748cb3-4f56-4e67-a19c-484a15bd1437",
   "metadata": {
    "cellView": "form",
    "colab": {
     "base_uri": "https://localhost:8080/"
    },
    "executionInfo": {
     "elapsed": 1975,
     "status": "ok",
     "timestamp": 1622909713233,
     "user": {
      "displayName": "Daniele Licari",
      "photoUrl": "https://lh3.googleusercontent.com/a-/AOh14GgLeN60kpJtdBKQxyRrU7GwxagDOGnFA3G3Z8BwMA=s64",
      "userId": "01113523768495748338"
     },
     "user_tz": -120
    },
    "id": "p666zbf89eCD",
    "outputId": "cafe9bca-03cf-4d92-f4cb-0e9aab51ab82"
   },
   "outputs": [],
   "source": [
    "#@title RUN, BUT DO NOT MODIFY\n",
    "urls = ['https://raw.githubusercontent.com/EMbeDS-education/Programming4EconomicsAndFinance/main/jupyter/jupyterNotebooks/assignments/auto_testing.py']\n",
    "\n",
    "import urllib.request\n",
    "from pathlib import Path\n",
    "\n",
    "for url in urls:\n",
    "    urllib.request.urlretrieve(url,Path(url).name)\n",
    "\n",
    "%reload_ext autoreload\n",
    "%autoreload 2\n",
    "from auto_testing import *\n",
    "\n",
    "#%pip install numpy\n",
    "#import numpy as np"
   ]
  },
  {
   "cell_type": "markdown",
   "id": "21f6e5f1-4724-4a1d-92f5-0403a55a7d95",
   "metadata": {},
   "source": [
    "<center><font size=\"+4\">01 Console IO</font></center>"
   ]
  },
  {
   "cell_type": "markdown",
   "id": "cff9ed46-6fa1-4c16-8160-e9194b55f965",
   "metadata": {
    "id": "Om177ojl7k5J"
   },
   "source": [
    "# Assignment 01.01: Ciao, mondo!\n",
    "## Statement\n",
    "\n",
    "Write a program that prints the Italian translation of `Hello, world!`. \n",
    "\n",
    "That is: `Ciao, mondo!`\n",
    "\n",
    "## Example input\n",
    "\n",
    "```\n",
    " \n",
    "```\n",
    "\n",
    "## Example output\n",
    "\n",
    "```\n",
    "Ciao, mondo!\n",
    "```\n",
    "\n",
    "## Theory\n",
    "\n",
    "Well, there is not much theory to use here. \n",
    "\n",
    "In the example, you can see how to print 'Hello, world!'."
   ]
  },
  {
   "cell_type": "markdown",
   "id": "827e4904-f543-44d4-b132-a898006242a3",
   "metadata": {
    "id": "FMZE1vmMbRLz"
   },
   "source": [
    "## Write your solution here\n",
    "\n",
    "\n",
    "*   Do not change the first line (`def ...():`)\n",
    "*   Maintain the given indentation\n",
    "*   Run the cell once you are done to load your solution\n",
    "*   You can run some tests by yourself by decommenting the last line\n",
    "\n"
   ]
  },
  {
   "cell_type": "code",
   "execution_count": null,
   "id": "ad205f8d-596a-436a-8ae5-ca1870c8a06a",
   "metadata": {
    "executionInfo": {
     "elapsed": 460,
     "status": "ok",
     "timestamp": 1622905638233,
     "user": {
      "displayName": "Daniele Licari",
      "photoUrl": "https://lh3.googleusercontent.com/a-/AOh14GgLeN60kpJtdBKQxyRrU7GwxagDOGnFA3G3Z8BwMA=s64",
      "userId": "01113523768495748338"
     },
     "user_tz": -120
    },
    "id": "Yg4jeBnA7k5K"
   },
   "outputs": [],
   "source": [
    "def asgn01_01Hello_world():\n",
    "    # This program prints 'Hello, world!':\n",
    "    print('Hello, world!')\n",
    "\n",
    "    # Can you change it so that it prints the same, \n",
    "    #but in Italian?\n",
    "    \n",
    "#You can test independently your solution by executing the following line\n",
    "#asgn01_01Hello_world()"
   ]
  },
  {
   "cell_type": "markdown",
   "id": "5be5fad4-a5ae-4050-b733-d98191ae9d8a",
   "metadata": {
    "id": "_lqTangP8R46"
   },
   "source": [
    "## Run the following cells to perform the provided tests"
   ]
  },
  {
   "cell_type": "code",
   "execution_count": null,
   "id": "172ef9f7-35d9-40fa-b5e3-d8f07aa9767a",
   "metadata": {
    "cellView": "form",
    "colab": {
     "base_uri": "https://localhost:8080/"
    },
    "executionInfo": {
     "elapsed": 11,
     "status": "ok",
     "timestamp": 1622905639328,
     "user": {
      "displayName": "Daniele Licari",
      "photoUrl": "https://lh3.googleusercontent.com/a-/AOh14GgLeN60kpJtdBKQxyRrU7GwxagDOGnFA3G3Z8BwMA=s64",
      "userId": "01113523768495748338"
     },
     "user_tz": -120
    },
    "id": "fwX9u8aW7k5L",
    "outputId": "241d2a05-543c-4496-a256-ad961b54f9d7"
   },
   "outputs": [],
   "source": [
    "#@title TEST 1 \n",
    "inputs=[]\n",
    "expected_outputs=[\"Ciao, mondo!\"]\n",
    "run_and_test(inputs,expected_outputs,asgn01_01Hello_world)"
   ]
  },
  {
   "cell_type": "markdown",
   "id": "a542ceb8-7f23-48ff-a952-144a9e850ef2",
   "metadata": {
    "id": "1JMDln-vIKRB"
   },
   "source": [
    "# Assignment 01.02: Hello, name1 name2\n",
    "## Statement\n",
    "\n",
    "Write a program that reads two names (one per line), and prints \n",
    "\n",
    "`'Hello, name1 name2'`, where `name1` and `name2` are the two read names.\n",
    "\n",
    "\n",
    "## Example input\n",
    "\n",
    "```\n",
    "Andrea\n",
    "```\n",
    "\n",
    "```\n",
    "Daniele\n",
    "```\n",
    "\n",
    "## Example output\n",
    "\n",
    "```\n",
    "Hello, Andrea Daniele\n",
    "```\n",
    "\n",
    "## Theory\n",
    "\n",
    "In the notebook shown in class, we have seen \n",
    "\n",
    "- how to read a name from console and print `Hello, name`\n",
    "- how to print more parts/sentences using a single `print()` \n",
    "\n",
    "You have to combine these two features."
   ]
  },
  {
   "cell_type": "markdown",
   "id": "c909ba0b-200d-4eab-9113-33dac4d6aaab",
   "metadata": {
    "id": "IROCYUDQb0t7"
   },
   "source": [
    "## Write your solution here\n",
    "\n",
    "\n",
    "*   Do not change the first line (`def ...():`)\n",
    "*   Maintain the given indentation\n",
    "*   Run the cell once you are done to load your solution\n",
    "*   You can run some tests by yourself by decommenting the last line\n",
    "\n"
   ]
  },
  {
   "cell_type": "code",
   "execution_count": null,
   "id": "d439550e-5492-466f-ae3e-a32764e7e19b",
   "metadata": {
    "executionInfo": {
     "elapsed": 255,
     "status": "ok",
     "timestamp": 1622905774690,
     "user": {
      "displayName": "Daniele Licari",
      "photoUrl": "https://lh3.googleusercontent.com/a-/AOh14GgLeN60kpJtdBKQxyRrU7GwxagDOGnFA3G3Z8BwMA=s64",
      "userId": "01113523768495748338"
     },
     "user_tz": -120
    },
    "id": "QtPMkR0aJRYv"
   },
   "outputs": [],
   "source": [
    "def asgn01_02Hello_name1_name2():\n",
    "    # This program reads one name, name1, and then prints \n",
    "    # 'Hello, name1':\n",
    "    name1=input()\n",
    "    print('Hello,', name1)\n",
    "\n",
    "    # Can you change it so that it reads two names, \n",
    "    # name1 and name2, and then prints prints \n",
    "    # 'Hello, name1 name2'?\n",
    "    \n",
    "#You can test independently your solution by executing the following line\n",
    "#asgn01_02Hello_name1_name2()"
   ]
  },
  {
   "cell_type": "markdown",
   "id": "cfbb63e0-fa11-4170-9224-40632295182a",
   "metadata": {
    "id": "HcoyoBpScQ7f"
   },
   "source": [
    "## Run the following cells to perform the provided tests"
   ]
  },
  {
   "cell_type": "code",
   "execution_count": null,
   "id": "d61862ee-258d-4a95-a7ab-21e1ea1b1670",
   "metadata": {
    "cellView": "form",
    "colab": {
     "base_uri": "https://localhost:8080/"
    },
    "executionInfo": {
     "elapsed": 322,
     "status": "ok",
     "timestamp": 1622905777520,
     "user": {
      "displayName": "Daniele Licari",
      "photoUrl": "https://lh3.googleusercontent.com/a-/AOh14GgLeN60kpJtdBKQxyRrU7GwxagDOGnFA3G3Z8BwMA=s64",
      "userId": "01113523768495748338"
     },
     "user_tz": -120
    },
    "id": "bMb_4CIDtvsp",
    "outputId": "5728d180-3d56-408b-8766-71de61594959"
   },
   "outputs": [],
   "source": [
    "#@title RUN and TEST ALL\n",
    "#@markdown 1. TEST Renzo Lucia\n",
    "#@markdown 2. TEST Andrea Daniele\n",
    "#@markdown 3. TEST Daniele Andrea\n",
    "\n",
    "\n",
    "\n",
    "inputs=[['Renzo','Lucia'],['Andrea','Daniele'],['Daniele','Andrea']]\n",
    "expected_outputs=[ [\"Hello, Renzo Lucia\"],[\"Hello, Andrea Daniele\"],[\"Hello, Daniele Andrea\"]]\n",
    "\n",
    "\n",
    "for k in range(len(inputs)):\n",
    "    print('-'*60)\n",
    "    run_and_test(inputs[k],expected_outputs[k],asgn01_02Hello_name1_name2)\n",
    "\n",
    "\n"
   ]
  },
  {
   "cell_type": "markdown",
   "id": "ded20ecb-1559-45d0-830e-f8ab5f753522",
   "metadata": {
    "id": "CvRjQW_ITQ8T"
   },
   "source": [
    "# Assignment 01.03: Hello, name1 and name2\n",
    "## Statement\n",
    "\n",
    "Write a program that reads two names (one per line), and prints \n",
    "\n",
    "`'Hello, name1 and name2'`, where `name1` and `name2` are the two read names.\n",
    "\n",
    "\n",
    "## Example input\n",
    "\n",
    "```\n",
    "Andrea\n",
    "```\n",
    "\n",
    "```\n",
    "Daniele\n",
    "```\n",
    "\n",
    "## Example output\n",
    "\n",
    "```\n",
    "Hello, Andrea and Daniele\n",
    "```\n",
    "\n",
    "## Theory\n",
    "\n",
    "In the notebook shown in class, we have seen \n",
    "\n",
    "- how to read one name from console and print `Hello, name`\n",
    "- how to print more parts/sentences using a single `print()` \n",
    "\n",
    "You have to combine these two features.\n",
    "\n",
    "Note that with respect to assignment 01.02 you have to add an 'and' between the two names."
   ]
  },
  {
   "cell_type": "markdown",
   "id": "4cc6136b-d7e5-4334-bcaa-fbb357070d07",
   "metadata": {
    "id": "Lr-UYAK6b18z"
   },
   "source": [
    "## Write your solution here\n",
    "\n",
    "\n",
    "*   Do not change the first line (`def ...():`)\n",
    "*   Maintain the given indentation\n",
    "*   Run the cell once you are done to load your solution\n",
    "*   You can run some tests by yourself by decommenting the last line\n",
    "\n"
   ]
  },
  {
   "cell_type": "code",
   "execution_count": null,
   "id": "432c4878-a0e3-49a5-aafa-c191ed22b090",
   "metadata": {
    "executionInfo": {
     "elapsed": 256,
     "status": "ok",
     "timestamp": 1622905844723,
     "user": {
      "displayName": "Daniele Licari",
      "photoUrl": "https://lh3.googleusercontent.com/a-/AOh14GgLeN60kpJtdBKQxyRrU7GwxagDOGnFA3G3Z8BwMA=s64",
      "userId": "01113523768495748338"
     },
     "user_tz": -120
    },
    "id": "ghJWGiEPUD9v"
   },
   "outputs": [],
   "source": [
    "def asgn01_03Hello_name1_and_name2():\n",
    "    # This program reads one name, name1, and then prints 'Hello, name1':\n",
    "    name1=input()\n",
    "    print('Hello,', name1)\n",
    "\n",
    "    # Can you change it so that it reads two names, \n",
    "    # name1 and name2, and then prints prints \n",
    "    # 'Hello, name1 and name2'?\n",
    "\n",
    "    \n",
    "#You can test independently your solution by executing the following line\n",
    "#asgn01_03Hello_name1_and_name2()"
   ]
  },
  {
   "cell_type": "markdown",
   "id": "bd5e79db-181f-4431-95ab-6a65579d3559",
   "metadata": {
    "id": "XJA5H0ULcVAM"
   },
   "source": [
    "## Run the following cells to perform the provided tests"
   ]
  },
  {
   "cell_type": "code",
   "execution_count": null,
   "id": "0901489d-db18-4d1c-8f4d-ea6472e3a6fe",
   "metadata": {
    "cellView": "form",
    "colab": {
     "base_uri": "https://localhost:8080/"
    },
    "executionInfo": {
     "elapsed": 249,
     "status": "ok",
     "timestamp": 1622905865939,
     "user": {
      "displayName": "Daniele Licari",
      "photoUrl": "https://lh3.googleusercontent.com/a-/AOh14GgLeN60kpJtdBKQxyRrU7GwxagDOGnFA3G3Z8BwMA=s64",
      "userId": "01113523768495748338"
     },
     "user_tz": -120
    },
    "id": "TXNx80MMuVLI",
    "outputId": "74dac658-922e-4378-d216-1faf9fe6e2da"
   },
   "outputs": [],
   "source": [
    "#@title RUN and TEST ALL\n",
    "#@markdown 1. TEST Renzo Lucia\n",
    "#@markdown 2. TEST Andrea Daniele\n",
    "#@markdown 3. TEST Daniele Andrea\n",
    "\n",
    "\n",
    "\n",
    "inputs=[['Renzo','Lucia'],['Andrea','Daniele'],['Daniele','Andrea']]\n",
    "expected_outputs=[ [\"Hello, Renzo and Lucia\"],[\"Hello, Andrea and Daniele\"],[\"Hello, Daniele and Andrea\"]]\n",
    "\n",
    "\n",
    "for k in range(len(inputs)):\n",
    "    print('-'*60)\n",
    "    run_and_test(inputs[k],expected_outputs[k],asgn01_03Hello_name1_and_name2)\n",
    "\n",
    "\n"
   ]
  },
  {
   "cell_type": "markdown",
   "id": "5c188b2b-1852-4624-befa-0362b2de7352",
   "metadata": {},
   "source": [
    "<center><font size=\"+4\">02 Data types and Operations</font></center>"
   ]
  },
  {
   "cell_type": "markdown",
   "id": "56928d7b-1797-4e17-8774-609005a6827a",
   "metadata": {
    "id": "Om177ojl7k5J"
   },
   "source": [
    "# Assignment 02.01: Sum of three numbers\n",
    "## Statement\n",
    "\n",
    "Write a program that takes three numbers and prints their sum. \n",
    "\n",
    "Every number is given on a separate line.\n",
    "\n",
    "## Example input\n",
    "\n",
    "```\n",
    "2\n",
    "3\n",
    "6\n",
    "```\n",
    "    \n",
    "## Example output\n",
    "\n",
    "```\n",
    "11\n",
    "```\n",
    "\n",
    "## Hint\n",
    "The program already shows you how to read and sum two integers.\n",
    "\n",
    "You have to extend it allowing for a third input."
   ]
  },
  {
   "cell_type": "markdown",
   "id": "5dca31f6-8eef-4919-9532-d593e42a6c42",
   "metadata": {
    "id": "FMZE1vmMbRLz"
   },
   "source": [
    "## Write your solution here\n",
    "\n",
    "\n",
    "*   Do not change the first line (`def ...():`)\n",
    "*   Maintain the given indentation\n",
    "*   You can run some tests by yourself by decommenting the last line\n",
    "\n"
   ]
  },
  {
   "cell_type": "code",
   "execution_count": null,
   "id": "b7996cbc-c30d-4c0a-8643-77ee7fa3816e",
   "metadata": {
    "executionInfo": {
     "elapsed": 22,
     "status": "ok",
     "timestamp": 1622903531240,
     "user": {
      "displayName": "Daniele Licari",
      "photoUrl": "https://lh3.googleusercontent.com/a-/AOh14GgLeN60kpJtdBKQxyRrU7GwxagDOGnFA3G3Z8BwMA=s64",
      "userId": "01113523768495748338"
     },
     "user_tz": -120
    },
    "id": "Yg4jeBnA7k5K"
   },
   "outputs": [],
   "source": [
    "def asgn02_01Sum_of_three_numbers():\n",
    "    # This program reads two numbers and prints their sum:\n",
    "    a = int(input())\n",
    "    b = int(input())\n",
    "    print(a + b)\n",
    "    # Can you change it so it can read and sum three numbers?\n",
    "\n",
    "\n",
    "#You can test independently your solution by executing the following line\n",
    "#asgn02_01Sum_of_three_numbers()"
   ]
  },
  {
   "cell_type": "markdown",
   "id": "3e7b4f84-3464-48de-b6c1-a5690bd680aa",
   "metadata": {
    "id": "_lqTangP8R46"
   },
   "source": [
    "## Run the following cells to perform the provided tests"
   ]
  },
  {
   "cell_type": "code",
   "execution_count": null,
   "id": "eac067e3-a9f2-4305-a18c-4bb5847be91e",
   "metadata": {
    "cellView": "form",
    "id": "fwX9u8aW7k5L"
   },
   "outputs": [],
   "source": [
    "#@title RUN and TEST ALL\n",
    "#@markdown 1. TEST 1+2+3 = 6 \n",
    "#@markdown 2. TEST -1+-2+10 = 7\n",
    "#@markdown 3. TEST 2+3+6 = 11\n",
    "#@markdown 4. TEST 0+300+20 = 320\n",
    "\n",
    "\n",
    "inputs=[[1,2,3],[-1,-2,10],[2,3,6],[0,300,20]]\n",
    "expected_outputs=[ [\"6\"],[\"7\"],[\"11\"],[\"320\"]]\n",
    "\n",
    "for k in range(len(inputs)):\n",
    "    print('-'*60)\n",
    "    run_and_test(inputs[k],expected_outputs[k],asgn02_01Sum_of_three_numbers)\n",
    "\n",
    "\n"
   ]
  },
  {
   "cell_type": "markdown",
   "id": "d37e6848-3925-4f3e-b7f7-f1cf2ac69d91",
   "metadata": {
    "id": "1JMDln-vIKRB"
   },
   "source": [
    "# Assignment 02.02: Area of right triangle\n",
    "## Statement\n",
    "\n",
    "Write a program that reads the length of the base and the height of a right-angled triangle and prints the area. Every number is given on a separate line.\n",
    "\n",
    " \n",
    "\n",
    "## Example input\n",
    "\n",
    "```\n",
    "3\n",
    "5\n",
    "```\n",
    "\n",
    "## Example output\n",
    "\n",
    "```\n",
    "7.5\n",
    "```\n",
    "\n",
    "## Hints\n",
    "\n",
    "In class we have seen how to read numbers and how to compute arithmetic expressions. \n",
    "\n",
    "Just provide the code to read the necessary input and to compute the required expression."
   ]
  },
  {
   "cell_type": "markdown",
   "id": "82a3ce78-1842-42f6-b5df-14294e51137f",
   "metadata": {
    "id": "IROCYUDQb0t7"
   },
   "source": [
    "## Write your solution here\n",
    "\n",
    "\n",
    "*   Do not change the first line (`def ...():`)\n",
    "*   Maintain the given indentation\n",
    "*   You can run some tests by yourself by decommenting the last line\n",
    "\n"
   ]
  },
  {
   "cell_type": "code",
   "execution_count": null,
   "id": "99806edf-4455-47bf-a78a-ca381a82fa9a",
   "metadata": {
    "executionInfo": {
     "elapsed": 412,
     "status": "ok",
     "timestamp": 1622903813863,
     "user": {
      "displayName": "Daniele Licari",
      "photoUrl": "https://lh3.googleusercontent.com/a-/AOh14GgLeN60kpJtdBKQxyRrU7GwxagDOGnFA3G3Z8BwMA=s64",
      "userId": "01113523768495748338"
     },
     "user_tz": -120
    },
    "id": "QtPMkR0aJRYv"
   },
   "outputs": [],
   "source": [
    "def asgn02_02Area_of_right_triangle():\n",
    "    # Read the numbers b and h like this:\n",
    "    b = int(input())\n",
    "\n",
    "    # Print the result with print()\n",
    "    print('ciao')\n",
    "\n",
    "    \n",
    "#You can test independently your solution by executing the following line\n",
    "#asgn02_02Area_of_right_triangle()"
   ]
  },
  {
   "cell_type": "markdown",
   "id": "fd3022cd-3160-438b-8b73-b0e2fa6256d7",
   "metadata": {
    "id": "HcoyoBpScQ7f"
   },
   "source": [
    "## Run the following cells to perform the provided tests"
   ]
  },
  {
   "cell_type": "code",
   "execution_count": null,
   "id": "4e2291e4-e55e-4a6e-bc7d-817d66cca1be",
   "metadata": {
    "cellView": "form",
    "id": "eSTVUwPMJiEZ"
   },
   "outputs": [],
   "source": [
    "#@title RUN and TEST ALL\n",
    "#@markdown 1. TEST 0,0 = 0\n",
    "#@markdown 2. TEST 3,5 = 7.5\n",
    "#@markdown 3. TEST 10,2 = 10.0\n",
    "#@markdown 4. TEST 179,1534 = 137293.0\n",
    "#@markdown 5. TEST 1543,57 = 43975.5\n",
    "\n",
    "inputs=[[0,0],[3,5], [10,2],[179,1534], [1543,57]]\n",
    "expected_outputs=[ [\"0.0\"],[\"7.5\"], [\"10.0\"], ['137293.0'],[\"43975.5\"]]\n",
    "\n",
    "for k in range(len(inputs)):\n",
    "    print('-'*60)\n",
    "    run_and_test(inputs[k],expected_outputs[k],asgn02_02Area_of_right_triangle)\n",
    "\n",
    "\n"
   ]
  },
  {
   "cell_type": "markdown",
   "id": "a33dc00f-d840-4842-a030-edd980d0c2d0",
   "metadata": {
    "id": "CvRjQW_ITQ8T"
   },
   "source": [
    "# Assignment 02.03: Apple Sharing\n",
    "## Statement\n",
    "\n",
    "`Ns` students take `Na` apples and distribute them among each other evenly. \n",
    "\n",
    "The students do not have knives, therefore only whole apples can be distributed. The remaining (the indivisible) part remains in the basket. \n",
    "\n",
    "- How many apples will every student get? \n",
    "- How many apples will remain in the basket?\n",
    "\n",
    "Write a program that reads the numbers `Ns` and `Na` given in two lines. \n",
    "\n",
    "The program should print the answers to the questions above in two lines.\n",
    "\n",
    "\n",
    "## Example input\n",
    "\n",
    "```\n",
    "6\n",
    "50\n",
    "```\n",
    "\n",
    "## Example output\n",
    "\n",
    "```\n",
    "8\n",
    "2\n",
    "```\n",
    "\n",
    "This is because 50 over 6 is 8 with the remainder of 2.\n",
    "\n"
   ]
  },
  {
   "cell_type": "markdown",
   "id": "4ba7b531-15c0-41ca-a3b4-37135e30bcf3",
   "metadata": {
    "id": "Lr-UYAK6b18z"
   },
   "source": [
    "## Write your solution here\n",
    "\n",
    "\n",
    "*   Do not change the first line (`def ...():`)\n",
    "*   Maintain the given indentation\n",
    "*   You can run some tests by yourself by decommenting the last line\n",
    "\n"
   ]
  },
  {
   "cell_type": "code",
   "execution_count": null,
   "id": "87742525-2f23-4b3b-a57f-cb3ce985dc6d",
   "metadata": {
    "executionInfo": {
     "elapsed": 424,
     "status": "ok",
     "timestamp": 1622903961442,
     "user": {
      "displayName": "Daniele Licari",
      "photoUrl": "https://lh3.googleusercontent.com/a-/AOh14GgLeN60kpJtdBKQxyRrU7GwxagDOGnFA3G3Z8BwMA=s64",
      "userId": "01113523768495748338"
     },
     "user_tz": -120
    },
    "id": "ghJWGiEPUD9v"
   },
   "outputs": [],
   "source": [
    "def asgn02_03Apple_sharing():\n",
    "    # Read the numbers like this:\n",
    "    Ns = int(input())\n",
    "\n",
    "    # Print the result with print()\n",
    "    print(63 * 5)\n",
    "\n",
    "    \n",
    "#You can test independently your solution by executing the following line\n",
    "#asgn02_03Apple_sharing()"
   ]
  },
  {
   "cell_type": "markdown",
   "id": "9033e69c-5ac6-4f6d-9451-63fdf20cfe1a",
   "metadata": {
    "id": "XJA5H0ULcVAM"
   },
   "source": [
    "## Run the following cells to perform the provided tests"
   ]
  },
  {
   "cell_type": "code",
   "execution_count": null,
   "id": "47277237-b4e2-46fe-a97f-3f321a3d43e4",
   "metadata": {
    "cellView": "form",
    "id": "Gzq6fN8PUD9w"
   },
   "outputs": [],
   "source": [
    "#@title RUN and TEST ALL\n",
    "#@markdown 1. TEST 6,50 = 8,2\n",
    "inputs=[6,50]\n",
    "expected_outputs=[\"8\",\"2\"]\n",
    "run_and_test(inputs,expected_outputs,asgn02_03Apple_sharing)\n",
    "\n",
    "#@markdown 2. TEST 1,10 = 10,0\n",
    "inputs=[1,10]\n",
    "expected_outputs=[\"10\",\"0\"]\n",
    "run_and_test(inputs,expected_outputs,asgn02_03Apple_sharing)\n",
    "\n",
    "#@markdown 3. TEST 5,25 = 5,0\n",
    "inputs=[5,25]\n",
    "expected_outputs=[\"5\",\"0\"]\n",
    "run_and_test(inputs,expected_outputs,asgn02_03Apple_sharing)\n",
    "\n",
    "#@markdown 4. TEST 4,2 = 0,2\n",
    "inputs=[4,2]\n",
    "expected_outputs=[\"0\",\"2\"]\n",
    "run_and_test(inputs,expected_outputs,asgn02_03Apple_sharing)\n",
    "\n",
    "#@markdown 5. TEST 4,17 = 4,1\n",
    "inputs=[4,17]\n",
    "expected_outputs=[\"4\",\"1\"]\n",
    "run_and_test(inputs,expected_outputs,asgn02_03Apple_sharing)"
   ]
  },
  {
   "cell_type": "markdown",
   "id": "298505ec-2787-4362-aadf-a128938931b8",
   "metadata": {
    "id": "vp1gh0-oW_Uz"
   },
   "source": [
    "# Assignment 02.04: Two Timestamps\n",
    "## Statement\n",
    "\n",
    "A timestamp consists of 3 integer numbers: \n",
    "\n",
    " hours\n",
    "\n",
    " minutes\n",
    "\n",
    " seconds\n",
    "\n",
    "Given two timestamps, we are interested in computing how much time passed between the two.\n",
    "\n",
    "Write a program that reads two timestamps, written in 3 lines each, and computes how many seconds passed between them. The computed elapsed seconds should be print on console.\n",
    "\n",
    "## Example input #1\n",
    "\n",
    "```\n",
    "1\n",
    "```\n",
    "\n",
    "```\n",
    "1\n",
    "```\n",
    "\n",
    "```\n",
    "1\n",
    "```\n",
    "\n",
    "```\n",
    "1\n",
    "```\n",
    "\n",
    "```\n",
    "1\n",
    "```\n",
    "\n",
    "```\n",
    "2\n",
    "```\n",
    "\n",
    "## Example output #1\n",
    "\n",
    "```\n",
    "1\n",
    "```\n",
    "\n",
    "In fact, the first timestamp reads '1 hour, 1 minute, 1 second', while the second reads '1 hour, 1 minute, 2 seconds'\n",
    "\n",
    "## Example input #2\n",
    "\n",
    "```\n",
    "1\n",
    "```\n",
    "\n",
    "```\n",
    "1\n",
    "```\n",
    "\n",
    "```\n",
    "1\n",
    "```\n",
    "\n",
    "```\n",
    "1\n",
    "```\n",
    "\n",
    "```\n",
    "2\n",
    "```\n",
    "\n",
    "```\n",
    "1\n",
    "```\n",
    "\n",
    "## Example output #2\n",
    "\n",
    "```\n",
    "60\n",
    "```\n",
    "\n",
    "In fact, the first timestamp reads '1 hour, 1 minute, 1 second', while the second reads '1 hour, 2 minutes, 1 seconds'. Therefore 1 minute passed\n",
    "\n",
    "## Example input #3\n",
    "\n",
    "```\n",
    "1\n",
    "```\n",
    "\n",
    "```\n",
    "1\n",
    "```\n",
    "\n",
    "```\n",
    "1\n",
    "```\n",
    "\n",
    "```\n",
    "2\n",
    "```\n",
    "\n",
    "```\n",
    "2\n",
    "```\n",
    "\n",
    "```\n",
    "2\n",
    "```\n",
    "\n",
    "## Example output #3\n",
    "\n",
    "```\n",
    "3661\n",
    "```\n",
    "\n",
    "## Example input #4\n",
    "\n",
    "```\n",
    "1\n",
    "```\n",
    "\n",
    "```\n",
    "2\n",
    "```\n",
    "\n",
    "```\n",
    "30\n",
    "```\n",
    "\n",
    "```\n",
    "1\n",
    "```\n",
    "\n",
    "```\n",
    "3\n",
    "```\n",
    "\n",
    "```\n",
    "20\n",
    "```\n",
    "\n",
    "## Example output #4\n",
    "\n",
    "```\n",
    "50\n",
    "```\n",
    "\n",
    "## Hints\n",
    "\n",
    "This assignment is about reading 2 timestamps (therefore 6 integers), converting each timestamp in seconds, and printing their difference. \n",
    "\n"
   ]
  },
  {
   "cell_type": "markdown",
   "id": "5b65d508-4727-4248-a8c0-d7d13509c83e",
   "metadata": {
    "id": "yxSBbjLHb3oD"
   },
   "source": [
    "## Write your solution here\n",
    "\n",
    "\n",
    "*   Do not change the first line (`def ...():`)\n",
    "*   Maintain the given indentation\n",
    "*   You can run some tests by yourself by decommenting the last line\n",
    "\n"
   ]
  },
  {
   "cell_type": "code",
   "execution_count": null,
   "id": "4b2eabca-0c41-43b3-a7fe-5190e1478fc3",
   "metadata": {
    "executionInfo": {
     "elapsed": 407,
     "status": "ok",
     "timestamp": 1622906030486,
     "user": {
      "displayName": "Daniele Licari",
      "photoUrl": "https://lh3.googleusercontent.com/a-/AOh14GgLeN60kpJtdBKQxyRrU7GwxagDOGnFA3G3Z8BwMA=s64",
      "userId": "01113523768495748338"
     },
     "user_tz": -120
    },
    "id": "JJGLyJRHXpUj"
   },
   "outputs": [],
   "source": [
    "def asgn02_04Two_timestamps():\n",
    "    # Read an integer:\n",
    "    a = int(input())\n",
    "    Print a value:\n",
    "    print(a)\n",
    "\n",
    "    \n",
    "#You can test independently your solution by executing the following line\n",
    "#asgn02_04Two_timestamps()"
   ]
  },
  {
   "cell_type": "markdown",
   "id": "cfbdc04c-5bac-4b18-ac47-4359c69a5247",
   "metadata": {
    "id": "1h-DDMvJcZLw"
   },
   "source": [
    "## Run the following cells to perform the provided tests"
   ]
  },
  {
   "cell_type": "code",
   "execution_count": null,
   "id": "433c9a52-54cf-4ab3-a589-adc8e7c9d16e",
   "metadata": {
    "cellView": "form",
    "id": "fIAFSI4iu59P"
   },
   "outputs": [],
   "source": [
    "#@title RUN and TEST ALL\n",
    "\n",
    "from IPython.display import display, Markdown \n",
    "\n",
    "inputs=[[1,1,1,1,1,2],[1,1,1,2,2,2],[1,2,30,1,3,20],[6,54,4,14,18,42],[1,49,28,14,7,55],[4,16,9,12,6,7],[5,13,38,5,13,38]]\n",
    "expected_outputs=[ [\"1\"],[\"3661\"],[\"50\"],[\"26678\"],[\"44307\"],[\"28198\"],[\"0\"]]\n",
    "    \n",
    "for k in range(len(inputs)):\n",
    "    display(Markdown(f'{k+1}. TEST {inputs[k]} = {expected_outputs[k][0]}'))\n",
    "    print('-'*60)\n",
    "    run_and_test(inputs[k],expected_outputs[k],asgn02_04Two_timestamps)\n",
    "\n",
    "\n"
   ]
  },
  {
   "cell_type": "markdown",
   "id": "eafebaad-6b13-47ee-91a2-a329b950bc4d",
   "metadata": {
    "id": "OnrjmucdZwi7"
   },
   "source": [
    "# Assignment 02.05: Playing with strings\n",
    "## Statement\n",
    "\n",
    "You are given a string containing at least 5 characters.\n",
    "\n",
    "1. In the first line, print the third character of this string.\n",
    "2. In the second line, print the second to last character of this string (the second-last).\n",
    "3. In the third line, print the first five characters of this string.\n",
    "4. In the fourth line, print all but the last two characters of this string.\n",
    "5. In the fifth line, print the word with all characters in upper-case\n",
    "6. In the sixth line, print the word with all characters in lower-case\n",
    "7. In the eigth line, print the length of the given string.\n",
    "\n",
    "## Example input\n",
    "\n",
    "```\n",
    "Abrakadabra\n",
    "```\n",
    "\n",
    "## Example output\n",
    "\n",
    "```\n",
    "r\n",
    "r\n",
    "Abrak\n",
    "Abrakadab\n",
    "```\n",
    "\n",
    "```\n",
    "ABRAKADABRA\n",
    "```\n",
    "\n",
    "```\n",
    "abrakadabra\n",
    "11\n",
    "```\n",
    "\n",
    "## Hints\n",
    "\n",
    "In class we have seen how to perform all the required tasks. Review the used jupyter file. \n",
    "\n",
    "Remember: we start counting characters from 0 to len-1, where len is the length of the string."
   ]
  },
  {
   "cell_type": "markdown",
   "id": "725c6869-fd5d-4660-a80d-606788a000d6",
   "metadata": {
    "id": "BvlV5RRBcH1P"
   },
   "source": [
    "## Write your solution here\n",
    "\n",
    "\n",
    "*   Do not change the first line (`def ...():`)\n",
    "*   Maintain the given indentation\n",
    "*   You can run some tests by yourself by decommenting the last line\n",
    "\n"
   ]
  },
  {
   "cell_type": "code",
   "execution_count": null,
   "id": "ed856ee3-4b00-4beb-b10c-c37a0ae687a5",
   "metadata": {
    "executionInfo": {
     "elapsed": 411,
     "status": "ok",
     "timestamp": 1622906826650,
     "user": {
      "displayName": "Daniele Licari",
      "photoUrl": "https://lh3.googleusercontent.com/a-/AOh14GgLeN60kpJtdBKQxyRrU7GwxagDOGnFA3G3Z8BwMA=s64",
      "userId": "01113523768495748338"
     },
     "user_tz": -120
    },
    "id": "xAc9tpVkaEi7"
   },
   "outputs": [],
   "source": [
    "def asgn02_05Playing_with_strings():\n",
    "    # Read a string:\n",
    "    s = input()\n",
    "    # Print a string:\n",
    "    print(s)\n",
    "\n",
    "    \n",
    "#You can test independently your solution by executing the following line\n",
    "#asgn02_05Playing_with_strings()"
   ]
  },
  {
   "cell_type": "markdown",
   "id": "0d06b79b-6c86-4b61-91c7-e9836be1c758",
   "metadata": {
    "id": "6woM9-0Rcbn-"
   },
   "source": [
    "## Run the following cells to perform the provided tests"
   ]
  },
  {
   "cell_type": "code",
   "execution_count": null,
   "id": "991c0ea5-1dc2-467a-9581-b7676d8c4dbb",
   "metadata": {
    "cellView": "form",
    "id": "kJwgXas5yBoh"
   },
   "outputs": [],
   "source": [
    "#@title RUN and TEST ALL\n",
    "\n",
    "from IPython.display import display, Markdown \n",
    "\n",
    "inputs=[[\"Abrakadabra\"],[\"Hello\"],[\"qwertyuiop\"],[\"asdfghjklzxcv\"]]\n",
    "expected_outputs=[ [\"r\",\"r\",\"Abrak\",\"Abrakadab\",\"ABRAKADABRA\",\"abrakadabra\",\"11\"], \\\n",
    "                  [\"l\",\"l\",\"Hello\",\"Hel\",\"HELLO\",\"hello\",\"5\"], \\\n",
    "                  [\"e\",\"o\",\"qwert\",\"qwertyui\",\"QWERTYUIOP\",\"qwertyuiop\",\"10\"],\\\n",
    "                  [\"d\",\"c\",\"asdfg\",\"asdfghjklzx\",\"ASDFGHJKLZXCV\",\"asdfghjklzxcv\",\"13\"]]\n",
    "    \n",
    "\n",
    "\n",
    "for k in range(len(inputs)):\n",
    "    display(Markdown(f'{k+1}. TEST {inputs[k]} = {\",\".join(expected_outputs[k])}'))\n",
    "    print('-'*60)\n",
    "    run_and_test(inputs[k],expected_outputs[k],asgn02_05Playing_with_strings)\n",
    "\n"
   ]
  },
  {
   "cell_type": "markdown",
   "id": "ca16b15e-a6fc-4b79-a616-f6856b3d9d54",
   "metadata": {},
   "source": [
    "<center><font size=\"+4\">03 Collections</font></center>"
   ]
  },
  {
   "cell_type": "markdown",
   "id": "844c9db6-b5fb-48a8-8d8f-6b4967c0b5c7",
   "metadata": {
    "id": "Om177ojl7k5J",
    "tags": []
   },
   "source": [
    "# Assignment 03.01: Play with lists\n",
    "## Statement\n",
    "\n",
    "Write a program that \n",
    "\n",
    "- Reads two integers `a` and `b`\n",
    "  -  prints `a` and `b`\n",
    "- Creates a list (`lst1`) of 10 elements containing value 0 in each entry\n",
    "  -   sets to value `a` the entries in position 1 and 3\n",
    "  -   sets to value `b` the entries in position 2 and 4 \n",
    "  -   prints this list\n",
    "- Creates a list (`lst2`) of 10 elements containing values from 0 to 9 included\n",
    "  -   prints this list\n",
    "- Prints `True` if the `lst1` is smaller than `lst2`, and `False` otherwise\n",
    "- Concatenates the two lists in list `lst3`\n",
    "  -   prints `lst3`\n",
    "\n",
    "## Example input 1\n",
    "\n",
    "```\n",
    "1\n",
    "```\n",
    "\n",
    "```\n",
    "2\n",
    "```\n",
    "\n",
    "## Example output 1\n",
    "\n",
    "```\n",
    "1\n",
    "2\n",
    "[0, 1, 2, 1, 2, 0, 0, 0, 0, 0]\n",
    "[0, 1, 2, 3, 4, 5, 6, 7, 8, 9]\n",
    "True\n",
    "[0, 1, 2, 1, 2, 0, 0, 0, 0, 0, 0, 1, 2, 3, 4, 5, 6, 7, 8, 9]\n",
    "```\n",
    "\n",
    "## Example input 2\n",
    "\n",
    "```\n",
    "2\n",
    "```\n",
    "\n",
    "```\n",
    "1\n",
    "```\n",
    "\n",
    "## Example output 2\n",
    "\n",
    "```\n",
    "2\n",
    "1\n",
    "[0, 2, 1, 2, 1, 0, 0, 0, 0, 0]\n",
    "[0, 1, 2, 3, 4, 5, 6, 7, 8, 9]\n",
    "False\n",
    "[0, 2, 1, 2, 1, 0, 0, 0, 0, 0, 0, 1, 2, 3, 4, 5, 6, 7, 8, 9]\n",
    "```"
   ]
  },
  {
   "cell_type": "markdown",
   "id": "282beff5-2d59-4c36-9ae1-5510b9ae55e2",
   "metadata": {
    "id": "FMZE1vmMbRLz"
   },
   "source": [
    "## Write your solution here\n",
    "\n",
    "\n",
    "*   Do not change the first line (`def ...():`)\n",
    "*   Maintain the given indentation\n",
    "*   You can run some tests by yourself by decommenting the last line\n",
    "\n"
   ]
  },
  {
   "cell_type": "code",
   "execution_count": null,
   "id": "07096b50-23e3-47b9-a184-a9c52f1b9f8b",
   "metadata": {
    "executionInfo": {
     "elapsed": 299,
     "status": "ok",
     "timestamp": 1622907778479,
     "user": {
      "displayName": "Daniele Licari",
      "photoUrl": "https://lh3.googleusercontent.com/a-/AOh14GgLeN60kpJtdBKQxyRrU7GwxagDOGnFA3G3Z8BwMA=s64",
      "userId": "01113523768495748338"
     },
     "user_tz": -120
    },
    "id": "Yg4jeBnA7k5K"
   },
   "outputs": [],
   "source": [
    "def asgn03_01Play_with_lists():\n",
    "    # This program reads a number and prints it\n",
    "    a = int(input())\n",
    "    print(a)\n",
    "\n",
    "    # Change it according to the assignment description\n",
    "\n",
    "    \n",
    "#You can test independently your solution by executing the following line\n",
    "#asgn03_01Play_with_lists()"
   ]
  },
  {
   "cell_type": "markdown",
   "id": "979f7925-23d0-4e73-91b1-0c1cd56d6303",
   "metadata": {
    "id": "_lqTangP8R46"
   },
   "source": [
    "## Run the following cells to perform the provided tests"
   ]
  },
  {
   "cell_type": "code",
   "execution_count": null,
   "id": "3c20b907-a9ee-4b95-a28c-0260e4eff4f5",
   "metadata": {
    "cellView": "form",
    "id": "jXudwlHM1d0b"
   },
   "outputs": [],
   "source": [
    "#@title RUN and TEST ALL\n",
    "\n",
    "from IPython.display import display, Markdown \n",
    "\n",
    "\n",
    "\n",
    "inputs=[[0,0],[1,2],[2,1]]\n",
    "expected_outputs=[[\"0\",\"0\",\"[0, 0, 0, 0, 0, 0, 0, 0, 0, 0]\",\"[0, 1, 2, 3, 4, 5, 6, 7, 8, 9]\",\"True\",\"[0, 0, 0, 0, 0, 0, 0, 0, 0, 0, 0, 1, 2, 3, 4, 5, 6, 7, 8, 9]\"],\\\n",
    "                  [\"1\",\"2\",\"[0, 1, 2, 1, 2, 0, 0, 0, 0, 0]\",\"[0, 1, 2, 3, 4, 5, 6, 7, 8, 9]\",\"True\",\"[0, 1, 2, 1, 2, 0, 0, 0, 0, 0, 0, 1, 2, 3, 4, 5, 6, 7, 8, 9]\"], \\\n",
    "                  [\"2\",\"1\",\"[0, 2, 1, 2, 1, 0, 0, 0, 0, 0]\",\"[0, 1, 2, 3, 4, 5, 6, 7, 8, 9]\",\"False\",\"[0, 2, 1, 2, 1, 0, 0, 0, 0, 0, 0, 1, 2, 3, 4, 5, 6, 7, 8, 9]\"]]\n",
    "    \n",
    "for k in range(len(inputs)):\n",
    "    display(Markdown(f'{k+1}. TEST {inputs[k]} = {\",\".join(expected_outputs[k])}'))\n",
    "    print('-'*60)\n",
    "    run_and_test(inputs[k],expected_outputs[k],asgn03_01Play_with_lists)\n"
   ]
  },
  {
   "cell_type": "markdown",
   "id": "1da4e347-8d25-4f22-a1dc-a827f7727296",
   "metadata": {
    "id": "1gbFXDIc1AvN"
   },
   "source": [
    "# Assignment 03.02: Play with lists and sets\n",
    "## Statement\n",
    "\n",
    "Write a program that \n",
    "\n",
    "- Reads a string `s` \n",
    "- Creates a list `lst` containing as elements the characters in `s` in the same order in which they appear in `s`\n",
    "  -  sets the string `'1'` as the value of the first entry of `lst`\n",
    "  -  prints `lst`\n",
    "- Creates a set `st` containing the characters in the list\n",
    "  -  prints the length of `st`\n",
    "  -  prints the minimum element in `st`\n",
    "  -  prints the maximum element in `st`\n",
    "- Creates a list `lst2` containing the elements in `st` \n",
    "  -  prints the length of `lst2`\n",
    "  -  prints the minimum element in `lst2`\n",
    "  -  prints the maximum element in `lst2`\n",
    "  -  sorts `lst2` \n",
    "  - appends string `'!'` at the end of `lst2`\n",
    "  - prints `lst2`\n",
    "\n",
    "## Example input 1\n",
    "\n",
    "```\n",
    "abba\n",
    "```\n",
    "\n",
    "## Example output 1\n",
    "\n",
    "```\n",
    "['1', 'b', 'b', 'a']\n",
    "3\n",
    "1\n",
    "b\n",
    "3\n",
    "1\n",
    "b\n",
    "['1', 'a', 'b', '!']\n",
    "```\n",
    "\n",
    "## Example input 2\n",
    "\n",
    "```\n",
    "ciaomondo\n",
    "```\n",
    "\n",
    "## Example output 2\n",
    "\n",
    "```\n",
    "['1', 'i', 'a', 'o', 'm', 'o', 'n', 'd', 'o']\n",
    "7\n",
    "1\n",
    "o\n",
    "7\n",
    "1\n",
    "o\n",
    "['1', 'a', 'd', 'i', 'm', 'n', 'o', '!']\n",
    "```"
   ]
  },
  {
   "cell_type": "markdown",
   "id": "45f9d9b7-dd67-42b9-a8cf-6de0c0329cc9",
   "metadata": {
    "id": "xbNNQEKB1AvO"
   },
   "source": [
    "## Write your solution here\n",
    "\n",
    "\n",
    "*   Do not change the first line (`def ...():`)\n",
    "*   Maintain the given indentation\n",
    "*   You can run some tests by yourself by decommenting the last line\n",
    "\n"
   ]
  },
  {
   "cell_type": "code",
   "execution_count": null,
   "id": "152baea9-7a6c-42a3-8851-c19fce4b6941",
   "metadata": {
    "executionInfo": {
     "elapsed": 298,
     "status": "ok",
     "timestamp": 1622907987211,
     "user": {
      "displayName": "Daniele Licari",
      "photoUrl": "https://lh3.googleusercontent.com/a-/AOh14GgLeN60kpJtdBKQxyRrU7GwxagDOGnFA3G3Z8BwMA=s64",
      "userId": "01113523768495748338"
     },
     "user_tz": -120
    },
    "id": "2oPAwQnA1AvQ"
   },
   "outputs": [],
   "source": [
    "def asgn03_02Play_with_lists_and_sets():\n",
    "    # This program reads a number and prints it\n",
    "    a = int(input())\n",
    "    print(a)\n",
    "\n",
    "    # Change it according to the assignment description\n",
    "\n",
    "    \n",
    "#You can test independently your solution by executing the following line\n",
    "#asgn03_02Play_with_lists_and_sets()"
   ]
  },
  {
   "cell_type": "markdown",
   "id": "d9797d62-5a4d-4364-9e43-c5b35ba901c2",
   "metadata": {
    "id": "EM2saB-Q1AvS"
   },
   "source": [
    "## Run the following cells to perform the provided tests"
   ]
  },
  {
   "cell_type": "code",
   "execution_count": null,
   "id": "779fe22b-953a-448a-8ff9-5473578d2b75",
   "metadata": {
    "cellView": "form",
    "id": "Yx7BMqsK2w2a"
   },
   "outputs": [],
   "source": [
    "#@title RUN and TEST ALL\n",
    "\n",
    "from IPython.display import display, Markdown \n",
    "\n",
    "\n",
    "\n",
    "inputs=[['abba'],['ciaomondo']]\n",
    "expected_outputs=[[\"['1', 'b', 'b', 'a']\",\"3\",\"1\",\"b\",\"3\",\"1\",\"b\",\"['1', 'a', 'b', '!']\"],\\\n",
    "                  [\"['1', 'i', 'a', 'o', 'm', 'o', 'n', 'd', 'o']\",\"7\",\"1\",\"o\",\"7\",\"1\",\"o\",\"['1', 'a', 'd', 'i', 'm', 'n', 'o', '!']\"], \\\n",
    "                  ]\n",
    "    \n",
    "for k in range(len(inputs)):\n",
    "    display(Markdown(f'{k+1}. TEST {inputs[k]} = {\",\".join(expected_outputs[k])}'))\n",
    "    print('-'*60)\n",
    "    run_and_test(inputs[k],expected_outputs[k],asgn03_02Play_with_lists_and_sets)\n"
   ]
  },
  {
   "cell_type": "markdown",
   "id": "21858bc6-c359-4a3b-abe4-23f6070a7907",
   "metadata": {
    "id": "I_rb-LdZ1AvT"
   },
   "source": [
    "# Assignment 03.03: Play with matrices\n",
    "## Statement\n",
    "\n",
    "Write a program that reads a string of digits `s`, and creates a 2-dimensional list (a matrix of size 2 times the length of s) containing\n",
    "\n",
    "- in the first row: the digits in `s`\n",
    "- in the second row: twice the value of each digit in `s` \n",
    "\n",
    "Finally, your program should print the list\n",
    "\n",
    "## Example input 1\n",
    "\n",
    "```\n",
    "123\n",
    "```\n",
    "\n",
    "## Example output 1\n",
    "\n",
    "```\n",
    "[[1, 2, 3], [2, 4, 6]]\n",
    "```\n",
    "\n",
    "## Example input 2\n",
    "\n",
    "```\n",
    "12345\n",
    "```\n",
    "\n",
    "## Example output 2\n",
    "\n",
    "```\n",
    "[[1, 2, 3, 4, 5], [2, 4, 6, 8, 10]]\n",
    "```"
   ]
  },
  {
   "cell_type": "markdown",
   "id": "474a9fca-5fda-44a7-b9a9-b7942897663e",
   "metadata": {
    "id": "64D4QYED1AvV"
   },
   "source": [
    "## Write your solution here\n",
    "\n",
    "\n",
    "*   Do not change the first line (`def ...():`)\n",
    "*   Maintain the given indentation\n",
    "*   You can run some tests by yourself by decommenting the last line\n",
    "\n"
   ]
  },
  {
   "cell_type": "code",
   "execution_count": null,
   "id": "2a46ed3a-2578-462e-85c5-2d9e8ba392fd",
   "metadata": {
    "executionInfo": {
     "elapsed": 260,
     "status": "ok",
     "timestamp": 1622908216846,
     "user": {
      "displayName": "Daniele Licari",
      "photoUrl": "https://lh3.googleusercontent.com/a-/AOh14GgLeN60kpJtdBKQxyRrU7GwxagDOGnFA3G3Z8BwMA=s64",
      "userId": "01113523768495748338"
     },
     "user_tz": -120
    },
    "id": "lLGrP5_U1AvV"
   },
   "outputs": [],
   "source": [
    "def asgn03_03Play_with_matrices():\n",
    "    # This program reads a number and prints it\n",
    "    s = input()\n",
    "\n",
    "    # Change it according to the assignment description\n",
    "    \n",
    "    \n",
    "#You can test independently your solution by executing the following line\n",
    "#asgn03_03Play_with_matrices()"
   ]
  },
  {
   "cell_type": "markdown",
   "id": "f256e035-7f02-4109-8f9b-bdb2ecd4c139",
   "metadata": {
    "id": "k1K96Xbd1AvY"
   },
   "source": [
    "## Run the following cells to perform the provided tests"
   ]
  },
  {
   "cell_type": "code",
   "execution_count": null,
   "id": "d141f9a7-b9a4-4a42-a667-5c6f1f60d506",
   "metadata": {
    "cellView": "form",
    "id": "l94WkQtE3McZ"
   },
   "outputs": [],
   "source": [
    "#@title RUN and TEST ALL\n",
    "\n",
    "from IPython.display import display, Markdown \n",
    "\n",
    "\n",
    "\n",
    "inputs=[['123'],['12345'],['56734']]\n",
    "expected_outputs=[[\"[[1, 2, 3], [2, 4, 6]]\"],\\\n",
    "                  [\"[[1, 2, 3, 4, 5], [2, 4, 6, 8, 10]]\"], \\\n",
    "                  [\"[[5, 6, 7, 3, 4], [10, 12, 14, 6, 8]]\"]]\n",
    "    \n",
    "for k in range(len(inputs)):\n",
    "    display(Markdown(f'{k+1}. TEST {inputs[k]} = {\",\".join(expected_outputs[k])}'))\n",
    "    print('-'*60)\n",
    "    run_and_test(inputs[k],expected_outputs[k],asgn03_03Play_with_matrices)\n"
   ]
  },
  {
   "cell_type": "markdown",
   "id": "7d66c6ea-e1a0-4753-a686-c9415f6ab9c0",
   "metadata": {
    "id": "NuRLdC7K1Avd"
   },
   "source": [
    "# Assignment 03.04: Play with dictionaries\n",
    "## Statement\n",
    "\n",
    "Write a program that \n",
    "\n",
    "- Reads three strings `st1`, `st2`, and `st3` given in 3 lines\n",
    "- Creates a dictionary (`d1`) mapping each string to its upper-case version\n",
    "- Prints such dictionary `d1`\n",
    "\n",
    "## Example input 1\n",
    "\n",
    "```\n",
    "Andrea\n",
    "```\n",
    "\n",
    "```\n",
    "Daniele\n",
    "```\n",
    "\n",
    "```\n",
    "Giulio\n",
    "```\n",
    "\n",
    "## Example output 1\n",
    "\n",
    "```\n",
    "{'Andrea': 'ANDREA', 'Daniele': 'DANIELE', 'Giulio': 'GIULIO'}\n",
    "```\n",
    "\n",
    "## Example input 2\n",
    "\n",
    "```\n",
    "Andrea\n",
    "```\n",
    "\n",
    "```\n",
    "Daniele\n",
    "```\n",
    "\n",
    "```\n",
    "Andrea\n",
    "```\n",
    "\n",
    "## Example output 2\n",
    "\n",
    "```\n",
    "{'Andrea': 'ANDREA', 'Daniele': 'DANIELE'}\n",
    "```"
   ]
  },
  {
   "cell_type": "markdown",
   "id": "046be216-1d06-47d4-bd6c-c1c835724fb3",
   "metadata": {
    "id": "w8tnsKZm1Ave"
   },
   "source": [
    "## Write your solution here\n",
    "\n",
    "\n",
    "*   Do not change the first line (`def ...():`)\n",
    "*   Maintain the given indentation\n",
    "*   You can run some tests by yourself by decommenting the last line\n",
    "\n"
   ]
  },
  {
   "cell_type": "code",
   "execution_count": null,
   "id": "e590ed52-31a4-43c5-ba86-f5c45c688f9c",
   "metadata": {
    "executionInfo": {
     "elapsed": 424,
     "status": "ok",
     "timestamp": 1622908389320,
     "user": {
      "displayName": "Daniele Licari",
      "photoUrl": "https://lh3.googleusercontent.com/a-/AOh14GgLeN60kpJtdBKQxyRrU7GwxagDOGnFA3G3Z8BwMA=s64",
      "userId": "01113523768495748338"
     },
     "user_tz": -120
    },
    "id": "wdXkw97r1Ave"
   },
   "outputs": [],
   "source": [
    "def asgn03_04Play_with_dictionaries():\n",
    "    # This program reads a string and prints it\n",
    "    s = input()\n",
    "    print(s)\n",
    "\n",
    "    # Change it according to the assignment description\n",
    "\n",
    "\n",
    "#You can test independently your solution by executing the following line\n",
    "#asgn03_04Play_with_dictionaries()"
   ]
  },
  {
   "cell_type": "markdown",
   "id": "dbe7735a-d612-4fcc-8d46-f370500ef65f",
   "metadata": {
    "id": "UV67YBrW1Avf"
   },
   "source": [
    "## Run the following cells to perform the provided tests"
   ]
  },
  {
   "cell_type": "code",
   "execution_count": null,
   "id": "b6549c98-2197-4136-adac-f75adaf48023",
   "metadata": {
    "cellView": "form",
    "id": "fPQIR_rt3yNZ"
   },
   "outputs": [],
   "source": [
    "#@title RUN and TEST ALL\n",
    "\n",
    "from IPython.display import display, Markdown \n",
    "\n",
    "\n",
    "\n",
    "inputs=[['Andrea','Daniele','Andrea'],['Andrea','Daniele','Giulio'],['ANDREA','DANIELE','GIULIO']]\n",
    "expected_outputs=[[\"{'Andrea': 'ANDREA', 'Daniele': 'DANIELE'}\"],\\\n",
    "                  [\"{'Andrea': 'ANDREA', 'Daniele': 'DANIELE', 'Giulio': 'GIULIO'}\"], \\\n",
    "                 [\"{'ANDREA': 'ANDREA', 'DANIELE': 'DANIELE', 'GIULIO': 'GIULIO'}\"]]\n",
    "    \n",
    "for k in range(len(inputs)):\n",
    "    display(Markdown(f'{k+1}. TEST {inputs[k]} = {\",\".join(expected_outputs[k])}'))\n",
    "    print('-'*60)\n",
    "    run_and_test(inputs[k],expected_outputs[k],asgn03_04Play_with_dictionaries)\n"
   ]
  },
  {
   "cell_type": "markdown",
   "id": "6d502856-9fa4-4907-bb74-eefc728c1c6c",
   "metadata": {
    "id": "WQXTCB1w1Avg"
   },
   "source": [
    "# Assignment 03.05: Dictionaries and numbers\n",
    "## Statement\n",
    "\n",
    "Write a program that \n",
    "\n",
    "- Reads a string containing only digits\n",
    "- Creates a dictionary (`d1`) casting each character in a string (a string representation of a digit) to its `int` counterpart\n",
    "- Prints this dictionary `d1`\n",
    "\n",
    "**Note**\n",
    "\n",
    "- The length of the input string is not known a prior. Your implementation should work with strings of any length.\n",
    "\n",
    "## Example input 1\n",
    "\n",
    "```\n",
    "12345\n",
    "```\n",
    "\n",
    "## Example output 1\n",
    "\n",
    "```\n",
    "{'1': 1, '2': 2, '3': 3, '4': 4, '5': 5}\n",
    "```\n",
    "\n",
    "## Hint\n",
    "\n",
    "In class we have seen how to create dictionaries using list comprehension. With that in mind, solving this exercise requires just a few lines of code"
   ]
  },
  {
   "cell_type": "markdown",
   "id": "2640c907-b0f6-460f-b3e1-f32f2313daf4",
   "metadata": {
    "id": "fXRSwnGT1Avh"
   },
   "source": [
    "## Write your solution here\n",
    "\n",
    "\n",
    "*   Do not change the first line (`def ...():`)\n",
    "*   Maintain the given indentation\n",
    "*   You can run some tests by yourself by decommenting the last line\n",
    "\n"
   ]
  },
  {
   "cell_type": "code",
   "execution_count": null,
   "id": "5f779dc5-89c3-4c33-823f-0a4589c32807",
   "metadata": {
    "executionInfo": {
     "elapsed": 285,
     "status": "ok",
     "timestamp": 1622908455860,
     "user": {
      "displayName": "Daniele Licari",
      "photoUrl": "https://lh3.googleusercontent.com/a-/AOh14GgLeN60kpJtdBKQxyRrU7GwxagDOGnFA3G3Z8BwMA=s64",
      "userId": "01113523768495748338"
     },
     "user_tz": -120
    },
    "id": "-h1KorUc1Avh"
   },
   "outputs": [],
   "source": [
    "def asgn03_05Dictionaries_and_numbers():\n",
    "    # This program reads a string and prints it\n",
    "    s = input()\n",
    "    print(s)\n",
    "\n",
    "    # Change it according to the assignment description\n",
    "\n",
    "    \n",
    "#You can test independently your solution by executing the following line\n",
    "#asgn03_05Dictionaries_and_numbers()"
   ]
  },
  {
   "cell_type": "markdown",
   "id": "66a4d803-6083-4ed4-9955-3eeffbf9e1b7",
   "metadata": {
    "id": "AMZygEoO1Avh"
   },
   "source": [
    "## Run the following cells to perform the provided tests"
   ]
  },
  {
   "cell_type": "code",
   "execution_count": null,
   "id": "8825d2a0-b2fc-41c1-b8a2-fa48f04b825f",
   "metadata": {
    "cellView": "form",
    "id": "N1bUjyQx4VCu"
   },
   "outputs": [],
   "source": [
    "#@title RUN and TEST ALL\n",
    "\n",
    "from IPython.display import display, Markdown \n",
    "\n",
    "\n",
    "\n",
    "inputs=[['123'],['12345'],['123456789']]\n",
    "expected_outputs=[[\"{'1': 1, '2': 2, '3': 3}\"],\\\n",
    "                  [\"{'1': 1, '2': 2, '3': 3, '4': 4, '5': 5}\"], \\\n",
    "                 [\"{'1': 1, '2': 2, '3': 3, '4': 4, '5': 5, '6': 6, '7': 7, '8': 8, '9': 9}\"]]\n",
    "    \n",
    "for k in range(len(inputs)):\n",
    "    display(Markdown(f'{k+1}. TEST {inputs[k]} = {\",\".join(expected_outputs[k])}'))\n",
    "    print('-'*60)\n",
    "    run_and_test(inputs[k],expected_outputs[k],asgn03_05Dictionaries_and_numbers)\n"
   ]
  },
  {
   "cell_type": "markdown",
   "id": "cc7f2370-3ae4-46cc-b533-fec43b4e64fe",
   "metadata": {},
   "source": [
    "<center><font size=\"+4\">04 Control and Repetition Statements</font></center>"
   ]
  },
  {
   "cell_type": "markdown",
   "id": "f975e263-a774-4b4c-b0a4-7169900e0604",
   "metadata": {
    "id": "1JMDln-vIKRB"
   },
   "source": [
    "# Assignment 04.01: If-Queen move\n",
    "## Statement\n",
    "\n",
    "Chess queen moves horizontally, vertically or diagonally in any number of squares. <br/>\n",
    "Given two different squares of the chessboard, determine whether a queen can go from the first square to the second one in a single move. <br/>\n",
    "The chessboard is assumed to not contain further pieces.\n",
    "\n",
    "The program receives four numbers from 1 to 8 each specifying the column and the row number (the first two refer to the starting square, the last two refer to the target one). <br/>\n",
    "The program should output \n",
    "- `YES` if a queen can go from the first square to the second one in a single move or \n",
    "- `NO` otherwise.\n",
    "\n",
    "\n",
    "## Example input\n",
    "\n",
    "```\n",
    "1\n",
    "1\n",
    "2\n",
    "2\n",
    "```\n",
    "\n",
    "## Example output\n",
    "\n",
    "```\n",
    "YES\n",
    "```\n",
    "\n",
    "We suggest you to use intelligible (self-commenting) names for the variables...\n"
   ]
  },
  {
   "cell_type": "markdown",
   "id": "56070945-91a1-4bf8-a767-15bc62ec26ce",
   "metadata": {
    "id": "IROCYUDQb0t7"
   },
   "source": [
    "## Write your solution here\n",
    "\n",
    "\n",
    "*   Do not change the first line (`def ...():`)\n",
    "*   Maintain the given indentation\n",
    "*   You can run some tests by yourself by decommenting the last line\n",
    "\n"
   ]
  },
  {
   "cell_type": "code",
   "execution_count": null,
   "id": "572235ae-3d84-4fd3-9a67-4f4fc5bbd327",
   "metadata": {
    "executionInfo": {
     "elapsed": 284,
     "status": "ok",
     "timestamp": 1622909965077,
     "user": {
      "displayName": "Daniele Licari",
      "photoUrl": "https://lh3.googleusercontent.com/a-/AOh14GgLeN60kpJtdBKQxyRrU7GwxagDOGnFA3G3Z8BwMA=s64",
      "userId": "01113523768495748338"
     },
     "user_tz": -120
    },
    "id": "QtPMkR0aJRYv"
   },
   "outputs": [],
   "source": [
    "def asgn04_If_Queen_move():\n",
    "    # This program reads a string and prints it\n",
    "    str1=input()\n",
    "    print(str1)\n",
    "\n",
    "    # Can you change it to solve the assignment?\n",
    "    \n",
    "    \n",
    "#You can test independently your solution by executing the following line\n",
    "#asgn04_If_Queen_move()"
   ]
  },
  {
   "cell_type": "markdown",
   "id": "0e7e1ff7-8927-49d4-9abd-b15581da71e2",
   "metadata": {
    "id": "HcoyoBpScQ7f"
   },
   "source": [
    "## Run the following cells to perform the provided tests"
   ]
  },
  {
   "cell_type": "code",
   "execution_count": null,
   "id": "42e8b7d3-31a4-413b-9f41-31ce472c551e",
   "metadata": {
    "cellView": "form",
    "id": "X6tvTspi-MiJ"
   },
   "outputs": [],
   "source": [
    "#@title RUN and TEST ALL\n",
    "\n",
    "from IPython.display import display, Markdown \n",
    "\n",
    "\n",
    "\n",
    "inputs=[[1,1,2,2],[1,1,2,3],[5,6,3,3],[3,3,1,1],[6,5,2,5],\\\n",
    "        [7,6,5,2],[2,7,6,7],[2,7,4,6],[7,4,2,5],[7,5,1,1],\\\n",
    "        [2,4,5,7],[3,5,7,1],[5,2,5,8],[1,2,3,1],[2,1,1,3]]\n",
    "expected_outputs=[[\"YES\"],[\"NO\"],[\"NO\"],[\"YES\"],[\"YES\"],\\\n",
    "                  [\"NO\"],[\"YES\"],[\"NO\"],[\"NO\"],[\"NO\"],\\\n",
    "                  [\"YES\"],[\"YES\"],[\"YES\"],[\"NO\"],[\"NO\"]]\n",
    "    \n",
    "for k in range(len(inputs)):\n",
    "    display(Markdown(f'{k+1}. TEST {inputs[k]} = {\",\".join(expected_outputs[k])}'))\n",
    "    print('-'*60)\n",
    "    run_and_test(inputs[k],expected_outputs[k],asgn04_If_Queen_move)\n"
   ]
  },
  {
   "cell_type": "markdown",
   "id": "2569c9e9-1df2-409f-9e2d-f7efa768c4de",
   "metadata": {
    "id": "CvRjQW_ITQ8T"
   },
   "source": [
    "# Assignment 04.02: Read integers\n",
    "## Statement\n",
    "\n",
    "Write a program that reads positive integer numbers from the keyboard as long as the user provides them. <br/>\n",
    "The program should terminate as soon as the user provides an input that is not numeric (e.g. `'end'`, `'ciao'`, ...), which is considered as a terminating token.\n",
    "\n",
    "Upon reading the termination token, the program prints in separate lines:\n",
    "\n",
    "- how many numbers were given\n",
    "- how many odd numbers were given\n",
    "- the mean of the given numbers\n",
    "- the maximum given number\n",
    "\n",
    "**Untested extra challenge:** some of you might be tempted to solve this assignment using a list to store all numbers, and then iterate it. This is problematic in case of big data, or live data, as there might too many numbers to store. Also, it would be inefficient, as you would have to iterate the list of numbers twice. \n",
    "\n",
    "- Try to solve this assignment without using a list. You should define a variable per quantity we want to observe (or more if necessary), and update them every time a new number arrives.\n",
    "\n",
    "## Example input 1\n",
    "\n",
    "```\n",
    "1\n",
    "```\n",
    "\n",
    "```\n",
    "2\n",
    "```\n",
    "\n",
    "```\n",
    "3\n",
    "```\n",
    "\n",
    "```\n",
    "end\n",
    "```\n",
    "\n",
    "## Example output 1\n",
    "\n",
    "```\n",
    "3\n",
    "```\n",
    "\n",
    "```\n",
    "2\n",
    "```\n",
    "\n",
    "```\n",
    "2.0\n",
    "```\n",
    "\n",
    "```\n",
    "3\n",
    "```\n",
    "\n",
    "## Hints\n",
    "\n",
    "Here a suggestion on how to compute the maximum:\n",
    "\n",
    "- Define a variable `m` with value smaller than any value that might be given. \n",
    "- Every time a new number `n` is given, compare `m` with `n`, and update `m` if `n` is bigger than `m`. \n",
    "\n",
    "Whenever you read with `input()`, you read a string. Strings have a method to check if they represent a number..."
   ]
  },
  {
   "cell_type": "markdown",
   "id": "94a1bb2d-bf7e-43b7-ae88-01692ee85279",
   "metadata": {
    "id": "Lr-UYAK6b18z"
   },
   "source": [
    "## Write your solution here\n",
    "\n",
    "\n",
    "*   Do not change the first line (`def ...():`)\n",
    "*   Maintain the given indentation\n",
    "*   You can run some tests by yourself by decommenting the last line\n",
    "\n"
   ]
  },
  {
   "cell_type": "code",
   "execution_count": null,
   "id": "ecb17a55-94e6-4308-b824-4aba8b41ec7c",
   "metadata": {
    "executionInfo": {
     "elapsed": 261,
     "status": "ok",
     "timestamp": 1622910617438,
     "user": {
      "displayName": "Daniele Licari",
      "photoUrl": "https://lh3.googleusercontent.com/a-/AOh14GgLeN60kpJtdBKQxyRrU7GwxagDOGnFA3G3Z8BwMA=s64",
      "userId": "01113523768495748338"
     },
     "user_tz": -120
    },
    "id": "ghJWGiEPUD9v"
   },
   "outputs": [],
   "source": [
    "def asgn04_Read_integers():\n",
    "    # This program reads a numbwe and prints it\n",
    "    a = int(input())\n",
    "    print(a)\n",
    "\n",
    "    # Change it according to the assignment description\n",
    "\n",
    "\n",
    "#You can test independently your solution by executing the following line\n",
    "#asgn04_Read_integers()"
   ]
  },
  {
   "cell_type": "markdown",
   "id": "76489dd1-1c0e-48b0-bc6d-53efd1dd0d50",
   "metadata": {
    "id": "XJA5H0ULcVAM"
   },
   "source": [
    "## Run the following cells to perform the provided tests"
   ]
  },
  {
   "cell_type": "code",
   "execution_count": null,
   "id": "36834176-e001-4b0e-971e-6a48d2848f23",
   "metadata": {
    "id": "42vQBC_gAm4e"
   },
   "outputs": [],
   "source": [
    "#@title RUN and TEST ALL\n",
    "\n",
    "from IPython.display import display, Markdown \n",
    "\n",
    "\n",
    "\n",
    "inputs=[['1', '2', '3', 'end'],['1', '2', '3', 'fine'],['1', '3', '5', '7', '9', '11', 'ciao'],\\\n",
    "        ['11', '9', '7', '5', '3', '1', 'ciao']]\n",
    "expected_outputs=[[\"3\",\"2\",\"2.0\",\"3\"],[\"3\",\"2\",\"2.0\",\"3\"],['6', '6', '6.0', '11'],\\\n",
    "                  ['6', '6', '6.0', '11']]\n",
    "    \n",
    "for k in range(len(inputs)):\n",
    "    display(Markdown(f'{k+1}. TEST {inputs[k]} = {\",\".join(expected_outputs[k])}'))\n",
    "    print('-'*60)\n",
    "    run_and_test(inputs[k],expected_outputs[k],asgn04_Read_integers)\n"
   ]
  },
  {
   "cell_type": "markdown",
   "id": "25eef429-0125-4fa3-8743-98fa51bd0198",
   "metadata": {
    "id": "XYSmynIm83GP"
   },
   "source": [
    "# Assignment 04.03: While-Average of sequence\n",
    "## Statement\n",
    "\n",
    "Read a sequence of non-negative integers, where each number is written in a separate line. The sequence ends with 0. Upon termination, print the average of the sequence. \n",
    "\n",
    "This assignment should be solved using while loops\n",
    "\n",
    "## Example input\n",
    "\n",
    "```\n",
    "10\n",
    "```\n",
    "\n",
    "```\n",
    "30\n",
    "```\n",
    "\n",
    "```\n",
    "0\n",
    "```\n",
    "\n",
    "## Example output\n",
    "\n",
    "```\n",
    "20.0\n",
    "```\n",
    "\n"
   ]
  },
  {
   "cell_type": "markdown",
   "id": "44d907b9-c569-47b4-95ca-85ea19b156fc",
   "metadata": {
    "id": "_XdWvj1R83GQ"
   },
   "source": [
    "## Write your solution here\n",
    "\n",
    "\n",
    "*   Do not change the first line (`def ...():`)\n",
    "*   Maintain the given indentation\n",
    "*   You can run some tests by yourself by decommenting the last line\n",
    "\n"
   ]
  },
  {
   "cell_type": "code",
   "execution_count": null,
   "id": "7c1ffc63-9a65-43fa-ac34-2981b55cbd69",
   "metadata": {
    "executionInfo": {
     "elapsed": 292,
     "status": "ok",
     "timestamp": 1622910780571,
     "user": {
      "displayName": "Daniele Licari",
      "photoUrl": "https://lh3.googleusercontent.com/a-/AOh14GgLeN60kpJtdBKQxyRrU7GwxagDOGnFA3G3Z8BwMA=s64",
      "userId": "01113523768495748338"
     },
     "user_tz": -120
    },
    "id": "ewoiaJGW83GQ"
   },
   "outputs": [],
   "source": [
    "def asgn04_While_Average_of_sequence():\n",
    "    # This program reads a numbwe and prints it\n",
    "    a = int(input())\n",
    "    print(a)\n",
    "\n",
    "    # Change it according to the assignment description\n",
    "\n",
    "\n",
    "#You can test independently your solution by executing the following line\n",
    "#asgn04_While_Average_of_sequence()"
   ]
  },
  {
   "cell_type": "markdown",
   "id": "f71afc0f-0e04-4d01-8df1-6bc684d6d93f",
   "metadata": {
    "id": "FCNXKoAJ83GV"
   },
   "source": [
    "## Run the following cells to perform the provided tests"
   ]
  },
  {
   "cell_type": "code",
   "execution_count": null,
   "id": "2ed76f04-ce84-455a-a786-03331133f711",
   "metadata": {
    "cellView": "form",
    "id": "niuOKfaUBJUv"
   },
   "outputs": [],
   "source": [
    "#@title RUN and TEST ALL\n",
    "\n",
    "from IPython.display import display, Markdown \n",
    "\n",
    "\n",
    "\n",
    "inputs=[['10', '30', '0'],['1', '1', '1', '1', '0'],['1', '2', '0'],\\\n",
    "        ['1', '2', '3', '4', '0'],['1234', '0'],['1', '2', '3', '4', '5', '6', '7', '0']]\n",
    "expected_outputs=[[\"20.0\"],[\"1.0\"],[\"1.5\"],[\"2.5\"],[\"1234.0\"],[\"4.0\"]]\n",
    "    \n",
    "for k in range(len(inputs)):\n",
    "    display(Markdown(f'{k+1}. TEST {inputs[k]} = {\",\".join(expected_outputs[k])}'))\n",
    "    print('-'*60)\n",
    "    run_and_test(inputs[k],expected_outputs[k],asgn04_While_Average_of_sequence)\n"
   ]
  },
  {
   "cell_type": "markdown",
   "id": "0fbf2b2c-6a52-47ba-ac98-e56bd18fa256",
   "metadata": {
    "id": "ciulVFG383Gg"
   },
   "source": [
    "# Assignment 04.05: For-Sum of N numbers\n",
    "## Statement\n",
    "\n",
    "`N` numbers are given in the input. Read them and print their sum. \n",
    "\n",
    "The first line of input contains the integer `N`, which is the number of integers to follow. Each of the next `N` lines contains one integer. Print the sum of these `N` integers.\n",
    "\n",
    "This assignment should be solved using for loops\n",
    "\n",
    "## Example input\n",
    "\n",
    "```\n",
    "10\n",
    "1\n",
    "2\n",
    "1\n",
    "1\n",
    "1\n",
    "1\n",
    "3\n",
    "1\n",
    "1\n",
    "1\n",
    "```\n",
    "\n",
    "## Example output\n",
    "\n",
    "```\n",
    "13\n",
    "```\n",
    "\n"
   ]
  },
  {
   "cell_type": "markdown",
   "id": "ab2aad2f-da71-4ed8-bdcd-48ff557cb4f3",
   "metadata": {
    "id": "DGWTK0kR83Gi"
   },
   "source": [
    "## Write your solution here\n",
    "\n",
    "\n",
    "*   Do not change the first line (`def ...():`)\n",
    "*   Maintain the given indentation\n",
    "*   You can run some tests by yourself by decommenting the last line\n",
    "\n"
   ]
  },
  {
   "cell_type": "code",
   "execution_count": null,
   "id": "ade38f55-c01d-4b63-82f7-38a780d22093",
   "metadata": {
    "executionInfo": {
     "elapsed": 255,
     "status": "ok",
     "timestamp": 1622911176380,
     "user": {
      "displayName": "Daniele Licari",
      "photoUrl": "https://lh3.googleusercontent.com/a-/AOh14GgLeN60kpJtdBKQxyRrU7GwxagDOGnFA3G3Z8BwMA=s64",
      "userId": "01113523768495748338"
     },
     "user_tz": -120
    },
    "id": "Enz3bEGR83Gi"
   },
   "outputs": [],
   "source": [
    "def asgn04_For_Sum_of_N_numbers():\n",
    "    # This program reads a numbwe and prints it\n",
    "    a = int(input())\n",
    "    print(a)\n",
    "\n",
    "    # Change it according to the assignment description\n",
    "\n",
    "\n",
    "#You can test independently your solution by executing the following line\n",
    "#asgn04_For_Sum_of_N_numbers()"
   ]
  },
  {
   "cell_type": "markdown",
   "id": "633945a4-3996-474d-801b-5367bbf76c4c",
   "metadata": {
    "id": "JeXi4A__83Gi"
   },
   "source": [
    "## Run the following cells to perform the provided tests"
   ]
  },
  {
   "cell_type": "code",
   "execution_count": null,
   "id": "72917151-da26-4f5c-8f8d-c01c089de177",
   "metadata": {
    "id": "JNnqG1QYCbv8"
   },
   "outputs": [],
   "source": [
    "#@title RUN and TEST ALL\n",
    "\n",
    "from IPython.display import display, Markdown \n",
    "\n",
    "\n",
    "\n",
    "inputs=[['1', '891'],['0'],['10', '1', '2', '1', '1', '1', '1', '3', '1', '1', '1'],\\\n",
    "        ['10', '1', '2', '3', '4', '5', '6', '7', '8', '9', '10'],['2', '235', '56'],\\\n",
    "        ['4', '4', '4', '4', '4']]\n",
    "expected_outputs=[[\"891\"],[\"0\"],[\"13\"],[\"55\"],[\"291\"],[\"16\"]]\n",
    "    \n",
    "for k in range(len(inputs)):\n",
    "    display(Markdown(f'{k+1}. TEST {inputs[k]} = {\",\".join(expected_outputs[k])}'))\n",
    "    print('-'*60)\n",
    "    run_and_test(inputs[k],expected_outputs[k],asgn04_For_Sum_of_N_numbers)\n"
   ]
  },
  {
   "cell_type": "markdown",
   "id": "464d5552-4238-4879-93db-78246dce7cca",
   "metadata": {
    "id": "3kuaF8ZI83Gm"
   },
   "source": [
    "# Assignment 04.06: For-Series\n",
    "## Statement\n",
    "\n",
    "Given two integers `A` and `B`. Print all numbers from `A` to `B` inclusively, all in the same line separated by a space.\n",
    "In particular, the numbers should be printed\n",
    "- in increasing order, if `A < B`, or \n",
    "- in decreasing order, if `A >= B`.\n",
    "\n",
    "This assignment should be solved using for loops\n",
    "\n",
    "## Example input 1\n",
    "\n",
    "```\n",
    "8\n",
    "```\n",
    "\n",
    "```\n",
    "5\n",
    "```\n",
    "\n",
    "## Example output 1\n",
    "\n",
    "```\n",
    "8 7 6 5\n",
    "```\n",
    "\n",
    "## Example input 2\n",
    "\n",
    "```\n",
    "5\n",
    "```\n",
    "\n",
    "```\n",
    "8\n",
    "```\n",
    "\n",
    "## Example output 2\n",
    "\n",
    "```\n",
    "5 6 7 8\n",
    "```\n"
   ]
  },
  {
   "cell_type": "markdown",
   "id": "ee04fb5a-762b-41c5-b7e0-91383fd7d446",
   "metadata": {
    "id": "ubsNGAQY83Gm"
   },
   "source": [
    "## Write your solution here\n",
    "\n",
    "\n",
    "*   Do not change the first line (`def ...():`)\n",
    "*   Maintain the given indentation\n",
    "*   You can run some tests by yourself by decommenting the last line\n",
    "\n"
   ]
  },
  {
   "cell_type": "code",
   "execution_count": null,
   "id": "94f818f1-a202-437b-bd7a-2fbf98e85520",
   "metadata": {
    "executionInfo": {
     "elapsed": 272,
     "status": "ok",
     "timestamp": 1622911281891,
     "user": {
      "displayName": "Daniele Licari",
      "photoUrl": "https://lh3.googleusercontent.com/a-/AOh14GgLeN60kpJtdBKQxyRrU7GwxagDOGnFA3G3Z8BwMA=s64",
      "userId": "01113523768495748338"
     },
     "user_tz": -120
    },
    "id": "w-aeIJEw83Gn"
   },
   "outputs": [],
   "source": [
    "def asgn04_For_Series():\n",
    "    # This program reads a numbwe and prints it\n",
    "    a = int(input())\n",
    "    print(a)\n",
    "\n",
    "    # Change it according to the assignment description\n",
    "\n",
    "\n",
    "#You can test independently your solution by executing the following line\n",
    "#asgn04_For_Series()"
   ]
  },
  {
   "cell_type": "markdown",
   "id": "43e3b69e-2023-44d2-bd93-6d06a8485047",
   "metadata": {
    "id": "RF_4ydwf83Gr"
   },
   "source": [
    "## Run the following cells to perform the provided tests"
   ]
  },
  {
   "cell_type": "code",
   "execution_count": null,
   "id": "1cd5b3eb-6387-41f6-a836-f384e5f7d250",
   "metadata": {
    "cellView": "form",
    "id": "HukDAeBaC47-"
   },
   "outputs": [],
   "source": [
    "#@title RUN and TEST ALL\n",
    "\n",
    "from IPython.display import display, Markdown \n",
    "\n",
    "\n",
    "\n",
    "inputs=[['8', '5'],['5', '8'],['1', '10'],['179', '179'],['-14', '7'],['12', '-5']]\n",
    "expected_outputs=[[\"8 7 6 5\"],[\"5 6 7 8\"],[\"1 2 3 4 5 6 7 8 9 10\"],[\"179\"],[\"-14 -13 -12 -11 -10 -9 -8 -7 -6 -5 -4 -3 -2 -1 0 1 2 3 4 5 6 7\"],[\"12 11 10 9 8 7 6 5 4 3 2 1 0 -1 -2 -3 -4 -5\"]]\n",
    "    \n",
    "for k in range(len(inputs)):\n",
    "    display(Markdown(f'{k+1}. TEST {inputs[k]} = {\",\".join(expected_outputs[k])}'))\n",
    "    print('-'*60)\n",
    "    run_and_test(inputs[k],expected_outputs[k],asgn04_For_Series)\n"
   ]
  },
  {
   "cell_type": "markdown",
   "id": "0f565af3-f384-4249-be91-d68d95f685ec",
   "metadata": {
    "id": "Upj8pqov83HI"
   },
   "source": [
    "# Assignment 04.07: For-Sum of cubes\n",
    "## Statement\n",
    "\n",
    "For the given integer `N`, calculate the following sum:\n",
    "\n",
    "$1^3$ + $2^3$ + ... + $N^3$\n",
    "\n",
    "This assignment should be solved using for loops\n",
    "\n",
    "## Example input\n",
    "\n",
    "```\n",
    "3\n",
    "```\n",
    "\n",
    "## Example output\n",
    "\n",
    "```\n",
    "36\n",
    "```\n",
    "\n"
   ]
  },
  {
   "cell_type": "markdown",
   "id": "22548591-702d-4781-854a-0b4eff0e97c7",
   "metadata": {
    "id": "eZlHiITb83HI"
   },
   "source": [
    "## Write your solution here\n",
    "\n",
    "\n",
    "*   Do not change the first line (`def ...():`)\n",
    "*   Maintain the given indentation\n",
    "*   You can run some tests by yourself by decommenting the last line\n",
    "\n"
   ]
  },
  {
   "cell_type": "code",
   "execution_count": null,
   "id": "97658229-109c-432a-b229-dd64787ce74b",
   "metadata": {
    "executionInfo": {
     "elapsed": 6,
     "status": "ok",
     "timestamp": 1622911321436,
     "user": {
      "displayName": "Daniele Licari",
      "photoUrl": "https://lh3.googleusercontent.com/a-/AOh14GgLeN60kpJtdBKQxyRrU7GwxagDOGnFA3G3Z8BwMA=s64",
      "userId": "01113523768495748338"
     },
     "user_tz": -120
    },
    "id": "AHo4vbwm83HJ"
   },
   "outputs": [],
   "source": [
    "def asgn04_For_Sum_of_cubes():\n",
    "    # This program reads a numbwe and prints it\n",
    "    a = int(input())\n",
    "    print(a)\n",
    "\n",
    "    # Change it according to the assignment description\n",
    "\n",
    "\n",
    "#You can test independently your solution by executing the following line\n",
    "#asgn04_For_Sum_of_cubes()"
   ]
  },
  {
   "cell_type": "markdown",
   "id": "be2e6f2c-e90c-43e0-a4f8-11ee494710f5",
   "metadata": {
    "id": "bGdYWPpB83HJ"
   },
   "source": [
    "## Run the following cells to perform the provided tests"
   ]
  },
  {
   "cell_type": "code",
   "execution_count": null,
   "id": "c7776bd4-4953-42d7-a744-4a11dc568ca4",
   "metadata": {
    "id": "32tr5T_yDXOQ"
   },
   "outputs": [],
   "source": [
    "#@title RUN and TEST ALL\n",
    "\n",
    "from IPython.display import display, Markdown \n",
    "\n",
    "\n",
    "\n",
    "inputs=[['1'],['2'],['3'],['4'],['9'],['20']]\n",
    "expected_outputs=[[\"1\"],[\"9\"],[\"36\"],[\"100\"],[\"2025\"],[\"44100\"]]\n",
    "    \n",
    "for k in range(len(inputs)):\n",
    "    display(Markdown(f'{k+1}. TEST {inputs[k]} = {\",\".join(expected_outputs[k])}'))\n",
    "    print('-'*60)\n",
    "    run_and_test(inputs[k],expected_outputs[k],asgn04_For_Sum_of_cubes)\n"
   ]
  },
  {
   "cell_type": "markdown",
   "id": "7ae39b0f-1915-42dd-9c4d-edd1caf1f2c9",
   "metadata": {},
   "source": [
    "<center><font size=\"+4\">05 Functions</font></center>"
   ]
  },
  {
   "cell_type": "markdown",
   "id": "670aeace-6ad0-42f7-b756-f893cdf77794",
   "metadata": {
    "id": "Om177ojl7k5J"
   },
   "source": [
    "# Assignment 05.01: First letter\n",
    "## Statement\n",
    "\n",
    "Write a function \n",
    "\n",
    "- named `first_letter`\n",
    "- that has a string argument\n",
    "- that computes and returns the first letter of the argument string\n",
    "\n",
    "## Example input to function\n",
    "\n",
    "```\n",
    "My first string\n",
    "```\n",
    "\n",
    "## Example output from function\n",
    "\n",
    "```\n",
    "M\n",
    "```\n",
    "\n",
    "## **Hint**\n",
    "\n",
    "Search for the method of strings that does the work...\n",
    "\n",
    "## **Note** \n",
    "\n",
    "The keyword `def` introduces a function _definition_. It must be followed by the function name and the parenthesized list of formal parameters. The statements that form the body of the function start at the next line and must be indented."
   ]
  },
  {
   "cell_type": "markdown",
   "id": "792221d4-1c55-4078-bf18-3a438d925d55",
   "metadata": {
    "id": "FMZE1vmMbRLz"
   },
   "source": [
    "## Write your solution here\n",
    "\n"
   ]
  },
  {
   "cell_type": "code",
   "execution_count": null,
   "id": "87bc3a70-f437-40d3-acb2-8d6f44d6eb1a",
   "metadata": {
    "colab": {
     "base_uri": "https://localhost:8080/"
    },
    "id": "Yg4jeBnA7k5K",
    "outputId": "d1804f69-374a-4f18-f8ad-1ffd98892eaa"
   },
   "outputs": [],
   "source": [
    "def first_letter(input_string): # to be completed\n",
    "    print('Ciao!')\n",
    "\n",
    "#You can test your funcrtion executing these commands\n",
    "# f = first_letter('Python')\n",
    "# print(f)"
   ]
  },
  {
   "cell_type": "markdown",
   "id": "a64eb5bc-3519-4884-b874-15268bc23d77",
   "metadata": {
    "id": "_lqTangP8R46"
   },
   "source": [
    "## Run the following cells to perform the provided tests"
   ]
  },
  {
   "cell_type": "code",
   "execution_count": null,
   "id": "fbda81fd-3de1-452a-b5fd-f75409d8c5fc",
   "metadata": {
    "cellView": "form",
    "colab": {
     "base_uri": "https://localhost:8080/"
    },
    "id": "fwX9u8aW7k5L",
    "outputId": "a12aefe2-be6d-4b28-f876-acc6ce57e9ae"
   },
   "outputs": [],
   "source": [
    "#@title TEST 'hello','bill',\"hello bill\",\"1234\"\n",
    "inputs=['hello','bill',\"hello bill\",\"1234\"]\n",
    "expected_outputs=[\"h\",\"b\",\"h\",\"1\"]\n",
    "run_and_test_func(inputs,expected_outputs,first_letter)"
   ]
  },
  {
   "cell_type": "markdown",
   "id": "795fa1aa-1f57-42b2-a10b-dd2481247178",
   "metadata": {
    "id": "FeUCmX7QD-FW"
   },
   "source": [
    "# Assignment 05.02: Count e\n",
    "## Statement\n",
    "\n",
    "Write a function \n",
    "\n",
    "- named `count_e`\n",
    "- that has a string argument\n",
    "- that counts the number of `e` in the argument (either lower- or upper-case), and returns such count\n",
    "\n",
    "## Example input to function\n",
    "\n",
    "```\n",
    "HeEelloo sSam\n",
    "```\n",
    "\n",
    "## Example output from function\n",
    "\n",
    "```\n",
    "3\n",
    "```\n",
    "\n",
    "## Hint\n",
    "\n",
    "There is a convenient method of strings that does the job..."
   ]
  },
  {
   "cell_type": "markdown",
   "id": "b1cd7109-8eef-4113-83ce-42f8950a68e1",
   "metadata": {
    "id": "lbnH93y5D-FX"
   },
   "source": [
    "## Write your solution here\n",
    "\n"
   ]
  },
  {
   "cell_type": "code",
   "execution_count": null,
   "id": "defc6f23-a5b2-4643-bfb6-fc292310aacb",
   "metadata": {
    "id": "VZA55hKcD-FY"
   },
   "outputs": [],
   "source": [
    "#Write here your solution\n",
    "#...\n"
   ]
  },
  {
   "cell_type": "markdown",
   "id": "dab613ad-0da7-4426-9792-119f08e1a658",
   "metadata": {
    "id": "Sbd1GdDnD-FZ"
   },
   "source": [
    "## Run the following cells to perform the provided tests"
   ]
  },
  {
   "cell_type": "markdown",
   "id": "cd41c12c-c56c-4cb6-9a36-eb9e6e153311",
   "metadata": {
    "id": "g-RQhMbbD-FZ"
   },
   "source": [
    "### Simpler tests"
   ]
  },
  {
   "cell_type": "code",
   "execution_count": null,
   "id": "9abd5306-8ebd-4954-8bde-529e29966224",
   "metadata": {
    "cellView": "form",
    "colab": {
     "base_uri": "https://localhost:8080/"
    },
    "id": "DQSUetMTD-Fa",
    "outputId": "a12aefe2-be6d-4b28-f876-acc6ce57e9ae"
   },
   "outputs": [],
   "source": [
    "#@title TEST simpler\n",
    "inputs=[\"ciao mondo!\",\"hehehe\"]\n",
    "expected_outputs=[0,3]\n",
    "run_and_test_func(inputs,expected_outputs,count_e)"
   ]
  },
  {
   "cell_type": "markdown",
   "id": "95136b75-20d5-45b8-a649-426e4609ef15",
   "metadata": {
    "id": "kK9__8zyD-Fb"
   },
   "source": [
    "### More complex tests"
   ]
  },
  {
   "cell_type": "code",
   "execution_count": null,
   "id": "0b0b0a86-f612-48dd-8ba7-c7465a8e6aba",
   "metadata": {
    "cellView": "form",
    "id": "x82_rIhDD-Fc",
    "outputId": "ae7469bf-e215-47d8-d6e4-62cb42e95c1e"
   },
   "outputs": [],
   "source": [
    "#@title TEST more complex\n",
    "inputs=[\"ceEe mEnde!\",\"HELLO therE HOW U DOINGEEee\"]\n",
    "expected_outputs=[5,7]\n",
    "run_and_test_func(inputs,expected_outputs,count_e)"
   ]
  },
  {
   "cell_type": "markdown",
   "id": "17bf7008-5349-4d1b-b2c8-921a2c50714a",
   "metadata": {
    "id": "_49YqaqqD-Fc"
   },
   "source": [
    "# Assignment 05.03: double_char\n",
    "## Statement\n",
    "\n",
    "Write a function \n",
    "\n",
    "- named `double_char`\n",
    "- that has a string argument\n",
    "- that returns a new string containing two consecutive copies of each character in the argument\n",
    "\n",
    "## Example input to function\n",
    "\n",
    "```\n",
    "Hello\n",
    "```\n",
    "\n",
    "## Example output from function\n",
    "\n",
    "```\n",
    "HHeelllloo\n",
    "```\n",
    "\n",
    "## Example input to function\n",
    "\n",
    "```\n",
    "?33? sw\n",
    "```\n",
    "\n",
    "## Example output from function\n",
    "\n",
    "```\n",
    "??3333??  ssww\n",
    "```\n",
    "\n",
    "## Hint\n",
    "\n",
    ":D\n",
    "\n",
    "You might 'count' on some functions offered by `str` to solve this exercise. Otherwise, you might have to 'comprehend' it. If it is too difficult, 'iterate' on it."
   ]
  },
  {
   "cell_type": "markdown",
   "id": "0bea4ca2-2686-49c4-b1d3-9354b2867f44",
   "metadata": {
    "id": "lVUWjDJcD-Fe"
   },
   "source": [
    "## Write your solution here\n",
    "\n"
   ]
  },
  {
   "cell_type": "code",
   "execution_count": null,
   "id": "99902c5c-a59f-4767-ad77-82b57f9c1da1",
   "metadata": {
    "id": "Sipl5fKhD-Fe"
   },
   "outputs": [],
   "source": [
    "#Write here your solution\n",
    "#..."
   ]
  },
  {
   "cell_type": "markdown",
   "id": "9be45dc2-620b-45b8-871b-c98034996f4a",
   "metadata": {
    "id": "9r-QNvV6D-Fe"
   },
   "source": [
    "## Run the following cells to perform the provided tests"
   ]
  },
  {
   "cell_type": "code",
   "execution_count": null,
   "id": "ccf0138c-ee24-40ed-9aba-5d899f60755e",
   "metadata": {
    "cellView": "form",
    "colab": {
     "base_uri": "https://localhost:8080/"
    },
    "id": "lj1GOveHD-Fe",
    "outputId": "a12aefe2-be6d-4b28-f876-acc6ce57e9ae"
   },
   "outputs": [],
   "source": [
    "#@title TEST \"Hello\",\"?33? sw\",\"Holla\",\"eat CANdy\"\n",
    "inputs=[\"Hello\",\"?33? sw\",\"Holla\",\"eat CANdy\"]\n",
    "expected_outputs=[\"HHeelllloo\",\"??3333??  ssww\",\"HHoollllaa\",\"eeaatt  CCAANNddyy\"]\n",
    "run_and_test_func(inputs,expected_outputs,double_char)"
   ]
  },
  {
   "cell_type": "markdown",
   "id": "8511acd0-4d2e-4267-b659-526d53780cc9",
   "metadata": {},
   "source": [
    "<center><font size=\"+4\">06 Object-Oriented Programming</font></center>"
   ]
  },
  {
   "cell_type": "markdown",
   "id": "6bba64ca-954a-49d2-9203-b24780469778",
   "metadata": {
    "id": "GI2zVJI_Fe2G"
   },
   "source": [
    "# Assignment 06.01: Shape world\n",
    "## Statement\n",
    "\n",
    "Write two classes `Rectangle` and `Square` that extend (sub-classing) Shape implementing the required methods\n",
    "\n",
    "- `area` and `perimeter` should compute the area or perimeter, respectively of the shape (a rectangle or a square) using the well-known formulas\n",
    "- `describe` should return `'This is a rectangle'` or `'This is a square'` for the two classes, respectively\n",
    "- Please note that the constructor of `Square` must take one parameter only\n",
    "\n",
    "**Do not modify `Shape`**\n",
    "\n",
    "**Bonus question:** would it be useful to let `Square` extend from `Rectangle` rather than from `Shape`? Try it out\n",
    "\n",
    "## Example input\n",
    "\n",
    "```\n",
    "2\n",
    "3\n",
    "4\n",
    "```\n",
    "\n",
    "\n",
    "## Example output\n",
    "\n",
    "```\n",
    "6\n",
    "10\n",
    "This is a rectangle\n",
    "\n",
    "16\n",
    "16\n",
    "This is a square\n",
    "```\n",
    "\n",
    "## Note\n",
    "\n",
    "You might have noticed that unimplemented methods of Shape have the keyword 'pass'. \n",
    "\n",
    "This statement has no effect. This is used in all cases like Shape where we have methods intentionally left unimplemented."
   ]
  },
  {
   "cell_type": "markdown",
   "id": "2b35b112-499e-41d9-8d19-a31dd0029b9f",
   "metadata": {
    "id": "B80yaa-vFe2G"
   },
   "source": [
    "## Write your solution here\n",
    "\n",
    "*   Do not change the first line (`def ...():`)\n",
    "*   Maintain the given indentation\n",
    "*   You can run some tests by yourself by decommenting the last line\n"
   ]
  },
  {
   "cell_type": "code",
   "execution_count": null,
   "id": "8b02e86f-283c-4ed6-8a66-1ddee416fc91",
   "metadata": {
    "id": "aUOGfG7YFe2G"
   },
   "outputs": [],
   "source": [
    "def asgn06_01Shape_world():\n",
    "    class Shape:\n",
    "        def __init__(self,h,w):\n",
    "            self._height=h\n",
    "            self._width=w\n",
    "        def area(self):\n",
    "            pass\n",
    "        def perimeter(self):\n",
    "            pass\n",
    "        def describe(self):\n",
    "            return 'This is an abstract shape'\n",
    "\n",
    "    #Implement class rectangle that extends Shape        \n",
    "\n",
    "    #Implement class suqare\n",
    "\n",
    "\n",
    "    #Do not modify. Necessary for tests...\n",
    "    l1 = int(input())\n",
    "    l2 = int(input())\n",
    "    r = Rectangle(l1, l2)\n",
    "    print(r.area())\n",
    "    print(r.perimeter())\n",
    "    print(r.describe())\n",
    "    print()\n",
    "\n",
    "    l = int(input())\n",
    "    s = Square(l)\n",
    "    print(s.area())\n",
    "    print(s.perimeter())\n",
    "    print(s.describe())\n",
    "\n",
    "    \n",
    "#You can test independently your solution by executing the following line\n",
    "#asgn06_01Shape_world()"
   ]
  },
  {
   "cell_type": "markdown",
   "id": "1b38e4f0-74ed-46ee-9d94-7e1b64e451ea",
   "metadata": {
    "id": "b-dFXb40Fe2H"
   },
   "source": [
    "## Run the following cells to perform the provided tests"
   ]
  },
  {
   "cell_type": "code",
   "execution_count": null,
   "id": "c3ff8842-71ce-4f69-90fe-7d575679277d",
   "metadata": {
    "cellView": "form",
    "colab": {
     "base_uri": "https://localhost:8080/"
    },
    "id": "p6E2o2vGFe2H",
    "outputId": "a12aefe2-be6d-4b28-f876-acc6ce57e9ae"
   },
   "outputs": [],
   "source": [
    "#@title TEST '[2,3,4]'\n",
    "inputs=[2,3,4]\n",
    "expected_outputs=['6', '10', 'This is a rectangle', '', '16', '16', 'This is a square']\n",
    "run_and_test(inputs,expected_outputs,asgn06_01Shape_world)"
   ]
  },
  {
   "cell_type": "code",
   "execution_count": null,
   "id": "2d067572-d749-4f79-90dc-36048a98be68",
   "metadata": {
    "cellView": "form",
    "id": "7EINwZOmFe2I",
    "outputId": "9f108e76-44b7-4264-9f35-c937724da8a0"
   },
   "outputs": [],
   "source": [
    "#@title TEST '[4,5,5]'\n",
    "inputs=[4,5,5]\n",
    "expected_outputs=['20', '18', 'This is a rectangle', '', '25', '20', 'This is a square']\n",
    "run_and_test(inputs,expected_outputs,asgn06_01Shape_world)"
   ]
  }
 ],
 "metadata": {
  "kernelspec": {
   "display_name": "Python 3 (ipykernel)",
   "language": "python",
   "name": "python3"
  },
  "language_info": {
   "codemirror_mode": {
    "name": "ipython",
    "version": 3
   },
   "file_extension": ".py",
   "mimetype": "text/x-python",
   "name": "python",
   "nbconvert_exporter": "python",
   "pygments_lexer": "ipython3",
   "version": "3.9.10"
  },
  "toc-autonumbering": false
 },
 "nbformat": 4,
 "nbformat_minor": 5
}
