{
 "cells": [
  {
   "cell_type": "markdown",
   "id": "250e8b32-65bb-4dce-9a5d-30ba95f4ddd6",
   "metadata": {
    "tags": []
   },
   "source": [
    "<center><font size=\"+4\">Programming for Economics and Finance 23/24</font></center>\n",
    "<center><font size=\"+2\">LM in Economics</font></center>\n",
    "<center><font size=\"+2\">Sant'Anna School of Advanced Studies, Pisa, Italy</font></center>\n",
    "<center><font size=\"+2\">Università di Pisa, Pisa, Italy</font></center>\n",
    "<center><img src=\"https://github.com/EMbeDS-education/ComputingDataAnalysisModeling20232024/raw/main/PDAI/jupyter/jupyterNotebooks/images/SSSA_LEMbeDS.png\" width=\"700\" alt=\"L'EMbeDS\"></center>\n",
    "\n",
    "<center><font size=\"+2\">Course responsible</font></center>\n",
    "<center><font size=\"+2\">Andrea Vandin a.vandin@santannapisa.it</font></center>\n",
    "\n",
    "---"
   ]
  },
  {
   "cell_type": "markdown",
   "id": "8b882236-0da1-4d40-915f-7af83b240625",
   "metadata": {
    "id": "PzTk_3lR7k5D"
   },
   "source": [
    "<center><font size=\"+4\">Assignments for</font></center>\n",
    "<center><font size=\"+4\">Part 1</font><br/></center>\n",
    "\n",
    "---\n"
   ]
  },
  {
   "cell_type": "code",
   "execution_count": null,
   "id": "ba748cb3-4f56-4e67-a19c-484a15bd1437",
   "metadata": {
    "cellView": "form",
    "colab": {
     "base_uri": "https://localhost:8080/"
    },
    "executionInfo": {
     "elapsed": 1975,
     "status": "ok",
     "timestamp": 1622909713233,
     "user": {
      "displayName": "Daniele Licari",
      "photoUrl": "https://lh3.googleusercontent.com/a-/AOh14GgLeN60kpJtdBKQxyRrU7GwxagDOGnFA3G3Z8BwMA=s64",
      "userId": "01113523768495748338"
     },
     "user_tz": -120
    },
    "id": "p666zbf89eCD",
    "outputId": "cafe9bca-03cf-4d92-f4cb-0e9aab51ab82"
   },
   "outputs": [],
   "source": [
    "#@title RUN, BUT DO NOT MODIFY\n",
    "url = 'https://raw.githubusercontent.com/EMbeDS-education/Programming4EconomicsAndFinance/main/jupyter/jupyterNotebooks/assignments/auto_testing.py'\n",
    "\n",
    "import urllib.request\n",
    "from pathlib import Path\n",
    "\n",
    "urllib.request.urlretrieve(url,Path(url).name)\n",
    "\n",
    "%reload_ext autoreload\n",
    "%autoreload 2\n",
    "from auto_testing import *\n",
    "\n",
    "#%pip install numpy\n",
    "#import numpy as np"
   ]
  }
 ],
 "metadata": {
  "kernelspec": {
   "display_name": "env_p4ef_2023",
   "language": "python",
   "name": "env_p4ef_2023"
  },
  "language_info": {
   "codemirror_mode": {
    "name": "ipython",
    "version": 3
   },
   "file_extension": ".py",
   "mimetype": "text/x-python",
   "name": "python",
   "nbconvert_exporter": "python",
   "pygments_lexer": "ipython3",
   "version": "3.9.10"
  }
 },
 "nbformat": 4,
 "nbformat_minor": 5
}
