{
 "cells": [
  {
   "cell_type": "markdown",
   "id": "15f4737f-c194-4e0a-8e8d-91d87aeca336",
   "metadata": {
    "tags": []
   },
   "source": [
    "<center><font size=\"+4\">Programming for Economics and Finance 23/24</font></center>\n",
    "<center><font size=\"+2\">LM in Economics</font></center>\n",
    "<center><font size=\"+2\">Sant'Anna School of Advanced Studies, Pisa, Italy</font></center>\n",
    "<center><font size=\"+2\">Università di Pisa, Pisa, Italy</font></center>\n",
    "<center><img src=\"https://github.com/EMbeDS-education/ComputingDataAnalysisModeling20232024/raw/main/PDAI/jupyter/jupyterNotebooks/images/SSSA_LEMbeDS.png\" width=\"700\" alt=\"L'EMbeDS\"></center>\n",
    "\n",
    "<center><font size=\"+2\">Course responsible</font></center>\n",
    "<center><font size=\"+2\">Andrea Vandin a.vandin@santannapisa.it</font></center>\n",
    "\n",
    "---"
   ]
  },
  {
   "cell_type": "markdown",
   "id": "b8406e27-3b85-47e3-a24e-344b1144ecbc",
   "metadata": {},
   "source": [
    "<center><font size=\"+4\">Part 1</font></center>\n",
    "<center><font size=\"+4\">Classes 1-3: Advanced Libraries for</font></center>\n",
    "<center><font size=\"+4\">Introduction to Programming</font></center>\n",
    "\n",
    "---\n",
    "---"
   ]
  },
  {
   "cell_type": "code",
   "execution_count": 74,
   "id": "266e5792-17cf-4a97-a31c-f9b699ff0041",
   "metadata": {},
   "outputs": [],
   "source": [
    "url_github_repo=\"https://github.com/EMbeDS-education/Programming4EconomicsAndFinance/raw/main/\""
   ]
  },
  {
   "cell_type": "markdown",
   "id": "9f2911dd-9232-4516-8171-958fcedf3bdb",
   "metadata": {},
   "source": [
    "# Console I/O"
   ]
  },
  {
   "cell_type": "raw",
   "id": "4e6f419b-c9c1-416c-ae26-d805d624d63a",
   "metadata": {},
   "source": [
    "# Ciao\n",
    "## DDDD\n",
    "\n",
    "My bulletpoints\n",
    "- First\n",
    "- Second \n",
    "- Etc\n",
    "\n",
    "\n",
    "My numbered list\n",
    "1. ciao\n",
    "1. ciao \n",
    "1. ciao"
   ]
  },
  {
   "cell_type": "code",
   "execution_count": 2,
   "id": "1581d310-9ae4-4c6c-90ee-b1c55b2636a6",
   "metadata": {},
   "outputs": [
    {
     "name": "stdout",
     "output_type": "stream",
     "text": [
      "Ciao\n"
     ]
    }
   ],
   "source": [
    "print('Ciao')"
   ]
  },
  {
   "cell_type": "markdown",
   "id": "8db81a64-0cb4-4f52-8429-1c1f1d9ac770",
   "metadata": {},
   "source": [
    "How can I read and write from terminal?"
   ]
  },
  {
   "cell_type": "code",
   "execution_count": 3,
   "id": "5b478fc1-b0bc-4dee-80eb-0376a7e68978",
   "metadata": {},
   "outputs": [
    {
     "name": "stdout",
     "output_type": "stream",
     "text": [
      "Hello, world!\n"
     ]
    }
   ],
   "source": [
    "print('Hello, world!')"
   ]
  },
  {
   "cell_type": "code",
   "execution_count": 5,
   "id": "ed03aeeb-7f46-4f0e-8502-9e4b55ba6097",
   "metadata": {},
   "outputs": [
    {
     "name": "stdout",
     "output_type": "stream",
     "text": [
      "Hello, world! What a beautiful day. Indeed.\n"
     ]
    }
   ],
   "source": [
    "print('Hello, world!','What a beautiful day.','Indeed.')"
   ]
  },
  {
   "cell_type": "code",
   "execution_count": 7,
   "id": "b7e293f6-4c45-464d-869c-ea86ba43d63b",
   "metadata": {},
   "outputs": [
    {
     "name": "stdout",
     "output_type": "stream",
     "text": [
      "What is your name?\n"
     ]
    },
    {
     "name": "stdin",
     "output_type": "stream",
     "text": [
      " Dario\n"
     ]
    },
    {
     "name": "stdout",
     "output_type": "stream",
     "text": [
      "Hello, Dario\n"
     ]
    }
   ],
   "source": [
    "print('What is your name?')\n",
    "user_name=input()\n",
    "print('Hello,', user_name)"
   ]
  },
  {
   "cell_type": "markdown",
   "id": "d9c735c4-d88e-4aba-885b-9f779551981f",
   "metadata": {},
   "source": [
    "It might be annoying that the user has to write on a new line.\n",
    "- Can I avoid it?"
   ]
  },
  {
   "cell_type": "code",
   "execution_count": 8,
   "id": "1d72db2d-d87c-43cc-a0ca-4cc9bbd8bbd0",
   "metadata": {},
   "outputs": [
    {
     "name": "stdin",
     "output_type": "stream",
     "text": [
      "Please type your name:  Dario\n"
     ]
    },
    {
     "name": "stdout",
     "output_type": "stream",
     "text": [
      "Hello, Dario\n"
     ]
    }
   ],
   "source": [
    "name=input('Please type your name: ')\n",
    "print('Hello,', user_name)"
   ]
  },
  {
   "cell_type": "markdown",
   "id": "3a162e91-b66c-4d4c-8025-877050c0e475",
   "metadata": {
    "tags": []
   },
   "source": [
    "# Variables\n",
    "Note that `user_name` in the cells above is a __variable__\n",
    "- _this is emphasized_\n",
    "- A variable is an abstraction for a _piece of memory_ where to store data\n",
    "- In this case, we use `user_name` to store the read inputs.\n",
    "\n",
    "For example, we can greet again the user without asking his/her name :D"
   ]
  },
  {
   "cell_type": "code",
   "execution_count": 9,
   "id": "a8fcb96e-a635-44a5-8b32-c2a1b0f15683",
   "metadata": {},
   "outputs": [
    {
     "name": "stdout",
     "output_type": "stream",
     "text": [
      "Hello again, Dario\n"
     ]
    }
   ],
   "source": [
    "print('Hello again,', user_name)"
   ]
  },
  {
   "cell_type": "markdown",
   "id": "3ecec9b8-193d-4d2d-94f3-5dd05ce283c7",
   "metadata": {},
   "source": [
    "Every variable has a _name_. This name can start with \n",
    "- a letter or \n",
    "- an underscore \\_, "
   ]
  },
  {
   "cell_type": "code",
   "execution_count": 11,
   "id": "2dbed2e6-1b7c-4fd7-ad86-1197a37fc147",
   "metadata": {},
   "outputs": [
    {
     "name": "stdout",
     "output_type": "stream",
     "text": [
      "5\n"
     ]
    }
   ],
   "source": [
    "n=5\n",
    "print(n)"
   ]
  },
  {
   "cell_type": "code",
   "execution_count": 13,
   "id": "5298072f-e7ca-492d-99df-8155e77d256a",
   "metadata": {},
   "outputs": [
    {
     "name": "stdout",
     "output_type": "stream",
     "text": [
      "7\n"
     ]
    }
   ],
   "source": [
    "_n=7\n",
    "print(_n)"
   ]
  },
  {
   "cell_type": "markdown",
   "id": "392c0936-184e-4d50-b1d1-262a23ca38ae",
   "metadata": {},
   "source": [
    "Names of variables can contain other characters, but not as first one."
   ]
  },
  {
   "cell_type": "code",
   "execution_count": 14,
   "id": "dfd8b4b3-a581-4cc9-a179-a607034071e1",
   "metadata": {},
   "outputs": [
    {
     "name": "stdout",
     "output_type": "stream",
     "text": [
      "5\n"
     ]
    }
   ],
   "source": [
    "n1=5\n",
    "print(n1)"
   ]
  },
  {
   "cell_type": "code",
   "execution_count": 15,
   "id": "a7cab4da-c7fb-4e3a-8a23-ad503ec22242",
   "metadata": {},
   "outputs": [
    {
     "ename": "SyntaxError",
     "evalue": "invalid syntax (452221973.py, line 2)",
     "output_type": "error",
     "traceback": [
      "\u001b[0;36m  Cell \u001b[0;32mIn[15], line 2\u001b[0;36m\u001b[0m\n\u001b[0;31m    1n=5\u001b[0m\n\u001b[0m     ^\u001b[0m\n\u001b[0;31mSyntaxError\u001b[0m\u001b[0;31m:\u001b[0m invalid syntax\n"
     ]
    }
   ],
   "source": [
    "#You can't do this!\n",
    "1n=5"
   ]
  },
  {
   "cell_type": "markdown",
   "id": "f9aaaa69-ec65-4e4f-b4b6-2e1ccf68e47f",
   "metadata": {},
   "source": [
    "The values of variables can be updated. "
   ]
  },
  {
   "cell_type": "code",
   "execution_count": 20,
   "id": "13e95769-8635-4672-9789-031facba3e12",
   "metadata": {},
   "outputs": [
    {
     "data": {
      "text/plain": [
       "10"
      ]
     },
     "execution_count": 20,
     "metadata": {},
     "output_type": "execute_result"
    }
   ],
   "source": [
    "n=10\n",
    "n"
   ]
  },
  {
   "cell_type": "code",
   "execution_count": 21,
   "id": "f7956f9f-e3ef-4a0b-a4eb-0115cf0063f6",
   "metadata": {},
   "outputs": [
    {
     "name": "stdout",
     "output_type": "stream",
     "text": [
      "6\n"
     ]
    }
   ],
   "source": [
    "n=6\n",
    "print(n)"
   ]
  },
  {
   "cell_type": "markdown",
   "id": "d4d072fe-4435-47d2-8db0-959dd958df25",
   "metadata": {},
   "source": [
    "We can even assign the value of a variable to another one"
   ]
  },
  {
   "cell_type": "code",
   "execution_count": 23,
   "id": "55e8762b-6f9a-4e90-ab05-26b0d1123d7a",
   "metadata": {},
   "outputs": [
    {
     "name": "stdout",
     "output_type": "stream",
     "text": [
      "Before: 6 5\n"
     ]
    }
   ],
   "source": [
    "n2=5\n",
    "print('Before:',n,n2)"
   ]
  },
  {
   "cell_type": "code",
   "execution_count": 22,
   "id": "785702b3-781b-41f5-b5f6-57c9eb43e0ab",
   "metadata": {},
   "outputs": [
    {
     "name": "stdout",
     "output_type": "stream",
     "text": [
      "Before: 6 5\n",
      "After 6 6\n"
     ]
    }
   ],
   "source": [
    "n2=n\n",
    "print('After',n,n2)"
   ]
  },
  {
   "cell_type": "markdown",
   "id": "44214724-8660-4852-bdb1-096852ae3f54",
   "metadata": {},
   "source": [
    "# A quick live example of assignments on Colab\n",
    "We are now ready to solve some simple coding assignments online...\n",
    "- Visit the **Slides, code, assignments and other material** page from our wiki\n",
    "- Access the **Assignments** link for class 1\n",
    "- Start working on the assignments of this class"
   ]
  },
  {
   "cell_type": "markdown",
   "id": "285a8436-bac8-45a9-a9c1-1c67b1230edd",
   "metadata": {},
   "source": [
    "# Data types and operations"
   ]
  },
  {
   "cell_type": "markdown",
   "id": "fa3a34e4-88c7-48e8-96fb-1378d269a529",
   "metadata": {},
   "source": [
    "__Main message:__\n",
    "> __Don't mix apples with oranges__"
   ]
  },
  {
   "cell_type": "markdown",
   "id": "52cba124-3545-4835-ae0e-44cbfbdce8bc",
   "metadata": {},
   "source": [
    "![Do not mix apples with oranges](https://image.shutterstock.com/image-photo/fruit-mix-apple-orange-260nw-81038206.jpg)"
   ]
  },
  {
   "cell_type": "markdown",
   "id": "349ef6bc-8da7-46ce-8a61-acfd418436c6",
   "metadata": {},
   "source": [
    "Data is stored into so-called _objects_. \n",
    "* We will see more on objects in the coming classes\n",
    "\n",
    "For now, it is enough to know that:\n",
    "* A constant (a `numeric`) is an object\n",
    "* A variable is an object\n",
    "* Actually, __everything__ in Python is an object. \n",
    "\n",
    "\n",
    "Every object has a _type_\n",
    "* To every unit of data is associated a type!\n",
    "* The notion of type is very important in computer science.\n",
    "\n",
    "In Python, types are less evident than in other programming languages. \n",
    "> But don't forget: everything has a type in Python.\n",
    "\n",
    "We are going to discuss some of the [Built-in Python types](https://docs.python.org/3/library/stdtypes.html)\n",
    "* __Booleans__\n",
    "* __Numerics (int & float)__\n",
    "* __Strings__\n",
    "* __And how to transform from one type to another__"
   ]
  },
  {
   "cell_type": "markdown",
   "id": "7a60b62b-c9eb-4722-bce8-e0b76ea5373d",
   "metadata": {},
   "source": [
    "## Boolean data type"
   ]
  },
  {
   "cell_type": "code",
   "execution_count": 24,
   "id": "31f4a98e-618c-43f8-b7e6-0bf9da2c492c",
   "metadata": {},
   "outputs": [
    {
     "data": {
      "text/plain": [
       "False"
      ]
     },
     "execution_count": 24,
     "metadata": {},
     "output_type": "execute_result"
    }
   ],
   "source": [
    "False"
   ]
  },
  {
   "cell_type": "code",
   "execution_count": 25,
   "id": "20f62957-fa6e-4ad4-aa82-d73c53a90f2e",
   "metadata": {},
   "outputs": [
    {
     "data": {
      "text/plain": [
       "True"
      ]
     },
     "execution_count": 25,
     "metadata": {},
     "output_type": "execute_result"
    }
   ],
   "source": [
    "True"
   ]
  },
  {
   "cell_type": "code",
   "execution_count": 26,
   "id": "78428b9e-9f4f-480e-b5f1-4510afe2805d",
   "metadata": {},
   "outputs": [
    {
     "name": "stdout",
     "output_type": "stream",
     "text": [
      "False has type <class 'bool'>\n",
      "True has type <class 'bool'>\n"
     ]
    }
   ],
   "source": [
    "print(False,'has type',type(False))\n",
    "print(True,'has type',type(True))"
   ]
  },
  {
   "cell_type": "markdown",
   "id": "9bfe1c1d-210f-4081-b8a0-34f5596b26b6",
   "metadata": {},
   "source": [
    "This is all reasonable but ... what can we do with Booleans?\n",
    "- We can create Boolean expressions\n",
    "- We can use them to control the flow of our programs"
   ]
  },
  {
   "cell_type": "markdown",
   "id": "f0caffb5-b1b3-44d4-beb0-30165b6f7e77",
   "metadata": {},
   "source": [
    "### Boolean expressions and comparisons"
   ]
  },
  {
   "cell_type": "markdown",
   "id": "494dd39b-6f4b-48b2-9366-ef55dd655f9d",
   "metadata": {},
   "source": [
    "We can build expressions of Booleans"
   ]
  },
  {
   "cell_type": "code",
   "execution_count": 27,
   "id": "dc308669-9eef-41b6-81dd-478e90c900c1",
   "metadata": {},
   "outputs": [
    {
     "data": {
      "text/plain": [
       "False"
      ]
     },
     "execution_count": 27,
     "metadata": {},
     "output_type": "execute_result"
    }
   ],
   "source": [
    "not True"
   ]
  },
  {
   "cell_type": "code",
   "execution_count": 28,
   "id": "8416dfe7-4e57-43f2-9748-2d847ff76ac3",
   "metadata": {},
   "outputs": [
    {
     "data": {
      "text/plain": [
       "False"
      ]
     },
     "execution_count": 28,
     "metadata": {},
     "output_type": "execute_result"
    }
   ],
   "source": [
    "True and False"
   ]
  },
  {
   "cell_type": "code",
   "execution_count": 29,
   "id": "861f6a26-45aa-46c2-af23-62722a989dab",
   "metadata": {},
   "outputs": [
    {
     "data": {
      "text/plain": [
       "True"
      ]
     },
     "execution_count": 29,
     "metadata": {},
     "output_type": "execute_result"
    }
   ],
   "source": [
    "True or False"
   ]
  },
  {
   "cell_type": "code",
   "execution_count": 30,
   "id": "a62c3687-5f52-475b-bf28-5be9b1a45048",
   "metadata": {},
   "outputs": [
    {
     "data": {
      "text/plain": [
       "True"
      ]
     },
     "execution_count": 30,
     "metadata": {},
     "output_type": "execute_result"
    }
   ],
   "source": [
    "False or (not False)"
   ]
  },
  {
   "cell_type": "markdown",
   "id": "78de6b2a-f1c3-4626-af4f-d4172d2bb10a",
   "metadata": {},
   "source": [
    "We can create Boolean variables"
   ]
  },
  {
   "cell_type": "code",
   "execution_count": 31,
   "id": "77304149-c0ef-4d17-bfe1-3d287410cfff",
   "metadata": {},
   "outputs": [
    {
     "name": "stdout",
     "output_type": "stream",
     "text": [
      "False has type <class 'bool'>\n"
     ]
    },
    {
     "data": {
      "text/plain": [
       "True"
      ]
     },
     "execution_count": 31,
     "metadata": {},
     "output_type": "execute_result"
    }
   ],
   "source": [
    "v=False\n",
    "print(v,'has type',type(v))\n",
    "v=True\n",
    "v"
   ]
  },
  {
   "cell_type": "markdown",
   "id": "70946b5e-c1e8-43b9-afe4-27e1019e241f",
   "metadata": {},
   "source": [
    "We can also compare Booleans"
   ]
  },
  {
   "cell_type": "code",
   "execution_count": 33,
   "id": "1a0e88a5-d81f-4d02-bb89-42aa45248a61",
   "metadata": {},
   "outputs": [
    {
     "name": "stdout",
     "output_type": "stream",
     "text": [
      "Is v True? False\n",
      "Is v True? True\n"
     ]
    }
   ],
   "source": [
    "v=False\n",
    "print('Is v True?',v==True)\n",
    "v=True\n",
    "print('Is v True?',v==True)"
   ]
  },
  {
   "cell_type": "code",
   "execution_count": 34,
   "id": "b8713a17-43a6-4214-b111-243889fc8863",
   "metadata": {},
   "outputs": [
    {
     "data": {
      "text/plain": [
       "True"
      ]
     },
     "execution_count": 34,
     "metadata": {},
     "output_type": "execute_result"
    }
   ],
   "source": [
    "v"
   ]
  },
  {
   "cell_type": "code",
   "execution_count": 35,
   "id": "99c2d6d9-b63c-484b-ac74-8434ecc03e20",
   "metadata": {},
   "outputs": [
    {
     "data": {
      "text/plain": [
       "True"
      ]
     },
     "execution_count": 35,
     "metadata": {},
     "output_type": "execute_result"
    }
   ],
   "source": [
    "v or (not v)"
   ]
  },
  {
   "cell_type": "markdown",
   "id": "4d7cab7a-a08f-484e-99bf-946cc2d6851d",
   "metadata": {},
   "source": [
    "### Are Booleans useful?"
   ]
  },
  {
   "cell_type": "markdown",
   "id": "67d74c1c-ee46-4c5d-9f7d-5caea6037301",
   "metadata": {},
   "source": [
    "In the rest of this notebook we will see that Boolean expressions are __fundamental to write interesting programs__.<br/>\n",
    "They allow us to decide wheter:\n",
    "* A block of instructions should be executed or not\n",
    "* A block of instructions should be executed 0, 1, or more times ..."
   ]
  },
  {
   "cell_type": "markdown",
   "id": "ac72dfe3-cd2b-4884-a972-529227949550",
   "metadata": {},
   "source": [
    "## Numeric data types"
   ]
  },
  {
   "cell_type": "markdown",
   "id": "b1f1c4d7-7d97-4f66-957e-bb4262375b25",
   "metadata": {},
   "source": [
    "### Integers and reals"
   ]
  },
  {
   "cell_type": "markdown",
   "id": "c5da725d-65ca-4e06-88d7-2a71535472a1",
   "metadata": {},
   "source": [
    "We are going to use \n",
    "* `int` (integers)\n",
    "* `float` (real values)"
   ]
  },
  {
   "cell_type": "code",
   "execution_count": 37,
   "id": "2b30b2db-fa3d-49a3-939e-1c0b48ac816a",
   "metadata": {},
   "outputs": [
    {
     "data": {
      "text/plain": [
       "5"
      ]
     },
     "execution_count": 37,
     "metadata": {},
     "output_type": "execute_result"
    }
   ],
   "source": [
    "5\n",
    "-5\n",
    "n=5\n",
    "n"
   ]
  },
  {
   "cell_type": "code",
   "execution_count": 38,
   "id": "dff68138-ff80-4876-8095-9279b4226348",
   "metadata": {},
   "outputs": [
    {
     "data": {
      "text/plain": [
       "int"
      ]
     },
     "execution_count": 38,
     "metadata": {},
     "output_type": "execute_result"
    }
   ],
   "source": [
    "type(5)"
   ]
  },
  {
   "cell_type": "code",
   "execution_count": 39,
   "id": "c2a0da63-de90-4e9b-9d50-b72fb6012045",
   "metadata": {},
   "outputs": [
    {
     "data": {
      "text/plain": [
       "int"
      ]
     },
     "execution_count": 39,
     "metadata": {},
     "output_type": "execute_result"
    }
   ],
   "source": [
    "type(-5)"
   ]
  },
  {
   "cell_type": "code",
   "execution_count": 40,
   "id": "ab0255d6-620e-4d26-929d-244428c36f49",
   "metadata": {},
   "outputs": [
    {
     "data": {
      "text/plain": [
       "int"
      ]
     },
     "execution_count": 40,
     "metadata": {},
     "output_type": "execute_result"
    }
   ],
   "source": [
    "type(n)"
   ]
  },
  {
   "cell_type": "code",
   "execution_count": 41,
   "id": "42bcbf4f-dfc8-4ca8-a8f2-26317d83dced",
   "metadata": {},
   "outputs": [
    {
     "data": {
      "text/plain": [
       "5"
      ]
     },
     "execution_count": 41,
     "metadata": {},
     "output_type": "execute_result"
    }
   ],
   "source": [
    "n"
   ]
  },
  {
   "cell_type": "markdown",
   "id": "0a665e81-26dc-4457-b977-71fa02e34eb8",
   "metadata": {},
   "source": [
    "When we need real numbers, we use the `float` data type"
   ]
  },
  {
   "cell_type": "code",
   "execution_count": 42,
   "id": "96e8b656-3aae-4985-bde5-79505070cf6f",
   "metadata": {},
   "outputs": [
    {
     "name": "stdout",
     "output_type": "stream",
     "text": [
      "5 has type <class 'int'>\n",
      "-5 has type <class 'int'>\n",
      "5.1 has type <class 'float'>\n",
      "0.0012 has type <class 'float'>\n",
      "0.0012 has type <class 'float'>\n",
      "1200.0 has type <class 'float'>\n"
     ]
    }
   ],
   "source": [
    "v=5\n",
    "print(v,'has type',type(v))\n",
    "v=-5\n",
    "print(v,'has type',type(v))\n",
    "v=5.1\n",
    "print(v,'has type',type(v))\n",
    "v=1.2e-3\n",
    "print(v,'has type',type(v))\n",
    "v=1.2E-3\n",
    "print(v,'has type',type(v))\n",
    "v=1.2e+3\n",
    "print(v,'has type',type(v))"
   ]
  },
  {
   "cell_type": "markdown",
   "id": "98a2849f-e34c-4f1c-95e4-4017b7845b6b",
   "metadata": {},
   "source": [
    "If you mix int and float, you get... float!\n",
    "- 2.5 * 2 = 5.0"
   ]
  },
  {
   "cell_type": "code",
   "execution_count": 44,
   "id": "07bb1cb5-4fe0-4ce6-a4a5-b8211188dc8d",
   "metadata": {},
   "outputs": [
    {
     "name": "stdout",
     "output_type": "stream",
     "text": [
      "5.0\n"
     ]
    },
    {
     "data": {
      "text/plain": [
       "float"
      ]
     },
     "execution_count": 44,
     "metadata": {},
     "output_type": "execute_result"
    }
   ],
   "source": [
    "print(2.5*2)\n",
    "# 2.5*2.0\n",
    "type(2.5*2)"
   ]
  },
  {
   "cell_type": "code",
   "execution_count": 46,
   "id": "68a208bf-ff3e-48fe-987f-2ca237b213a7",
   "metadata": {},
   "outputs": [
    {
     "data": {
      "text/plain": [
       "float"
      ]
     },
     "execution_count": 46,
     "metadata": {},
     "output_type": "execute_result"
    }
   ],
   "source": [
    "type(5.0)"
   ]
  },
  {
   "cell_type": "code",
   "execution_count": 47,
   "id": "e8db14f9-9bc4-4e45-8764-957057b41619",
   "metadata": {},
   "outputs": [
    {
     "data": {
      "text/plain": [
       "int"
      ]
     },
     "execution_count": 47,
     "metadata": {},
     "output_type": "execute_result"
    }
   ],
   "source": [
    "type(5)"
   ]
  },
  {
   "cell_type": "markdown",
   "id": "303210ee-c585-453f-af6c-04e3faf4a6ce",
   "metadata": {},
   "source": [
    "### Comparison operations"
   ]
  },
  {
   "cell_type": "code",
   "execution_count": 48,
   "id": "0b5fb06f-6cb9-419b-b2e6-139476992a06",
   "metadata": {},
   "outputs": [
    {
     "data": {
      "image/png": "[encoded data removed]",
      "text/plain": [
       "<IPython.core.display.Image object>"
      ]
     },
     "metadata": {},
     "output_type": "display_data"
    }
   ],
   "source": [
    "# From library IPython.display we import the type Image and the function display\n",
    "from IPython.display import Image, display\n",
    "img=Image(url_github_repo+'jupyter/jupyterNotebooks/images/comparisonOperationsNoIs.png')\n",
    "display(img)"
   ]
  },
  {
   "cell_type": "markdown",
   "id": "7bbd0fae-0b68-4b33-9c54-b25592f70f44",
   "metadata": {},
   "source": [
    "These have the expected meaning (or _semantics_)"
   ]
  },
  {
   "cell_type": "code",
   "execution_count": 49,
   "id": "9b1f92b9-589c-4360-9914-e8a5107a2098",
   "metadata": {},
   "outputs": [
    {
     "name": "stdout",
     "output_type": "stream",
     "text": [
      "5 < 7 True\n",
      "v2 == v1 True\n",
      "v2 != v1 False\n"
     ]
    }
   ],
   "source": [
    "print('5 < 7',5 < 7)\n",
    "#print('7 < 5',7 < 5 or 3 > 2)\n",
    "v1=5\n",
    "v2=v1\n",
    "print('v2 == v1',v2 == v1)\n",
    "print('v2 != v1',v2 != v1)"
   ]
  },
  {
   "cell_type": "markdown",
   "id": "65b8b28a-310c-4d06-b1b2-febd81f4139f",
   "metadata": {},
   "source": [
    "### Arithmetic operations"
   ]
  },
  {
   "cell_type": "markdown",
   "id": "5855d125-d887-41fd-9811-e0c847b1f731",
   "metadata": {},
   "source": [
    "We can create arithmetic expressions using:\n",
    "*   \\+    addition\n",
    "*   \\-    subtraction\n",
    "*   \\*    multiplication\n",
    "*   /     division\n",
    "*   %     remainder\n",
    "*   //    __floor division__ \n",
    "*   **    __exponentiation__\n",
    "*   abs() absolute value"
   ]
  },
  {
   "cell_type": "code",
   "execution_count": 50,
   "id": "efd45800-219a-4d7a-b58f-34e697742611",
   "metadata": {},
   "outputs": [
    {
     "name": "stdout",
     "output_type": "stream",
     "text": [
      "5+2    = 7\n",
      "5-2    = 3\n",
      "4.1*2  = 8.2\n",
      "4.1/2  = 2.05\n",
      "5/2    = 2.5\n",
      "5%2    = 1\n",
      "5//2   = 2\n",
      "5**2   = 25\n",
      "abs(-5)= 5\n"
     ]
    }
   ],
   "source": [
    "print('5+2    =',5+2)\n",
    "print('5-2    =',5-2)\n",
    "print('4.1*2  =',4.1*2)\n",
    "print('4.1/2  =',4.1/2)\n",
    "print('5/2    =',5/2)\n",
    "print('5%2    =',5%2)\n",
    "print('5//2   =',5//2)\n",
    "print('5**2   =',5**2)\n",
    "print('abs(-5)=',abs(-5))"
   ]
  },
  {
   "cell_type": "markdown",
   "id": "72ce428e-1fc4-4a5c-a142-75a1016ce082",
   "metadata": {},
   "source": [
    "Floor division \n",
    "- does not round to the closest integer, \n",
    "- does not just drop the decimal part\n",
    "\n",
    "It rounds towards the **smallest (close) integer**"
   ]
  },
  {
   "cell_type": "code",
   "execution_count": 51,
   "id": "34ce4925-9155-4d28-ac35-d8aa15b41849",
   "metadata": {},
   "outputs": [
    {
     "name": "stdout",
     "output_type": "stream",
     "text": [
      " 0.1/2  =  0.05\n",
      " 0.1//2 =  0.0\n",
      "\n",
      "-0.1/2  = -0.05\n",
      "-0.1//2 = -1.0\n"
     ]
    }
   ],
   "source": [
    "print(' 0.1/2  = ',0.1/2)\n",
    "print(' 0.1//2 = ',0.1//2)\n",
    "print()\n",
    "print('-0.1/2  =',-0.1/2)\n",
    "print('-0.1//2 =',-0.1//2)"
   ]
  },
  {
   "cell_type": "code",
   "execution_count": 52,
   "id": "9f60dc1b-621c-42a2-9b18-ab924d1224a6",
   "metadata": {},
   "outputs": [
    {
     "data": {
      "text/plain": [
       "14"
      ]
     },
     "execution_count": 52,
     "metadata": {},
     "output_type": "execute_result"
    }
   ],
   "source": [
    "5+2+3+4"
   ]
  },
  {
   "cell_type": "code",
   "execution_count": 53,
   "id": "2173ecc6-db89-479f-938a-3593076e5b6c",
   "metadata": {},
   "outputs": [
    {
     "data": {
      "text/plain": [
       "25"
      ]
     },
     "execution_count": 53,
     "metadata": {},
     "output_type": "execute_result"
    }
   ],
   "source": [
    "5+2*10\n",
    "#5+(2*10)"
   ]
  },
  {
   "cell_type": "code",
   "execution_count": 63,
   "id": "5ab68fd7-98a7-43ea-afdf-974f97cba667",
   "metadata": {},
   "outputs": [
    {
     "data": {
      "text/plain": [
       "205"
      ]
     },
     "execution_count": 63,
     "metadata": {},
     "output_type": "execute_result"
    }
   ],
   "source": [
    "5+2*10**2"
   ]
  },
  {
   "cell_type": "markdown",
   "id": "63f364ca-b749-4287-a963-525bac55dd48",
   "metadata": {},
   "source": [
    "In Python, in complex arithmetic expressions\n",
    "* The operations are evaluated according to the correct priorities from Math\n",
    "  * E.g., `1+2*3**4` is parsed as `4+(2*(3**4))`\n",
    "* In case of operations with same priority, they are executed from left to right\n",
    "  * E.g., `1+2-3' is parsed as `(1+2)-3`"
   ]
  },
  {
   "cell_type": "markdown",
   "id": "e21213c7-f534-4af9-a494-08274a6d7e05",
   "metadata": {},
   "source": [
    "Precedence among operators:\n",
    "    \n",
    "| __Priority__ | __Operation__| __Description__         |\n",
    "|--:|:-:|:-:|\n",
    "| Highest | **       | Exponentiation              |\n",
    "| | -        | Sign negation               |\n",
    "| | * / % // | mult, div, remainder, floor |\n",
    "| Lowest | + -      | sum, subtraction            |"
   ]
  },
  {
   "cell_type": "markdown",
   "id": "4a672a3f-14bd-4a30-9115-4eaff8cb4c62",
   "metadata": {
    "tags": []
   },
   "source": [
    "## Strings"
   ]
  },
  {
   "cell_type": "markdown",
   "id": "516b5508-84d9-4551-872c-0e2cd2cefbab",
   "metadata": {},
   "source": [
    "### What is a string?"
   ]
  },
  {
   "cell_type": "markdown",
   "id": "0cf3f2c2-6eb1-4f98-a474-04beb437a962",
   "metadata": {},
   "source": [
    "We already used another data type: \n",
    "- strings (or `str`)\n",
    "\n",
    "Do you remember about `print('Hello, world!')`?\n",
    "* Well, `'Hello, world!'` is a string."
   ]
  },
  {
   "cell_type": "markdown",
   "id": "309acba1-f0c8-48bf-95d3-85132f2a3872",
   "metadata": {},
   "source": [
    "A string:\n",
    "* is a sequence of zero (`''`), one (`'a'`) or more (`'Hello, world!'`) characters\n",
    "* is enclosed in `'single'` or `\"double\"` quotes\n",
    "* can consist of multiple lines:"
   ]
  },
  {
   "cell_type": "code",
   "execution_count": null,
   "id": "1c79bfa6-2b12-4550-9edd-eddb2eb1ce63",
   "metadata": {},
   "outputs": [],
   "source": [
    "msg=\"\"\"Hello\n",
    ",\n",
    " world\n",
    "!\"\"\"\n",
    "print(msg)"
   ]
  },
  {
   "cell_type": "code",
   "execution_count": null,
   "id": "e914d46a-06a0-4889-9a00-8c56283cc3b9",
   "metadata": {},
   "outputs": [],
   "source": [
    "msg2=\"Hello\\n,\\n world\\n!\"\n",
    "print(msg2)"
   ]
  },
  {
   "cell_type": "code",
   "execution_count": 57,
   "id": "a00f787e-1116-4b6d-8721-921a3da7aa03",
   "metadata": {},
   "outputs": [
    {
     "data": {
      "text/plain": [
       "'ciao'"
      ]
     },
     "execution_count": 57,
     "metadata": {},
     "output_type": "execute_result"
    }
   ],
   "source": [
    "'ciao'"
   ]
  },
  {
   "cell_type": "code",
   "execution_count": 58,
   "id": "1c68193d-fd93-4a05-a831-b38f344463f2",
   "metadata": {},
   "outputs": [
    {
     "data": {
      "text/plain": [
       "'ciao'"
      ]
     },
     "execution_count": 58,
     "metadata": {},
     "output_type": "execute_result"
    }
   ],
   "source": [
    "\"ciao\""
   ]
  },
  {
   "cell_type": "code",
   "execution_count": 59,
   "id": "0c47e981-3113-4310-9494-bc8c2f9fcd66",
   "metadata": {},
   "outputs": [
    {
     "name": "stdout",
     "output_type": "stream",
     "text": [
      "ciao 'andrea'!\n"
     ]
    }
   ],
   "source": [
    "print(\"ciao 'andrea'!\")"
   ]
  },
  {
   "cell_type": "markdown",
   "id": "9f01acc1-3bf4-4808-af67-6a8b45a72313",
   "metadata": {},
   "source": [
    "Are there any operations on strings?"
   ]
  },
  {
   "cell_type": "code",
   "execution_count": 66,
   "id": "ccfc709a-c4cc-43b0-ba88-8a108c91321e",
   "metadata": {},
   "outputs": [
    {
     "data": {
      "text/plain": [
       "'Hello world!'"
      ]
     },
     "execution_count": 66,
     "metadata": {},
     "output_type": "execute_result"
    }
   ],
   "source": [
    "\"Hello\" + \" \" + 'world' + \"!\""
   ]
  },
  {
   "cell_type": "code",
   "execution_count": 68,
   "id": "39dd69ce-7d48-44d4-9902-12e5e9f69f17",
   "metadata": {},
   "outputs": [
    {
     "data": {
      "text/plain": [
       "'57'"
      ]
     },
     "execution_count": 68,
     "metadata": {},
     "output_type": "execute_result"
    }
   ],
   "source": [
    "\"5\" + \"7\" "
   ]
  },
  {
   "cell_type": "code",
   "execution_count": 69,
   "id": "fd8f476a-0228-470c-9736-c2d1dcee2c64",
   "metadata": {},
   "outputs": [
    {
     "data": {
      "text/plain": [
       "12"
      ]
     },
     "execution_count": 69,
     "metadata": {},
     "output_type": "execute_result"
    }
   ],
   "source": [
    "5 + 7"
   ]
  },
  {
   "cell_type": "code",
   "execution_count": 70,
   "id": "910c6248-04e9-40a2-b995-1df78f64a60a",
   "metadata": {},
   "outputs": [
    {
     "data": {
      "text/plain": [
       "'CiaoCiaoCiao'"
      ]
     },
     "execution_count": 70,
     "metadata": {},
     "output_type": "execute_result"
    }
   ],
   "source": [
    "\"Ciao\" * 3"
   ]
  },
  {
   "cell_type": "markdown",
   "id": "bf9f8c5a-dca3-4914-a54e-feebc82b9119",
   "metadata": {},
   "source": [
    "We can also compare strings"
   ]
  },
  {
   "cell_type": "code",
   "execution_count": 71,
   "id": "b8eb0a79-ea21-4175-83cf-c09a7873dcce",
   "metadata": {},
   "outputs": [
    {
     "data": {
      "text/plain": [
       "True"
      ]
     },
     "execution_count": 71,
     "metadata": {},
     "output_type": "execute_result"
    }
   ],
   "source": [
    "\"cIAo\" == \"cIAo\""
   ]
  },
  {
   "cell_type": "code",
   "execution_count": 72,
   "id": "695b62ce-38dd-42fe-aec8-225c1e84de02",
   "metadata": {},
   "outputs": [
    {
     "data": {
      "text/plain": [
       "False"
      ]
     },
     "execution_count": 72,
     "metadata": {},
     "output_type": "execute_result"
    }
   ],
   "source": [
    "\"ciao\" == \"CIAO\""
   ]
  },
  {
   "cell_type": "code",
   "execution_count": 73,
   "id": "c9946526-f473-4bf0-a705-c4fba6a0751e",
   "metadata": {},
   "outputs": [
    {
     "data": {
      "text/plain": [
       "True"
      ]
     },
     "execution_count": 73,
     "metadata": {},
     "output_type": "execute_result"
    }
   ],
   "source": [
    "\"a\" < \"b\""
   ]
  },
  {
   "cell_type": "code",
   "execution_count": 74,
   "id": "81c0c631-875a-4dd1-93d5-f8746ae59610",
   "metadata": {},
   "outputs": [
    {
     "data": {
      "text/plain": [
       "False"
      ]
     },
     "execution_count": 74,
     "metadata": {},
     "output_type": "execute_result"
    }
   ],
   "source": [
    "\"y\" < \"x\""
   ]
  },
  {
   "cell_type": "markdown",
   "id": "b12d1cbb-a58b-4293-adb7-37d1651fe6ad",
   "metadata": {},
   "source": [
    "Strings can be compared using the lexicographical order\n",
    "* In the same way in which they are sorted in any dictionary (the book of words): \n",
    "> you compare letter by letter starting from the left-most"
   ]
  },
  {
   "cell_type": "code",
   "execution_count": 75,
   "id": "eec16d1a-2d63-4b80-803e-228049e4acd1",
   "metadata": {},
   "outputs": [
    {
     "data": {
      "text/plain": [
       "True"
      ]
     },
     "execution_count": 75,
     "metadata": {},
     "output_type": "execute_result"
    }
   ],
   "source": [
    "\"aba\" < \"abb\""
   ]
  },
  {
   "cell_type": "markdown",
   "id": "2b57354f-8f27-4ba0-8da3-875f59c6298a",
   "metadata": {},
   "source": [
    "### Strings as sequences"
   ]
  },
  {
   "cell_type": "markdown",
   "id": "bf15620e-a428-48d3-806c-54d946bd3305",
   "metadata": {},
   "source": [
    "You can access single characters of a string treating it as a __sequence__ \n",
    "* A sequence is an ordered collection of objects. \n",
    "  * In this case, an ordered collection of characters (each of type `str`) \n",
    "* We will cover in detail sequences in next chapter"
   ]
  },
  {
   "cell_type": "code",
   "execution_count": 76,
   "id": "37f91b53-b193-4120-aad9-381137ac0011",
   "metadata": {},
   "outputs": [
    {
     "data": {
      "text/plain": [
       "'HELLOWORLD!'"
      ]
     },
     "execution_count": 76,
     "metadata": {},
     "output_type": "execute_result"
    }
   ],
   "source": [
    "s=\"HELLOWORLD!\"\n",
    "s"
   ]
  },
  {
   "cell_type": "code",
   "execution_count": 77,
   "id": "f3983de7-3c81-47b2-b269-f3fb4d0c650a",
   "metadata": {},
   "outputs": [
    {
     "data": {
      "image/png": "[encoded data removed]",
      "text/plain": [
       "<IPython.core.display.Image object>"
      ]
     },
     "metadata": {},
     "output_type": "display_data"
    }
   ],
   "source": [
    "from IPython.display import Image, display\n",
    "img=Image(url_github_repo+'jupyter/jupyterNotebooks/images/stringAsSequence.png')\n",
    "display(img)"
   ]
  },
  {
   "cell_type": "code",
   "execution_count": 78,
   "id": "f4e78d40-f77b-4e2a-8f10-f3995144045a",
   "metadata": {},
   "outputs": [
    {
     "name": "stdout",
     "output_type": "stream",
     "text": [
      "s[0] is H\n",
      "s[10] is !\n",
      "The length of s is 11\n"
     ]
    }
   ],
   "source": [
    "print('s[0] is',s[0])\n",
    "print('s[10] is',s[10])\n",
    "print('The length of s is',len(s))"
   ]
  },
  {
   "cell_type": "code",
   "execution_count": 79,
   "id": "c0226fc2-84da-4c7e-b3b5-723725c97728",
   "metadata": {},
   "outputs": [
    {
     "ename": "IndexError",
     "evalue": "string index out of range",
     "output_type": "error",
     "traceback": [
      "\u001b[0;31m---------------------------------------------------------------------------\u001b[0m",
      "\u001b[0;31mIndexError\u001b[0m                                Traceback (most recent call last)",
      "Cell \u001b[0;32mIn[79], line 1\u001b[0m\n\u001b[0;32m----> 1\u001b[0m \u001b[43ms\u001b[49m\u001b[43m[\u001b[49m\u001b[38;5;28;43mlen\u001b[39;49m\u001b[43m(\u001b[49m\u001b[43ms\u001b[49m\u001b[43m)\u001b[49m\u001b[43m]\u001b[49m\n\u001b[1;32m      2\u001b[0m \u001b[38;5;66;03m#s[11]\u001b[39;00m\n\u001b[1;32m      3\u001b[0m \u001b[38;5;66;03m#\u001b[39;00m\n\u001b[1;32m      4\u001b[0m \u001b[38;5;66;03m#\u001b[39;00m\n\u001b[1;32m      5\u001b[0m \u001b[38;5;66;03m#I don't exist! :D\u001b[39;00m\n",
      "\u001b[0;31mIndexError\u001b[0m: string index out of range"
     ]
    }
   ],
   "source": [
    "s[len(s)]\n",
    "#s[11]\n",
    "#\n",
    "#\n",
    "#I don't exist! :D"
   ]
  },
  {
   "cell_type": "code",
   "execution_count": 81,
   "id": "4a5e6711-5c70-45b5-aebb-f55695a3109a",
   "metadata": {},
   "outputs": [
    {
     "name": "stdout",
     "output_type": "stream",
     "text": [
      "0\n",
      "1\n",
      "2\n",
      "3\n",
      "4\n",
      "5\n",
      "6\n",
      "7\n"
     ]
    }
   ],
   "source": [
    "s=\"01234567\"\n",
    "print(s[0])\n",
    "print(s[1])\n",
    "print(s[2])\n",
    "print(s[3])\n",
    "print(s[4])\n",
    "print(s[5])\n",
    "print(s[6])\n",
    "print(s[7])"
   ]
  },
  {
   "cell_type": "markdown",
   "id": "883553c3-9751-45a2-9f6b-f892ba57c6d8",
   "metadata": {},
   "source": [
    "The number of elements in a string is known as its _length_"
   ]
  },
  {
   "cell_type": "code",
   "execution_count": 82,
   "id": "1a60fcbf-541f-450e-a252-a3ff4fdf3172",
   "metadata": {},
   "outputs": [
    {
     "name": "stdout",
     "output_type": "stream",
     "text": [
      "The legth of 01234567 is 8\n"
     ]
    }
   ],
   "source": [
    "print('The legth of',s,'is',len(s))"
   ]
  },
  {
   "cell_type": "markdown",
   "id": "0864b3ba-2a34-4c4d-80ec-32f10757a02c",
   "metadata": {},
   "source": [
    "You can access any entry from `0` to `len(s)-1`. Otherwise you get a _runtime error_\n",
    "> Never forget the `-1`. This is gives rise to way too many bugs :D\n",
    "<br/>\n",
    "> `s[len(s)-1]` <span style=\"color:green\">GOOD</span> <br/>\n",
    "> `s[len(s)  ]`   <span style=\"color:red\">__NOT GOOD__</span>"
   ]
  },
  {
   "cell_type": "code",
   "execution_count": 85,
   "id": "87258358-4a8e-46eb-ab73-80d3b2c5e80a",
   "metadata": {},
   "outputs": [
    {
     "data": {
      "text/plain": [
       "'01234567'"
      ]
     },
     "execution_count": 85,
     "metadata": {},
     "output_type": "execute_result"
    }
   ],
   "source": [
    "s"
   ]
  },
  {
   "cell_type": "code",
   "execution_count": 83,
   "id": "66002a78-abab-4b71-82a9-fb1e54682876",
   "metadata": {},
   "outputs": [
    {
     "data": {
      "text/plain": [
       "'7'"
      ]
     },
     "execution_count": 83,
     "metadata": {},
     "output_type": "execute_result"
    }
   ],
   "source": [
    "s[len(s)-1]"
   ]
  },
  {
   "cell_type": "code",
   "execution_count": 84,
   "id": "06c01c3f-efd1-4396-b26c-98d4410ce3fa",
   "metadata": {},
   "outputs": [
    {
     "data": {
      "text/plain": [
       "'7'"
      ]
     },
     "execution_count": 84,
     "metadata": {},
     "output_type": "execute_result"
    }
   ],
   "source": [
    "s[-1]"
   ]
  },
  {
   "cell_type": "code",
   "execution_count": 86,
   "id": "466d5331-4dbc-43d2-81e8-4ad217757e40",
   "metadata": {},
   "outputs": [
    {
     "data": {
      "text/plain": [
       "'6'"
      ]
     },
     "execution_count": 86,
     "metadata": {},
     "output_type": "execute_result"
    }
   ],
   "source": [
    "s[-2]"
   ]
  },
  {
   "cell_type": "markdown",
   "id": "aa25b098-987f-4e7b-94d8-48077674f3df",
   "metadata": {},
   "source": [
    "There are also some convenient ways to access characters or substrings"
   ]
  },
  {
   "cell_type": "code",
   "execution_count": null,
   "id": "f059f6f2-5bcb-46a0-a827-8ae30f486d58",
   "metadata": {},
   "outputs": [],
   "source": [
    "s"
   ]
  },
  {
   "cell_type": "code",
   "execution_count": 88,
   "id": "b83022ff-8e68-4ed8-bdbf-619fb4c24924",
   "metadata": {},
   "outputs": [
    {
     "name": "stdout",
     "output_type": "stream",
     "text": [
      "         01234567\n",
      "s[-1]  =        7\n",
      "s[-2]  =       6\n",
      "s[1:4] =   123\n",
      "s[:4]  = 0123\n",
      "s[4:]  =     4567\n"
     ]
    }
   ],
   "source": [
    "print(\"        \",s)\n",
    "print('s[-1]  =       ',s[-1])\n",
    "print('s[-2]  =      ' ,s[-2])\n",
    "print('s[1:4] =  '     ,s[1:4]) # note that 4 is excluded\n",
    "print('s[:4]  ='       ,s[:4])   # note that 4 is excluded\n",
    "print('s[4:]  =    '   ,s[4:])"
   ]
  },
  {
   "cell_type": "markdown",
   "id": "e69eae64-bdb6-4e72-beb0-51a1dcb9f686",
   "metadata": {},
   "source": [
    "We can also ask what is the min/max character in a string\n",
    "- Somehow counter-intuitively UPPER-case letters are 'smaller' than lower-case"
   ]
  },
  {
   "cell_type": "code",
   "execution_count": null,
   "id": "98bf7186-6757-4744-a224-54c7ec7772ee",
   "metadata": {},
   "outputs": [],
   "source": [
    "s='abcdABCD'\n",
    "print('The min of',s,'is',min(s))\n",
    "print('The max of',s,'is',max(s))"
   ]
  },
  {
   "cell_type": "markdown",
   "id": "ea0dfaf5-1b2a-41b6-b901-206e1d2a6838",
   "metadata": {},
   "source": [
    "A string is _immutable_. Meaning that you cannot modify it. \n",
    "* If you want, e.g., a substring, you create a new string that contains the required substring\n",
    "> s[0]='1' <span style=\"color:red\">__NOT GOOD__</span>"
   ]
  },
  {
   "cell_type": "code",
   "execution_count": null,
   "id": "770f25b2-0cb4-4019-b68b-0e8f854d7379",
   "metadata": {},
   "outputs": [],
   "source": [
    "#s[0]\n",
    "s[0]='1'"
   ]
  },
  {
   "cell_type": "markdown",
   "id": "901f46b7-a8a2-4c02-8da9-2a5c2cc3030b",
   "metadata": {},
   "source": [
    "### Strings as objects"
   ]
  },
  {
   "cell_type": "markdown",
   "id": "8ba71bf2-f8ba-4561-a05e-b284b6ef2644",
   "metadata": {},
   "source": [
    "#### What is an object?"
   ]
  },
  {
   "cell_type": "markdown",
   "id": "9e020884-55a9-4ef7-969f-b5c7d8b55966",
   "metadata": {},
   "source": [
    "In later chapters we will discuss Object-Oriented programming (OOP).\n",
    "* However, you are being introduced to the notion of objects from the very beginning.\n",
    "\n",
    "The main ingredient of OOP are objects"
   ]
  },
  {
   "cell_type": "markdown",
   "id": "0e0f1fa9-42a5-41d2-a64d-3c0e3916cace",
   "metadata": {},
   "source": [
    "__Objects__ are a powerful concept in programming languages\n",
    "* All most-used programming languages support objects\n",
    "\n",
    "For now think of objects as:\n",
    "* _a richer data type that also offers functionalities to manipulate its data_\n",
    "\n",
    "If `obj` is an object, and `method1` is a functionality offered by it, then\n",
    "* `obj.method1()` performs the functionality named `method1` on its data\n",
    "\n",
    "Some terminology:\n",
    "* The type of an oject is known as its _class_\n",
    "* An object is an _instance_ of its class\n",
    "* `obj.method1()` invokes the method `method1` on object `obj`"
   ]
  },
  {
   "cell_type": "markdown",
   "id": "2e72ade2-0f5f-4088-a355-d44dcc50a8ed",
   "metadata": {},
   "source": [
    "### Some of the methods of strings"
   ]
  },
  {
   "cell_type": "markdown",
   "id": "4dfeb446-1c87-4ed7-ba60-dd44def28b9e",
   "metadata": {},
   "source": [
    "Remember: string are immutable\n",
    "- These methods create new strings without modifying the original one"
   ]
  },
  {
   "cell_type": "code",
   "execution_count": 89,
   "id": "96a06de0-59aa-4a41-87dd-e65f76c6824b",
   "metadata": {},
   "outputs": [
    {
     "data": {
      "text/plain": [
       "'CIAO'"
      ]
     },
     "execution_count": 89,
     "metadata": {},
     "output_type": "execute_result"
    }
   ],
   "source": [
    "\"cIAo\".upper()"
   ]
  },
  {
   "cell_type": "code",
   "execution_count": 90,
   "id": "4ce08eea-58de-4acb-b099-6e852c8169fd",
   "metadata": {},
   "outputs": [
    {
     "data": {
      "text/plain": [
       "'ciao'"
      ]
     },
     "execution_count": 90,
     "metadata": {},
     "output_type": "execute_result"
    }
   ],
   "source": [
    "\"cIAo\".lower()"
   ]
  },
  {
   "cell_type": "code",
   "execution_count": 91,
   "id": "06b42183-5079-46ac-b429-11d7fca59204",
   "metadata": {},
   "outputs": [
    {
     "data": {
      "text/plain": [
       "'Hello, Andrea!'"
      ]
     },
     "execution_count": 91,
     "metadata": {},
     "output_type": "execute_result"
    }
   ],
   "source": [
    "'Hello, world!'.replace('world','Andrea')"
   ]
  },
  {
   "cell_type": "markdown",
   "id": "872ec655-4458-4de2-a264-cc1a63648174",
   "metadata": {},
   "source": [
    "Let's look at more methods..."
   ]
  },
  {
   "cell_type": "code",
   "execution_count": null,
   "id": "1b1566ea-eb50-4b99-a3bd-b4e47d6c6457",
   "metadata": {},
   "outputs": [],
   "source": [
    "'Hello, world!'.isalpha()"
   ]
  },
  {
   "cell_type": "markdown",
   "id": "32efc2a1-60b4-4a00-a401-04fa977f600e",
   "metadata": {},
   "source": [
    ">I can't remember what `isAlpha` does..."
   ]
  },
  {
   "cell_type": "code",
   "execution_count": null,
   "id": "3ed02889-29dc-44c2-80b0-6fc179bb2fca",
   "metadata": {},
   "outputs": [],
   "source": [
    "type('Hello, world!'.isalpha)"
   ]
  },
  {
   "cell_type": "code",
   "execution_count": 94,
   "id": "3055caa1-f77b-4a2f-9664-7163726474d4",
   "metadata": {},
   "outputs": [
    {
     "name": "stdout",
     "output_type": "stream",
     "text": [
      "Help on built-in function isalpha:\n",
      "\n",
      "isalpha() method of builtins.str instance\n",
      "    Return True if the string is an alphabetic string, False otherwise.\n",
      "    \n",
      "    A string is alphabetic if all characters in the string are alphabetic and there\n",
      "    is at least one character in the string.\n",
      "\n"
     ]
    }
   ],
   "source": [
    "help('Hello, world!'.isalpha)"
   ]
  },
  {
   "cell_type": "markdown",
   "id": "bebba384-de2d-415b-9d0f-6e2c5acebdab",
   "metadata": {},
   "source": [
    "> I can't remember what are the methods offered by string objects...<br/>\n",
    "> * In the list below, for now ignore the methods starting with `_`"
   ]
  },
  {
   "cell_type": "code",
   "execution_count": 92,
   "id": "4078518f-8762-4d2a-82ef-933213810b00",
   "metadata": {},
   "outputs": [
    {
     "name": "stdout",
     "output_type": "stream",
     "text": [
      "Help on built-in function print in module builtins:\n",
      "\n",
      "print(...)\n",
      "    print(value, ..., sep=' ', end='\\n', file=sys.stdout, flush=False)\n",
      "    \n",
      "    Prints the values to a stream, or to sys.stdout by default.\n",
      "    Optional keyword arguments:\n",
      "    file:  a file-like object (stream); defaults to the current sys.stdout.\n",
      "    sep:   string inserted between values, default a space.\n",
      "    end:   string appended after the last value, default a newline.\n",
      "    flush: whether to forcibly flush the stream.\n",
      "\n"
     ]
    }
   ],
   "source": [
    "help(print)"
   ]
  },
  {
   "cell_type": "code",
   "execution_count": 93,
   "id": "35d59c56-e412-4b08-b9d7-052d071e2725",
   "metadata": {},
   "outputs": [
    {
     "data": {
      "text/plain": [
       "['__add__',\n",
       " '__class__',\n",
       " '__contains__',\n",
       " '__delattr__',\n",
       " '__dir__',\n",
       " '__doc__',\n",
       " '__eq__',\n",
       " '__format__',\n",
       " '__ge__',\n",
       " '__getattribute__',\n",
       " '__getitem__',\n",
       " '__getnewargs__',\n",
       " '__gt__',\n",
       " '__hash__',\n",
       " '__init__',\n",
       " '__init_subclass__',\n",
       " '__iter__',\n",
       " '__le__',\n",
       " '__len__',\n",
       " '__lt__',\n",
       " '__mod__',\n",
       " '__mul__',\n",
       " '__ne__',\n",
       " '__new__',\n",
       " '__reduce__',\n",
       " '__reduce_ex__',\n",
       " '__repr__',\n",
       " '__rmod__',\n",
       " '__rmul__',\n",
       " '__setattr__',\n",
       " '__sizeof__',\n",
       " '__str__',\n",
       " '__subclasshook__',\n",
       " 'capitalize',\n",
       " 'casefold',\n",
       " 'center',\n",
       " 'count',\n",
       " 'encode',\n",
       " 'endswith',\n",
       " 'expandtabs',\n",
       " 'find',\n",
       " 'format',\n",
       " 'format_map',\n",
       " 'index',\n",
       " 'isalnum',\n",
       " 'isalpha',\n",
       " 'isascii',\n",
       " 'isdecimal',\n",
       " 'isdigit',\n",
       " 'isidentifier',\n",
       " 'islower',\n",
       " 'isnumeric',\n",
       " 'isprintable',\n",
       " 'isspace',\n",
       " 'istitle',\n",
       " 'isupper',\n",
       " 'join',\n",
       " 'ljust',\n",
       " 'lower',\n",
       " 'lstrip',\n",
       " 'maketrans',\n",
       " 'partition',\n",
       " 'removeprefix',\n",
       " 'removesuffix',\n",
       " 'replace',\n",
       " 'rfind',\n",
       " 'rindex',\n",
       " 'rjust',\n",
       " 'rpartition',\n",
       " 'rsplit',\n",
       " 'rstrip',\n",
       " 'split',\n",
       " 'splitlines',\n",
       " 'startswith',\n",
       " 'strip',\n",
       " 'swapcase',\n",
       " 'title',\n",
       " 'translate',\n",
       " 'upper',\n",
       " 'zfill']"
      ]
     },
     "execution_count": 93,
     "metadata": {},
     "output_type": "execute_result"
    }
   ],
   "source": [
    "dir('Hello, world!')"
   ]
  },
  {
   "cell_type": "code",
   "execution_count": null,
   "id": "09520a65-eb3e-4e0a-838e-3e7964c3fb25",
   "metadata": {},
   "outputs": [],
   "source": [
    "'ciao'.startswith('ci')"
   ]
  },
  {
   "cell_type": "markdown",
   "id": "558a9103-082a-4770-a1fe-0c3d8ed32f63",
   "metadata": {},
   "source": [
    "## Casting a type to another"
   ]
  },
  {
   "cell_type": "markdown",
   "id": "51d8cc44-5b0a-48c7-be6e-a0690c84ec97",
   "metadata": {},
   "source": [
    "Well, actually, you can try\n",
    "- mixing apples with oranges\n",
    "- if you (tell python you) know what you are doing!\n",
    "\n",
    "Fruit salad is good\n",
    "- as long as you prepare it properly :D"
   ]
  },
  {
   "cell_type": "markdown",
   "id": "db7eb6c2-1924-4faa-aa26-44685118bc37",
   "metadata": {},
   "source": [
    "![Don't mix apples with oranges](https://image.shutterstock.com/image-photo/fruit-mix-apple-orange-260nw-81038206.jpg)"
   ]
  },
  {
   "cell_type": "code",
   "execution_count": null,
   "id": "cbf1ea68-7abb-493d-acbb-376459f916c1",
   "metadata": {},
   "outputs": [],
   "source": [
    "print(5.2)\n",
    "print(type(5.2))"
   ]
  },
  {
   "cell_type": "markdown",
   "id": "2b6e99a2-bd4f-4e06-86ed-b7cc9448ce1c",
   "metadata": {},
   "source": [
    "Suppose we are not interested in the decimal part..."
   ]
  },
  {
   "cell_type": "code",
   "execution_count": 95,
   "id": "440c6e7c-85a1-4cb9-91a7-3f2d5aae19a5",
   "metadata": {},
   "outputs": [
    {
     "name": "stdout",
     "output_type": "stream",
     "text": [
      "5\n",
      "<class 'int'>\n"
     ]
    }
   ],
   "source": [
    "print(int(5.2))\n",
    "print(type(int(5.2)))"
   ]
  },
  {
   "cell_type": "code",
   "execution_count": 96,
   "id": "696825ef-97e9-489b-bda5-7f580edeabd9",
   "metadata": {},
   "outputs": [
    {
     "name": "stdout",
     "output_type": "stream",
     "text": [
      "-5\n"
     ]
    }
   ],
   "source": [
    "print(int(-5.9))"
   ]
  },
  {
   "cell_type": "markdown",
   "id": "99a7e216-e1f1-4d68-b1e2-6698d191feeb",
   "metadata": {},
   "source": [
    "Did you know that bool is essentially a sub-type of integers?"
   ]
  },
  {
   "cell_type": "code",
   "execution_count": 97,
   "id": "ff81fcfb-bb86-42e8-8bb5-df5e866d0182",
   "metadata": {},
   "outputs": [
    {
     "name": "stdout",
     "output_type": "stream",
     "text": [
      "True is 1\n",
      "False is 0\n"
     ]
    }
   ],
   "source": [
    "print('True is',int(True))\n",
    "print('False is',int(False))"
   ]
  },
  {
   "cell_type": "code",
   "execution_count": 99,
   "id": "3e4f1224-6628-4fa1-8389-7fcb2d4f7a04",
   "metadata": {},
   "outputs": [
    {
     "data": {
      "text/plain": [
       "5.0"
      ]
     },
     "execution_count": 99,
     "metadata": {},
     "output_type": "execute_result"
    }
   ],
   "source": [
    "float(5)"
   ]
  },
  {
   "cell_type": "code",
   "execution_count": 101,
   "id": "747b3f66-5bb1-4df7-b274-3780cbcba925",
   "metadata": {},
   "outputs": [
    {
     "data": {
      "text/plain": [
       "'5'"
      ]
     },
     "execution_count": 101,
     "metadata": {},
     "output_type": "execute_result"
    }
   ],
   "source": [
    "str(5)"
   ]
  },
  {
   "cell_type": "code",
   "execution_count": 103,
   "id": "8ba3dbf2-ec30-4a30-bb95-bee056353d03",
   "metadata": {},
   "outputs": [
    {
     "ename": "ValueError",
     "evalue": "invalid literal for int() with base 10: 'ciao'",
     "output_type": "error",
     "traceback": [
      "\u001b[0;31m---------------------------------------------------------------------------\u001b[0m",
      "\u001b[0;31mValueError\u001b[0m                                Traceback (most recent call last)",
      "Cell \u001b[0;32mIn[103], line 1\u001b[0m\n\u001b[0;32m----> 1\u001b[0m \u001b[38;5;28;43mint\u001b[39;49m\u001b[43m(\u001b[49m\u001b[38;5;124;43m\"\u001b[39;49m\u001b[38;5;124;43mciao\u001b[39;49m\u001b[38;5;124;43m\"\u001b[39;49m\u001b[43m)\u001b[49m\n",
      "\u001b[0;31mValueError\u001b[0m: invalid literal for int() with base 10: 'ciao'"
     ]
    }
   ],
   "source": [
    "int(\"ciao\")"
   ]
  },
  {
   "cell_type": "markdown",
   "id": "60f86eb9-59ce-4b80-b147-4f1094807197",
   "metadata": {},
   "source": [
    "By now you know how to read from terminal. \n",
    "- But what do you actually read!?"
   ]
  },
  {
   "cell_type": "code",
   "execution_count": null,
   "id": "b89dbae9-8b91-4da0-9b93-c07e100cba17",
   "metadata": {},
   "outputs": [],
   "source": [
    "name=input(\"What's your name?\")\n",
    "print(name)\n",
    "print(type(name))"
   ]
  },
  {
   "cell_type": "code",
   "execution_count": null,
   "id": "c6c92c39-e048-41aa-9a24-5a0b4f33538b",
   "metadata": {},
   "outputs": [],
   "source": [
    "age=input(\"How old are you (maybe 30)?\")\n",
    "print(age)\n",
    "print(type(age))"
   ]
  },
  {
   "cell_type": "markdown",
   "id": "b406c367-567e-4d0d-8996-a92b637c3e96",
   "metadata": {},
   "source": [
    "I made a mistake! I'm actually 32.<br/>\n",
    "Unfortunately, I cannot _add 2 to a string_. \n",
    "- I cannot use it as a numeric"
   ]
  },
  {
   "cell_type": "code",
   "execution_count": null,
   "id": "a91cecef-8981-4091-9ca4-8285d9dfc176",
   "metadata": {},
   "outputs": [],
   "source": [
    "age = age + 2"
   ]
  },
  {
   "cell_type": "code",
   "execution_count": null,
   "id": "857dfa26-3472-4593-8da5-3a4924777736",
   "metadata": {},
   "outputs": [],
   "source": [
    "age + \"2\""
   ]
  },
  {
   "cell_type": "markdown",
   "id": "9e4ef5a4-15b4-4fa2-8ba0-60eeda662df5",
   "metadata": {},
   "source": [
    "How can I make `age` a number?\n",
    "* Just tell you want to make it (to cast it to) an `int` (or `float`)\n",
    "\n",
    "How can I read a number?\n",
    "* Just tell you want to read an `int` (or `float`)"
   ]
  },
  {
   "cell_type": "code",
   "execution_count": null,
   "id": "9321e529-197d-44bd-b745-7eeaca1848b8",
   "metadata": {},
   "outputs": [],
   "source": [
    "agen = int(age)\n",
    "print(agen)\n",
    "print(type(agen))"
   ]
  },
  {
   "cell_type": "code",
   "execution_count": null,
   "id": "0e79c2a1-9b1f-4bd7-8d44-87fe515cecac",
   "metadata": {},
   "outputs": [],
   "source": [
    "int(\"andrea\")"
   ]
  },
  {
   "cell_type": "code",
   "execution_count": null,
   "id": "d32ca743-8a4e-415a-92be-d286760f6d21",
   "metadata": {},
   "outputs": [],
   "source": [
    "int(\"3.2\")"
   ]
  },
  {
   "cell_type": "code",
   "execution_count": null,
   "id": "398e970f-395d-4d8a-a3eb-9cd873244514",
   "metadata": {},
   "outputs": [],
   "source": [
    "#type(float(\"3.2\"))\n",
    "int(float(\"3.2\"))"
   ]
  },
  {
   "cell_type": "code",
   "execution_count": null,
   "id": "ecc07801-21d6-48dc-8507-a41b4019d144",
   "metadata": {},
   "outputs": [],
   "source": [
    "age = int(input('How old are you?'))\n",
    "print(age)\n",
    "print(type(age))\n",
    "age=age+2\n",
    "print(age)"
   ]
  },
  {
   "cell_type": "markdown",
   "id": "0f33c48b-e481-425a-b800-f6db756be8b7",
   "metadata": {},
   "source": [
    "This conversion operation is known as __casting__\n",
    "> Beware, not all casts are admissible!<br/>\n",
    "> Some might give rise to _exceptions_ that is errors at runtime.<br/> In future lectures we will see more about exceptions"
   ]
  },
  {
   "cell_type": "code",
   "execution_count": null,
   "id": "87492889-7970-41b8-b3ed-71262c353c17",
   "metadata": {},
   "outputs": [],
   "source": [
    "print(name)\n",
    "int(name)"
   ]
  },
  {
   "cell_type": "markdown",
   "id": "adfb0399-4f55-4e7f-9ce1-f1a5fc333aec",
   "metadata": {},
   "source": [
    "# Collections"
   ]
  },
  {
   "cell_type": "markdown",
   "id": "e248c4cb-7ed7-4cce-a7f7-0ae1ee0daab9",
   "metadata": {},
   "source": [
    "## Intro: sequences, sets, dictionaries"
   ]
  },
  {
   "cell_type": "markdown",
   "id": "a7eb62aa-40d6-4434-9e28-28e06dc33b5a",
   "metadata": {},
   "source": [
    "A collection is a data type able to store 0, 1, or more elements. \n",
    "\n",
    "This is particularly useful to \n",
    "* Structure your data\n",
    "* Easily access elements in collections of data of _same type_\n",
    "\n",
    "For example you might want to have:\n",
    "\n",
    "| Type       | Description              |\n",
    "|:----------:|-----------------------------|\n",
    "| __Sequence types__ | An ordered list of all the assignments of this course - the characters in a word               |\n",
    "| __Set types__ | An unordered collection without replicas (a set) of the students of this course |\n",
    "| __Map/Dictionary types__ | A mapping from the name of a student to the email of that student            |"
   ]
  },
  {
   "cell_type": "markdown",
   "id": "e71f1370-f5a4-4281-ac8f-e314764793e3",
   "metadata": {},
   "source": [
    "## Sequence types"
   ]
  },
  {
   "cell_type": "markdown",
   "id": "626831f2-b784-443c-ade7-8b1f5ae1da32",
   "metadata": {},
   "source": [
    "There are [4 basic sequence types in Python](https://docs.python.org/3/library/stdtypes.html#sequence-types-list-tuple-range)\n",
    "* _String_\n",
    "* __List__\n",
    "* __Tuple__\n",
    "* __Range__"
   ]
  },
  {
   "cell_type": "markdown",
   "id": "5c4c1573-8b77-483a-b8aa-670f6d39ac7a",
   "metadata": {
    "toc-nb-collapsed": true
   },
   "source": [
    "### Strings"
   ]
  },
  {
   "cell_type": "markdown",
   "id": "fe25f1bd-33ec-4eb4-9756-7c3d2f05a036",
   "metadata": {},
   "source": [
    "We have already seen that a string can be used also as a sequence of characters.\n",
    "- Remember: in computer science we start counting __from 0__ up to __length-1__"
   ]
  },
  {
   "cell_type": "markdown",
   "id": "e815a40f-7e37-4f05-b72b-d0f15776ceca",
   "metadata": {},
   "source": [
    "We can\n",
    "- _select_ single characters\n",
    "- _slice_ substrings"
   ]
  },
  {
   "cell_type": "code",
   "execution_count": 2,
   "id": "b17468c0-a95b-4606-a32a-d7e3130d68fd",
   "metadata": {},
   "outputs": [
    {
     "name": "stdout",
     "output_type": "stream",
     "text": [
      "abcde\n",
      " b\n",
      "    e\n",
      "  cde\n",
      "ab\n",
      "  cd\n"
     ]
    }
   ],
   "source": [
    "s=\"abcde\"\n",
    "print(s)\n",
    "print(\" \"+s[1])\n",
    "print(\"    \"+s[-1])\n",
    "print(\"  \"+s[2:])\n",
    "print(s[:2])\n",
    "print(\"  \"+s[2:4])"
   ]
  },
  {
   "cell_type": "markdown",
   "id": "a743a8ca-619c-4f94-8594-438713743f0b",
   "metadata": {},
   "source": [
    "We can also \n",
    "- _add characters_ to a string (string concatenation)\n",
    "- search for the min/max character (in alphabetical order)"
   ]
  },
  {
   "cell_type": "code",
   "execution_count": 5,
   "id": "3205f65d-e959-4b34-b52f-612f99cd9bef",
   "metadata": {},
   "outputs": [
    {
     "name": "stdout",
     "output_type": "stream",
     "text": [
      "abcdeefg\n",
      "\n",
      "min: a\n",
      "max: e\n"
     ]
    }
   ],
   "source": [
    "print(s + \"efg\")\n",
    "print()\n",
    "print(\"min:\",min(s))\n",
    "print(\"max:\",max(s))"
   ]
  },
  {
   "cell_type": "code",
   "execution_count": 6,
   "id": "5baa7322-7bd3-43ce-b5e6-2486b79d86f5",
   "metadata": {},
   "outputs": [
    {
     "data": {
      "text/plain": [
       "'abcde'"
      ]
     },
     "execution_count": 6,
     "metadata": {},
     "output_type": "execute_result"
    }
   ],
   "source": [
    "s"
   ]
  },
  {
   "cell_type": "code",
   "execution_count": 4,
   "id": "eb0cac56-a5ff-44be-b51b-2647e56b502c",
   "metadata": {},
   "outputs": [
    {
     "data": {
      "text/plain": [
       "'ABCDE'"
      ]
     },
     "execution_count": 4,
     "metadata": {},
     "output_type": "execute_result"
    }
   ],
   "source": [
    "s.upper()"
   ]
  },
  {
   "cell_type": "markdown",
   "id": "256e9c6c-c325-4bc2-8267-48b29e52aee4",
   "metadata": {},
   "source": [
    "A string is a _special_ sequence\n",
    "\n",
    "* A string is __immutable__\n",
    "> <span style=\"color:red\"> `s[1] = 'B'` __WE CAN'T MODIFY ENTRIES OF A STRING!__</span>\n",
    "* The only elements admitted in a string are characters (letters, digits, further symbols)"
   ]
  },
  {
   "cell_type": "code",
   "execution_count": null,
   "id": "f8c4384a-b810-4e1a-ae8d-9d6d7378f658",
   "metadata": {},
   "outputs": [],
   "source": [
    "# If you decomment the line below you will get a runtime error\n",
    "#s[1] = 'B'"
   ]
  },
  {
   "cell_type": "markdown",
   "id": "94c8c6f0-ea74-4c00-80f7-8fdb920839c8",
   "metadata": {},
   "source": [
    "### Lists, Tuples, and Ranges"
   ]
  },
  {
   "cell_type": "markdown",
   "id": "83b24e71-0c42-4e87-8072-a976b512fa8a",
   "metadata": {},
   "source": [
    "#### Lists"
   ]
  },
  {
   "cell_type": "markdown",
   "id": "df98e416-47f4-42df-9020-878b573ac6e9",
   "metadata": {},
   "source": [
    "##### Features of lists shared with strings"
   ]
  },
  {
   "cell_type": "markdown",
   "id": "17f111dc-6b5c-403b-9893-9795772aeec8",
   "metadata": {
    "tags": []
   },
   "source": [
    "Intuitively, a list is like a string, but \n",
    "* You can store in it data of any type, even of mixed types\n",
    "  * However, you will typically put elements of same type in a list\n",
    "      * It is not pythonic to store data of multiple types in a list... \n",
    "      * There is an ad hoc data structure for that\n",
    "  * Functionalities related to comparisons work only on lists with elements of same type\n",
    "    * E.g. min/max/sort ...\n",
    "  * Do you remember about 'not mixing apples and oranges!? :D\n",
    "* Is **mutable** you can change its elements\n",
    "\n",
    "You create a list by writing a comma-separated list of values in square brackets "
   ]
  },
  {
   "cell_type": "code",
   "execution_count": 7,
   "id": "f084c097-2b7b-479d-94a5-13d8edbe6f94",
   "metadata": {},
   "outputs": [
    {
     "name": "stdout",
     "output_type": "stream",
     "text": [
      "<class 'list'>\n",
      "[12, 'apples', 12.0, 'oranges', True]\n"
     ]
    }
   ],
   "source": [
    "lst = [12, 'apples', 12.0, 'oranges', True]\n",
    "print(type(lst))\n",
    "print(lst)"
   ]
  },
  {
   "cell_type": "markdown",
   "id": "b983ac68-8bdb-4ba4-a394-266149d18f16",
   "metadata": {},
   "source": [
    "You can access the elements of a list similarly to how you access characters of a string:"
   ]
  },
  {
   "cell_type": "code",
   "execution_count": 8,
   "id": "4c2e2d23-6807-494c-886d-91415c363e19",
   "metadata": {},
   "outputs": [
    {
     "name": "stdout",
     "output_type": "stream",
     "text": [
      "[12, 'apples', 12.0, 'oranges', True]\n",
      "5\n",
      "apples\n",
      "True\n",
      "oranges\n",
      "[12, 'apples']\n",
      "[12.0, 'oranges', True]\n"
     ]
    }
   ],
   "source": [
    "print(lst)\n",
    "print(len(lst))\n",
    "print(lst[1])\n",
    "print(lst[-1])\n",
    "print(lst[-2])\n",
    "print(lst[:2])\n",
    "print(lst[2:])"
   ]
  },
  {
   "cell_type": "code",
   "execution_count": 9,
   "id": "361a32f3-c08d-4787-a902-6daddd3bfb0e",
   "metadata": {},
   "outputs": [
    {
     "data": {
      "text/plain": [
       "[12.0, 'oranges', True]"
      ]
     },
     "execution_count": 9,
     "metadata": {},
     "output_type": "execute_result"
    }
   ],
   "source": [
    "lst_slice=lst[2:]\n",
    "lst_slice"
   ]
  },
  {
   "cell_type": "code",
   "execution_count": 10,
   "id": "3b7fd076-7a2a-4388-948b-eee721eb9772",
   "metadata": {},
   "outputs": [
    {
     "name": "stdout",
     "output_type": "stream",
     "text": [
      "[2, 1, 3, 4]\n",
      "1\n",
      "4\n"
     ]
    }
   ],
   "source": [
    "lst0 = [2,1,3,4]\n",
    "print(lst0)\n",
    "print(min(lst0))\n",
    "print(max(lst0))"
   ]
  },
  {
   "cell_type": "code",
   "execution_count": 11,
   "id": "acf44790-0140-488f-8a09-0879b29110d5",
   "metadata": {},
   "outputs": [
    {
     "data": {
      "text/plain": [
       "2"
      ]
     },
     "execution_count": 11,
     "metadata": {},
     "output_type": "execute_result"
    }
   ],
   "source": [
    "max([1.0, 2])"
   ]
  },
  {
   "cell_type": "code",
   "execution_count": 12,
   "id": "0f920477-1631-429d-b4c0-af28ea0f4313",
   "metadata": {},
   "outputs": [
    {
     "data": {
      "text/plain": [
       "'coro'"
      ]
     },
     "execution_count": 12,
     "metadata": {},
     "output_type": "execute_result"
    }
   ],
   "source": [
    "max([\"ciao\",\"coro\",\"abc\"])"
   ]
  },
  {
   "cell_type": "code",
   "execution_count": 13,
   "id": "63641576-6bce-40d7-b7f8-943fcebd764c",
   "metadata": {},
   "outputs": [
    {
     "data": {
      "text/plain": [
       "'coro'"
      ]
     },
     "execution_count": 13,
     "metadata": {},
     "output_type": "execute_result"
    }
   ],
   "source": [
    "lst_var=[\"ciao\",\"coro\",\"abc\"]\n",
    "max(lst_var)"
   ]
  },
  {
   "cell_type": "code",
   "execution_count": null,
   "id": "e5775e50-a533-4763-bf22-d2c4fb185c9c",
   "metadata": {},
   "outputs": [],
   "source": [
    "lst_test=[\"ciao\",\"abc\"]\n",
    "print(min(lst_test))\n",
    "print(type(lst_test))\n",
    "print(type(min(lst_test)))"
   ]
  },
  {
   "cell_type": "markdown",
   "id": "c6f12f7a-38f9-4b39-b703-5345fe450d1e",
   "metadata": {},
   "source": [
    "Similarly to strings, we can _concatenate_ lists..."
   ]
  },
  {
   "cell_type": "code",
   "execution_count": 14,
   "id": "e1dada12-7303-46fd-83f4-1d4d05af2df1",
   "metadata": {},
   "outputs": [
    {
     "data": {
      "text/plain": [
       "'abcdef'"
      ]
     },
     "execution_count": 14,
     "metadata": {},
     "output_type": "execute_result"
    }
   ],
   "source": [
    "\"abc\"+\"def\""
   ]
  },
  {
   "cell_type": "code",
   "execution_count": 15,
   "id": "01045a29-f5f0-4bbe-8e8f-792da7b25775",
   "metadata": {},
   "outputs": [
    {
     "data": {
      "text/plain": [
       "[12, 'apples', 12.0, 'oranges', True]"
      ]
     },
     "execution_count": 15,
     "metadata": {},
     "output_type": "execute_result"
    }
   ],
   "source": [
    "lst"
   ]
  },
  {
   "cell_type": "code",
   "execution_count": 16,
   "id": "dbb00aeb-e1e9-42ef-a4ac-7e778272a872",
   "metadata": {},
   "outputs": [
    {
     "data": {
      "text/plain": [
       "[12, 'apples', 12.0, 'oranges', True, 1, 2, 3, 'four']"
      ]
     },
     "execution_count": 16,
     "metadata": {},
     "output_type": "execute_result"
    }
   ],
   "source": [
    "lst2 = [1,2,3,\"four\"]\n",
    "#min(lst2)\n",
    "lst3 = lst + lst2\n",
    "lst3"
   ]
  },
  {
   "cell_type": "code",
   "execution_count": 17,
   "id": "20fb5b01-220c-4e32-a932-429337adbc64",
   "metadata": {},
   "outputs": [
    {
     "name": "stdout",
     "output_type": "stream",
     "text": [
      "[2, 1, 3, 4]\n"
     ]
    },
    {
     "data": {
      "text/plain": [
       "[2, 1, 3, 4, 100, 200]"
      ]
     },
     "execution_count": 17,
     "metadata": {},
     "output_type": "execute_result"
    }
   ],
   "source": [
    "print(lst0)\n",
    "lst100=[100,200]\n",
    "lst0+lst100"
   ]
  },
  {
   "cell_type": "code",
   "execution_count": 18,
   "id": "1b7c4870-bd4f-492a-9395-107b4b78b881",
   "metadata": {},
   "outputs": [
    {
     "data": {
      "text/plain": [
       "'ciaociaociao'"
      ]
     },
     "execution_count": 18,
     "metadata": {},
     "output_type": "execute_result"
    }
   ],
   "source": [
    "\"ciao\"*3"
   ]
  },
  {
   "cell_type": "code",
   "execution_count": 19,
   "id": "a750f71e-9e4d-4586-bad7-db3fa525ee0a",
   "metadata": {},
   "outputs": [
    {
     "data": {
      "text/plain": [
       "[0, 0, 0, 0, 0, 0, 0, 0, 0, 0]"
      ]
     },
     "execution_count": 19,
     "metadata": {},
     "output_type": "execute_result"
    }
   ],
   "source": [
    "tenzeros = [0] * 10 # [0] + [0] + [0] ....\n",
    "tenzeros"
   ]
  },
  {
   "cell_type": "code",
   "execution_count": null,
   "id": "62f183f3-78ad-4042-a8ab-d52410050c4d",
   "metadata": {},
   "outputs": [],
   "source": [
    "[0,1]*3"
   ]
  },
  {
   "cell_type": "markdown",
   "id": "6b76a86d-6d6a-4b06-88ff-999a5c2915ae",
   "metadata": {},
   "source": [
    "Lists containing elements of __same type__ can be compared\n",
    "* The comparison is done in lexicographical order\n",
    "* Exactly as done for 2 words..."
   ]
  },
  {
   "cell_type": "code",
   "execution_count": 20,
   "id": "f6116c51-fb09-4b8b-a127-3a95e4710b75",
   "metadata": {},
   "outputs": [
    {
     "data": {
      "text/plain": [
       "True"
      ]
     },
     "execution_count": 20,
     "metadata": {},
     "output_type": "execute_result"
    }
   ],
   "source": [
    "\"mara\" < \"mario\""
   ]
  },
  {
   "cell_type": "code",
   "execution_count": 21,
   "id": "1b554d08-66a8-4fe8-b328-e3181025464e",
   "metadata": {},
   "outputs": [
    {
     "name": "stdout",
     "output_type": "stream",
     "text": [
      "[2, 1, 3, 4]\n",
      "[2, 2, 3, 3]\n",
      "[2, 2, 3, 3] < [2, 1, 3, 4]\n"
     ]
    },
    {
     "data": {
      "text/plain": [
       "False"
      ]
     },
     "execution_count": 21,
     "metadata": {},
     "output_type": "execute_result"
    }
   ],
   "source": [
    "print(lst0)\n",
    "lst4=[2,2,3,3]\n",
    "print(lst4)\n",
    "print(lst4,'<',lst0)\n",
    "lst4 < lst0"
   ]
  },
  {
   "cell_type": "markdown",
   "id": "35fd8763-c95a-46d1-9808-b678a50b5ea7",
   "metadata": {},
   "source": [
    "##### Features of lists beyond those of strings"
   ]
  },
  {
   "cell_type": "markdown",
   "id": "2e54f030-c1ad-4a12-875d-2776c2ad7afd",
   "metadata": {},
   "source": [
    "Lists are mutable"
   ]
  },
  {
   "cell_type": "code",
   "execution_count": null,
   "id": "d6ab17c8-5491-4342-80c1-1ec0e68c2c59",
   "metadata": {},
   "outputs": [],
   "source": [
    "lst0"
   ]
  },
  {
   "cell_type": "code",
   "execution_count": null,
   "id": "276a7385-85b8-4b05-8e8d-cc2680a23d9e",
   "metadata": {},
   "outputs": [],
   "source": [
    "lst0[2]=1000\n",
    "lst0"
   ]
  },
  {
   "cell_type": "markdown",
   "id": "ded3badf-bd9e-4ae5-9d48-09091a50aa77",
   "metadata": {},
   "source": [
    "With respect to strings, now we can also:\n",
    "* update entries of a list\n",
    "* create lists of lists\n",
    "  * have you ever heard about matrices?"
   ]
  },
  {
   "cell_type": "markdown",
   "id": "ef9a1234-32f6-4c7e-9caa-656f1d2ebd4a",
   "metadata": {},
   "source": [
    "| 0 | 1 | 2 |\n",
    "|:-:|:-:|:-:|\n",
    "| __3__ | __4__ | __5__ |"
   ]
  },
  {
   "cell_type": "code",
   "execution_count": 22,
   "id": "c6370256-c187-499c-ad69-378ec1aef227",
   "metadata": {},
   "outputs": [
    {
     "data": {
      "text/plain": [
       "[[0, 1, 2], [3, 4, 5]]"
      ]
     },
     "execution_count": 22,
     "metadata": {},
     "output_type": "execute_result"
    }
   ],
   "source": [
    "m=[ [0,1,2],\n",
    "    [3,4,5] ]\n",
    "m=[[0,1,2],[3,4,5]]\n",
    "m"
   ]
  },
  {
   "cell_type": "code",
   "execution_count": null,
   "id": "d757d234-c9ce-4ac0-9562-604d082f0382",
   "metadata": {},
   "outputs": [],
   "source": [
    "#[ [0,1,2] + [3,4,5] ]\n",
    "[0,1,2] + [3,4,5] "
   ]
  },
  {
   "cell_type": "code",
   "execution_count": 23,
   "id": "e86e4e60-6fa0-46a9-b78a-48d44bc49635",
   "metadata": {},
   "outputs": [
    {
     "name": "stdout",
     "output_type": "stream",
     "text": [
      "The matrix [[0, 1, 2], [3, 4, 5]]\n",
      "has type <class 'list'>\n"
     ]
    }
   ],
   "source": [
    "row0=[0,1,2]\n",
    "m=[ row0,\n",
    "    [3,4,5] ]\n",
    "#same as m=[row0,[3,4,5]]\n",
    "\n",
    "print('The matrix',m)\n",
    "print('has type',type(m))"
   ]
  },
  {
   "cell_type": "code",
   "execution_count": null,
   "id": "81bff505-7d8a-4e83-b217-299247c1a2c3",
   "metadata": {},
   "outputs": [],
   "source": [
    "m"
   ]
  },
  {
   "cell_type": "code",
   "execution_count": 24,
   "id": "7c4f3b27-dfa3-4bda-9070-4942e72e2ab8",
   "metadata": {},
   "outputs": [
    {
     "name": "stdout",
     "output_type": "stream",
     "text": [
      "First row [0, 1, 2] <class 'list'>\n",
      "Second row [3, 4, 5] <class 'list'>\n"
     ]
    }
   ],
   "source": [
    "print('First row',m[0], type(m[0]))\n",
    "print('Second row',m[1], type(m[1]))"
   ]
  },
  {
   "cell_type": "code",
   "execution_count": null,
   "id": "66b584a8-ee0a-4144-b38c-2ba9619b1ae4",
   "metadata": {},
   "outputs": [],
   "source": [
    "print('First element of first row',m[0][0], type(m[0][0]))\n",
    "print('Third element of second row',m[1][2], type(m[1][2]))"
   ]
  },
  {
   "cell_type": "code",
   "execution_count": 26,
   "id": "c179f4d1-7e88-4efc-a556-1fe7882ef653",
   "metadata": {},
   "outputs": [
    {
     "name": "stdout",
     "output_type": "stream",
     "text": [
      "[0, 1, 2]\n",
      "0\n"
     ]
    },
    {
     "data": {
      "text/plain": [
       "0"
      ]
     },
     "execution_count": 26,
     "metadata": {},
     "output_type": "execute_result"
    }
   ],
   "source": [
    "first_row=m[0]\n",
    "print(first_row)\n",
    "print(first_row[0])\n",
    "\n",
    "m[0][0]"
   ]
  },
  {
   "cell_type": "code",
   "execution_count": 28,
   "id": "726d78a4-8364-42d8-b0b8-1ae18d8bda1f",
   "metadata": {},
   "outputs": [
    {
     "data": {
      "text/plain": [
       "4"
      ]
     },
     "execution_count": 28,
     "metadata": {},
     "output_type": "execute_result"
    }
   ],
   "source": [
    "m[1][1]"
   ]
  },
  {
   "cell_type": "code",
   "execution_count": 29,
   "id": "51db0fd7-b2c1-4d42-9eb7-bbd3708087e7",
   "metadata": {},
   "outputs": [
    {
     "name": "stdout",
     "output_type": "stream",
     "text": [
      "[12, 'apples', 12.0, 'oranges', True]\n",
      "[11, 4.3, 12.0, 'oranges', True]\n"
     ]
    }
   ],
   "source": [
    "print(lst)\n",
    "lst[0]=11\n",
    "lst[1]=4.3\n",
    "print(lst)"
   ]
  },
  {
   "cell_type": "code",
   "execution_count": 30,
   "id": "ad628c3c-7066-4bb5-90f2-6f458001be07",
   "metadata": {},
   "outputs": [
    {
     "name": "stdout",
     "output_type": "stream",
     "text": [
      "[[11, 4.3, 12.0, 'oranges', True], [1, 2, 3, 'four'], [12, 'apples', 12.0, 'oranges', True, 1, 2, 3, 'four']]\n"
     ]
    },
    {
     "data": {
      "text/plain": [
       "[[1, 2],\n",
       " [[11, 4.3, 12.0, 'oranges', True],\n",
       "  [1, 2, 3, 'four'],\n",
       "  [12, 'apples', 12.0, 'oranges', True, 1, 2, 3, 'four']]]"
      ]
     },
     "execution_count": 30,
     "metadata": {},
     "output_type": "execute_result"
    }
   ],
   "source": [
    "lst4 = [lst, lst2, lst3]\n",
    "print(lst4)\n",
    "lst5=[[1,2],lst4]\n",
    "lst5"
   ]
  },
  {
   "cell_type": "markdown",
   "id": "e772ca60-ab3e-4339-a3f9-c492fea22c73",
   "metadata": {},
   "source": [
    "How can I access the first element of the second list in `lst4`?"
   ]
  },
  {
   "cell_type": "code",
   "execution_count": null,
   "id": "b1cd6a32-2510-48f7-bf07-179fe366cb42",
   "metadata": {},
   "outputs": [],
   "source": [
    "secondlist = lst4[1]\n",
    "firstelement = secondlist[0]\n",
    "print(firstelement)\n",
    "# or ...\n",
    "print(lst4[1][0])"
   ]
  },
  {
   "cell_type": "code",
   "execution_count": null,
   "id": "a5d71c64-052f-452a-9080-fd1a62f2a36c",
   "metadata": {},
   "outputs": [],
   "source": [
    "\n",
    "lst4"
   ]
  },
  {
   "cell_type": "markdown",
   "id": "da5e302c-c6a8-47a1-9a0b-25e59783e5a6",
   "metadata": {},
   "source": [
    "Lists can have any level of __nesting__ (lists of lists of lists...), and can be mixed with other types"
   ]
  },
  {
   "cell_type": "code",
   "execution_count": null,
   "id": "0f15931b-83b1-47b3-8537-1669c3a50f34",
   "metadata": {},
   "outputs": [],
   "source": [
    "print(lst4[1][0])"
   ]
  },
  {
   "cell_type": "code",
   "execution_count": null,
   "id": "ce0939f6-21ce-4196-b3eb-347134654ae1",
   "metadata": {},
   "outputs": [],
   "source": [
    "lst5 = [lst4 , [1,2], 1, \"ciao\", True ]\n",
    "print(lst5)\n",
    "#Print the same as 'firstelement' from above\n",
    "print(lst5[0][1][0])"
   ]
  },
  {
   "cell_type": "markdown",
   "id": "7098bd1b-9587-4cd5-9777-7c0b95bc7a74",
   "metadata": {},
   "source": [
    "##### Interesting operations and methods on lists"
   ]
  },
  {
   "cell_type": "code",
   "execution_count": 36,
   "id": "a726d784-3c9f-462e-abf0-7f98c08194fe",
   "metadata": {},
   "outputs": [
    {
     "name": "stdout",
     "output_type": "stream",
     "text": [
      "Does 1 appear in lst? True\n",
      "Does 3 appear in lst? False\n",
      "Does 1 not appear in lst? False\n",
      "Does the string '1' appear in lst? False\n"
     ]
    }
   ],
   "source": [
    "lst0 = [12, 15, 1, 0,1.0]\n",
    "lst=lst0\n",
    "print('Does 1 appear in lst?',1 in lst0)\n",
    "print('Does 3 appear in lst?',3 in lst0)\n",
    "print('Does 1 not appear in lst?',1 not in lst0)\n",
    "print('Does the string \\'1\\' appear in lst?','1' in lst0)"
   ]
  },
  {
   "cell_type": "code",
   "execution_count": 34,
   "id": "6a06c70a-bdda-4bc8-8988-791012d3cb5d",
   "metadata": {},
   "outputs": [
    {
     "name": "stdout",
     "output_type": "stream",
     "text": [
      "False\n",
      "True\n"
     ]
    }
   ],
   "source": [
    "l=[\"mario\",\"maria\"]\n",
    "print(\"Mario\" in l)\n",
    "print(\"mario\" in l)"
   ]
  },
  {
   "cell_type": "markdown",
   "id": "ec4b09da-de7a-4c5d-ae6c-8e776b8ffc50",
   "metadata": {},
   "source": [
    "Note that in the latter `'1' in lst` we check if the string `'1'` belongs to `lst`. \n",
    "* This is not the case, because `lst` contains only numeric types\n",
    "\n",
    "__Do you remember how to get information about all methods of list?__"
   ]
  },
  {
   "cell_type": "code",
   "execution_count": 37,
   "id": "0c16941a-2fb6-4ebe-a1ff-f3c1b2a9e6ea",
   "metadata": {},
   "outputs": [
    {
     "data": {
      "text/plain": [
       "['__add__',\n",
       " '__class__',\n",
       " '__class_getitem__',\n",
       " '__contains__',\n",
       " '__delattr__',\n",
       " '__delitem__',\n",
       " '__dir__',\n",
       " '__doc__',\n",
       " '__eq__',\n",
       " '__format__',\n",
       " '__ge__',\n",
       " '__getattribute__',\n",
       " '__getitem__',\n",
       " '__gt__',\n",
       " '__hash__',\n",
       " '__iadd__',\n",
       " '__imul__',\n",
       " '__init__',\n",
       " '__init_subclass__',\n",
       " '__iter__',\n",
       " '__le__',\n",
       " '__len__',\n",
       " '__lt__',\n",
       " '__mul__',\n",
       " '__ne__',\n",
       " '__new__',\n",
       " '__reduce__',\n",
       " '__reduce_ex__',\n",
       " '__repr__',\n",
       " '__reversed__',\n",
       " '__rmul__',\n",
       " '__setattr__',\n",
       " '__setitem__',\n",
       " '__sizeof__',\n",
       " '__str__',\n",
       " '__subclasshook__',\n",
       " 'append',\n",
       " 'clear',\n",
       " 'copy',\n",
       " 'count',\n",
       " 'extend',\n",
       " 'index',\n",
       " 'insert',\n",
       " 'pop',\n",
       " 'remove',\n",
       " 'reverse',\n",
       " 'sort']"
      ]
     },
     "execution_count": 37,
     "metadata": {},
     "output_type": "execute_result"
    }
   ],
   "source": [
    "dir(lst0)"
   ]
  },
  {
   "cell_type": "markdown",
   "id": "7daf61ff-35af-40fb-a904-551dac83e2da",
   "metadata": {},
   "source": [
    "__And how to get more information about single methods?__"
   ]
  },
  {
   "cell_type": "code",
   "execution_count": 39,
   "id": "2a4f57ac-accf-4dc2-9d33-f0b28471c576",
   "metadata": {},
   "outputs": [
    {
     "name": "stdout",
     "output_type": "stream",
     "text": [
      "Help on built-in function insert:\n",
      "\n",
      "insert(index, object, /) method of builtins.list instance\n",
      "    Insert object before index.\n",
      "\n"
     ]
    }
   ],
   "source": [
    "help(lst.insert)"
   ]
  },
  {
   "cell_type": "code",
   "execution_count": 40,
   "id": "f08a5147-3482-48ed-9bb1-b049b99d2ffa",
   "metadata": {},
   "outputs": [
    {
     "data": {
      "text/plain": [
       "[12, 15, 1, 0, 1.0]"
      ]
     },
     "execution_count": 40,
     "metadata": {},
     "output_type": "execute_result"
    }
   ],
   "source": [
    "lst"
   ]
  },
  {
   "cell_type": "code",
   "execution_count": 41,
   "id": "29c463b1-6bbb-4d64-bf20-e3874126adcb",
   "metadata": {},
   "outputs": [
    {
     "name": "stdout",
     "output_type": "stream",
     "text": [
      "[12, 15, 1, 0, 1.0]\n",
      "['ciao', 12, 15, 1, 0, 1.0]\n"
     ]
    }
   ],
   "source": [
    "print(lst)\n",
    "lst.insert(0,'ciao')\n",
    "print(lst)"
   ]
  },
  {
   "cell_type": "code",
   "execution_count": 42,
   "id": "4d07cce9-274c-48e9-bf15-15c273e7c879",
   "metadata": {},
   "outputs": [
    {
     "data": {
      "text/plain": [
       "3"
      ]
     },
     "execution_count": 42,
     "metadata": {},
     "output_type": "execute_result"
    }
   ],
   "source": [
    "#help(lst.index)\n",
    "lst.index(1)"
   ]
  },
  {
   "cell_type": "markdown",
   "id": "76b0ffa7-e4a6-4265-80f0-eb9f4edbe855",
   "metadata": {},
   "source": [
    "Some interesting methods:\n",
    "* __append__: adds an object at the end of the list\n",
    "* __pop__: removes the last element from the list\n",
    "* __insert__: adds an object in a given position\n",
    "* __copy__: creates a copy of the list\n",
    "* __remove__: removes the first occurrence of a given object from the list\n",
    "* __count__: counts the number of occurrences of an object\n",
    "* __index__: gives the position of the first occurrence of an object\n",
    "* __reverse__: reverses the elements from last to first\n",
    "* __sort__: sorts the list"
   ]
  },
  {
   "cell_type": "code",
   "execution_count": null,
   "id": "c1c3d5af-6622-4a73-a5fc-d0cbec90053a",
   "metadata": {},
   "outputs": [],
   "source": [
    "lst = [12, 15, 1, 0,1.0]\n",
    "print('We start from:')\n",
    "print(lst)\n",
    "\n",
    "lst.append(100)\n",
    "print('append(100)')\n",
    "print(lst)\n",
    "\n",
    "lst.pop()\n",
    "print('pop')\n",
    "print(lst)\n",
    "\n",
    "lst.insert(0,100)\n",
    "print('insert(0,100)')\n",
    "print(lst)\n",
    "\n",
    "lst.insert(3,100)\n",
    "print('insert(3,100)')\n",
    "print(lst)\n",
    "\n",
    "lst.remove(100)\n",
    "print('remove(100)')\n",
    "print(lst)\n",
    "\n",
    "print('Number 1 appears',lst.count(1),'times in lst')\n",
    "print('Number 1 appears first in index',lst.index(1),'in lst')\n",
    "#You can't asks for the index of an element if it does not belong to the list.\n",
    "#If you uncomment this statement you get a runtime error.\n",
    "#lst.index(2)\n",
    "\n",
    "lst.reverse()\n",
    "print('Reverse')\n",
    "print(lst)\n",
    "\n",
    "lst.sort()\n",
    "print('Sort')\n",
    "print(lst)"
   ]
  },
  {
   "cell_type": "code",
   "execution_count": null,
   "id": "ac1028bf-5e4e-42cb-b892-36be0721ee5d",
   "metadata": {},
   "outputs": [],
   "source": [
    "help(lst.index)"
   ]
  },
  {
   "cell_type": "code",
   "execution_count": null,
   "id": "643fe96d-19ee-454d-af03-a1494cb5f5de",
   "metadata": {},
   "outputs": [],
   "source": [
    "lst.index(15)"
   ]
  },
  {
   "cell_type": "code",
   "execution_count": null,
   "id": "ebdbc8c3-0066-412f-8238-63f6d558859d",
   "metadata": {},
   "outputs": [],
   "source": [
    "lst2 = lst+[\"ciao\"]\n",
    "print(lst2)\n",
    "# You can't do certain operations on lists with elements of different types\n",
    "#sort(lst2) \n",
    "#min(lst2)\n",
    "#max(lst2)"
   ]
  },
  {
   "cell_type": "markdown",
   "id": "c1d71ba8-87b9-492c-97b6-4ca774f8167f",
   "metadata": {},
   "source": [
    "> <span style=\"color:red\"> `sort(lst2)` __COMPARISON OPERATIONS ARE FORBIDDEN ON MULTI-TYPE LISTs__</span>"
   ]
  },
  {
   "cell_type": "code",
   "execution_count": null,
   "id": "62addbf9-aa90-4b93-8941-e5901affb01a",
   "metadata": {},
   "outputs": [],
   "source": [
    "l = len(lst2)\n",
    "print(l)\n",
    "lst2.append(\"c\")\n",
    "print(len(lst2))\n",
    "print(l)"
   ]
  },
  {
   "cell_type": "markdown",
   "id": "25cde450-4401-4564-8ee7-b1f83fbbdb1e",
   "metadata": {},
   "source": [
    "#### Tuples: an __immutable__ version of lists"
   ]
  },
  {
   "cell_type": "markdown",
   "id": "5d7648fd-cdaa-4054-93e4-f1d59977d049",
   "metadata": {},
   "source": [
    "Tuples are another sequence type. \n",
    "* They are essentially __immutable lists__\n",
    "* They are created using __rounded parenthesis__ rather than squared ones (or not parenthesis at all)"
   ]
  },
  {
   "cell_type": "code",
   "execution_count": 43,
   "id": "4f61e19a-896c-44e2-b02c-fe1b282eede4",
   "metadata": {},
   "outputs": [
    {
     "name": "stdout",
     "output_type": "stream",
     "text": [
      "<class 'tuple'>\n",
      "(1, 2, 4, 10, 20)\n",
      "(1, 2, 4, 10, 20)\n",
      "(1, 2, 4, 10, 20)\n",
      "[1, 2, 3] (1, 2, 3)\n"
     ]
    }
   ],
   "source": [
    "tpl = (1,2,4,10,20)\n",
    "print(type(tpl))\n",
    "print(tpl)\n",
    "\n",
    "tpl = 1,2,4,10,20  #Parenthesis are optional\n",
    "print(tpl)\n",
    "\n",
    "tpl2 = tuple(tpl)\n",
    "print(tpl2)\n",
    "lst = [1,2,3]\n",
    "tpl3 = tuple(lst)\n",
    "print(lst,tpl3)"
   ]
  },
  {
   "cell_type": "code",
   "execution_count": null,
   "id": "a253659a-d5e9-4850-9f20-39617e8fb927",
   "metadata": {},
   "outputs": [],
   "source": [
    "print(len(tpl))\n",
    "print(tpl[1])\n",
    "print(tpl[-1])\n",
    "print(tpl[:2])\n",
    "print(tpl[2:])"
   ]
  },
  {
   "cell_type": "markdown",
   "id": "9b276cc6-0449-4880-8140-c231a10df50e",
   "metadata": {},
   "source": [
    "> `tpl[1] = 10` <span style=\"color:red\"> __NOT GOOD!__</span>"
   ]
  },
  {
   "cell_type": "markdown",
   "id": "e8f6c6ed-b689-46ef-9c96-f0b772917a60",
   "metadata": {},
   "source": [
    "Tuples implement the non-modifying operations shown for lists\n",
    "* `in`, `not in`, `min`, `max`, ..."
   ]
  },
  {
   "cell_type": "markdown",
   "id": "1495d990-481e-4d88-b4f2-2d41c516c11d",
   "metadata": {},
   "source": [
    "Why are tuples useful?\n",
    "* Sometimes it is convenient to have the guarantee that data cannot change.\n",
    "* They can be used as keys in dictionaries (more on this later today)\n",
    "* Lists are typically meant for collecting homogeneous types, while __tuples for heterogeneous types__"
   ]
  },
  {
   "cell_type": "markdown",
   "id": "10421bb2-e2bc-4fed-822c-b4ee0bd18170",
   "metadata": {},
   "source": [
    "#### Ranges & list comprehensions"
   ]
  },
  {
   "cell_type": "markdown",
   "id": "bcf02c56-b668-4ea9-8368-571caa6c2192",
   "metadata": {},
   "source": [
    "Ranges are another form of immutable sequence\n",
    "* In the next class we will see that they are mainly used to iterate over certain instructions a given number of times"
   ]
  },
  {
   "cell_type": "code",
   "execution_count": 44,
   "id": "eeec81c9-8f6b-42b3-a7f5-2a7f877c0957",
   "metadata": {},
   "outputs": [
    {
     "name": "stdout",
     "output_type": "stream",
     "text": [
      "<class 'range'>\n",
      "range(0, 10)\n"
     ]
    }
   ],
   "source": [
    "s=range(10)\n",
    "print(type(s))\n",
    "print(s)"
   ]
  },
  {
   "cell_type": "markdown",
   "id": "8b426a17-2407-43b7-a985-c64c2e728dfe",
   "metadata": {},
   "source": [
    "A range represents all integers\n",
    "- starting from a `start` value (default 0)\n",
    "- up to `stop - 1`, with `stop` a mandatory parameter\n",
    "- increasing by a given `step`(default 1)"
   ]
  },
  {
   "cell_type": "code",
   "execution_count": 45,
   "id": "c4058441-8207-4455-9ee1-8535ac01f5db",
   "metadata": {},
   "outputs": [
    {
     "name": "stdout",
     "output_type": "stream",
     "text": [
      "range(11, 20, 2)\n"
     ]
    }
   ],
   "source": [
    "start=11\n",
    "stop=20\n",
    "step=2\n",
    "#Creates a sequence a number start,start+step,start+step*2,... up to stop-1\n",
    "s=range(start,stop,step)\n",
    "print(s)"
   ]
  },
  {
   "cell_type": "code",
   "execution_count": 46,
   "id": "717bd07e-b8e3-44d2-92a6-e90cb4f88994",
   "metadata": {},
   "outputs": [
    {
     "name": "stdout",
     "output_type": "stream",
     "text": [
      "Does stop=20 belong to the range?\n"
     ]
    },
    {
     "data": {
      "text/plain": [
       "False"
      ]
     },
     "execution_count": 46,
     "metadata": {},
     "output_type": "execute_result"
    }
   ],
   "source": [
    "#Number 'stop' does not belong to the collection\n",
    "print('Does stop=20 belong to the range?')\n",
    "stop in s"
   ]
  },
  {
   "cell_type": "markdown",
   "id": "b9cd3a17-0786-4630-8696-be1049cfe8ea",
   "metadata": {},
   "source": [
    "We can use ranges to easily build lists or tuples"
   ]
  },
  {
   "cell_type": "code",
   "execution_count": 47,
   "id": "385aeda7-8629-4d26-bb5b-fceebc898475",
   "metadata": {},
   "outputs": [
    {
     "name": "stdout",
     "output_type": "stream",
     "text": [
      "[0, 1, 2, 3, 4, 5, 6, 7, 8, 9]\n",
      "(0, 1, 2, 3, 4, 5, 6, 7, 8, 9)\n"
     ]
    }
   ],
   "source": [
    "t= tuple(range(10))\n",
    "l = list(range(10))\n",
    "print(l)\n",
    "print(t)"
   ]
  },
  {
   "cell_type": "code",
   "execution_count": 49,
   "id": "287e64aa-c660-48ea-877d-b8323b7205d4",
   "metadata": {},
   "outputs": [
    {
     "name": "stdout",
     "output_type": "stream",
     "text": [
      "l2 [0, 1, 2, 3, 4, 5, 6, 7, 8, 9]\n",
      "l3          [3, 4, 5, 6, 7]\n",
      "l3b         [1, 3, 5, 7, 9]\n",
      "l4 [0, 1, 4, 9, 16, 25, 36, 49, 64, 81]\n",
      "l5 ['even', 'odd', 'even', 'odd', 'even', 'odd', 'even', 'odd', 'even', 'odd']\n"
     ]
    }
   ],
   "source": [
    "l2 =[ x for x in range(10)]\n",
    "l3 =[ x for x in range(10) if x>2 and x< 8]\n",
    "l3b =[ x for x in range(10) if x%2!=0]\n",
    "l4 =[ x**2 for x in range(10)]\n",
    "l5 =['even' if i%2 == 0 else 'odd' for i in range(10) ]\n",
    "\n",
    "print(\"l2\",l2)\n",
    "print(\"l3         \",l3)\n",
    "print(\"l3b        \",l3b)\n",
    "print(\"l4\",l4)\n",
    "print(\"l5\",l5)"
   ]
  },
  {
   "cell_type": "code",
   "execution_count": 50,
   "id": "7475347e-5f0e-40e5-8a1a-84aa064cf14f",
   "metadata": {},
   "outputs": [
    {
     "data": {
      "text/plain": [
       "['c', 'i', 'a', 'o']"
      ]
     },
     "execution_count": 50,
     "metadata": {},
     "output_type": "execute_result"
    }
   ],
   "source": [
    "[x for x in \"ciao\"]"
   ]
  },
  {
   "cell_type": "code",
   "execution_count": null,
   "id": "5e95f7c3-ec80-4c2f-aa49-201f5017955e",
   "metadata": {},
   "outputs": [],
   "source": [
    "['ciao' for x in range(10)]"
   ]
  },
  {
   "cell_type": "markdown",
   "id": "f3cde660-b395-46d2-b6d0-ab0dde7afbf0",
   "metadata": {},
   "source": [
    "The `[x**2 for x in range(10) if x>2 and x<8]` is a __list comprehension__ with filter\n",
    "* Compute the power (`x**2`)\n",
    "* of all integers `x` in 0-9 (`for x in range(10)`)\n",
    "* included in 3-7 (`if x>2 and x<8`)\n",
    "\n",
    "Therefore, a list comprehension\n",
    "- This allows you to build a list manipulating and filtering ranges or other sequences\n",
    "- Super pythonic! "
   ]
  },
  {
   "cell_type": "markdown",
   "id": "5647110b-4da9-4e0a-9544-3d65dbf28e43",
   "metadata": {
    "toc-nb-collapsed": true
   },
   "source": [
    "### Set types"
   ]
  },
  {
   "cell_type": "markdown",
   "id": "207da48e-69e4-40c6-bd92-3c9e351c3543",
   "metadata": {},
   "source": [
    "[Set types](https://docs.python.org/3/library/stdtypes.html#set-types-set-frozenset) are\n",
    "* **unorderded** collections of **distinct** elements\n",
    "* useful to \n",
    "  * eliminate replicas from lists, \n",
    "  * check __efficiently__ membership of an element to a collection, \n",
    "  * compute mathematical operations on sets"
   ]
  },
  {
   "cell_type": "code",
   "execution_count": 51,
   "id": "35adcba6-08e6-4c49-b988-328a2e128de5",
   "metadata": {},
   "outputs": [
    {
     "name": "stdout",
     "output_type": "stream",
     "text": [
      "{1, 2, 3, 4, 5}\n",
      "[1, 2, 3, 4, 5]\n",
      "[1, 2, 3, 4, 5]\n",
      "{1, 2, 3, 4, 5}\n"
     ]
    },
    {
     "data": {
      "text/plain": [
       "True"
      ]
     },
     "execution_count": 51,
     "metadata": {},
     "output_type": "execute_result"
    }
   ],
   "source": [
    "l=[1,2,3,4,1,2,5]\n",
    "s = set(l)\n",
    "print(s)\n",
    "l_without_replicas=list(s)\n",
    "l_without_replicas2=[x for x in s]\n",
    "print(l_without_replicas)\n",
    "print(l_without_replicas2)\n",
    "\n",
    "s2 = set([5,4,3,2,1])\n",
    "print(s2)\n",
    "s==s2"
   ]
  },
  {
   "cell_type": "code",
   "execution_count": 53,
   "id": "2cbdbb1f-0dae-4f96-b19e-be688dccde88",
   "metadata": {},
   "outputs": [
    {
     "data": {
      "text/plain": [
       "True"
      ]
     },
     "execution_count": 53,
     "metadata": {},
     "output_type": "execute_result"
    }
   ],
   "source": [
    "{2,3}=={3,2}"
   ]
  },
  {
   "cell_type": "code",
   "execution_count": 54,
   "id": "8bc1d554-ce65-47b0-97da-a429cdb46323",
   "metadata": {},
   "outputs": [
    {
     "data": {
      "text/plain": [
       "True"
      ]
     },
     "execution_count": 54,
     "metadata": {},
     "output_type": "execute_result"
    }
   ],
   "source": [
    "{2,3,2}=={2,3}"
   ]
  },
  {
   "cell_type": "code",
   "execution_count": null,
   "id": "8560f7a3-cd0c-48b1-aad6-f2d9fae0f3a6",
   "metadata": {},
   "outputs": [],
   "source": [
    "{2,1,3}"
   ]
  },
  {
   "cell_type": "code",
   "execution_count": 55,
   "id": "5db1f451-b1d4-4319-aada-a92c9a33c747",
   "metadata": {},
   "outputs": [
    {
     "data": {
      "text/plain": [
       "False"
      ]
     },
     "execution_count": 55,
     "metadata": {},
     "output_type": "execute_result"
    }
   ],
   "source": [
    "[2,1,3]==[1,2,3]"
   ]
  },
  {
   "cell_type": "code",
   "execution_count": null,
   "id": "1209ad25-c8ae-4d8e-80fa-b7a27635cc0a",
   "metadata": {},
   "outputs": [],
   "source": [
    "{2,1,3}=={1,2,3,3}"
   ]
  },
  {
   "cell_type": "code",
   "execution_count": 56,
   "id": "2e558d16-75b7-4dc1-9798-4d809cd06444",
   "metadata": {},
   "outputs": [
    {
     "name": "stdout",
     "output_type": "stream",
     "text": [
      "True\n",
      "False\n",
      "Are s and s2 disjoint? False\n",
      "True\n"
     ]
    },
    {
     "data": {
      "text/plain": [
       "{1, 2, 3, 4}"
      ]
     },
     "execution_count": 56,
     "metadata": {},
     "output_type": "execute_result"
    }
   ],
   "source": [
    "s={1,2,3}\n",
    "s2={2,3,4}\n",
    "print(1 in s)\n",
    "print(1 in s2)\n",
    "print('Are s and s2 disjoint?',s.isdisjoint(s2))\n",
    "print({1,2}.issubset(s))\n",
    "s.union(s2)"
   ]
  },
  {
   "cell_type": "markdown",
   "id": "886081d7-bff7-412e-b8c1-0b19bb8e74a1",
   "metadata": {},
   "source": [
    "For more methods of sets"
   ]
  },
  {
   "cell_type": "code",
   "execution_count": null,
   "id": "3dd67a09-c03e-4813-b59e-8a5358ba822d",
   "metadata": {},
   "outputs": [],
   "source": [
    "#dir(set)"
   ]
  },
  {
   "cell_type": "markdown",
   "id": "8f9a8893-260f-41e0-944b-9cdc3a1856a5",
   "metadata": {},
   "source": [
    "You can't access elements by position:\n",
    "* There is no order in a set!"
   ]
  },
  {
   "cell_type": "code",
   "execution_count": 57,
   "id": "2cf10f92-090d-4b8f-8a2a-397ef8e0d654",
   "metadata": {},
   "outputs": [
    {
     "data": {
      "text/plain": [
       "{1, 2, 3}"
      ]
     },
     "execution_count": 57,
     "metadata": {},
     "output_type": "execute_result"
    }
   ],
   "source": [
    "s"
   ]
  },
  {
   "cell_type": "code",
   "execution_count": 58,
   "id": "623e5b9c-698e-4c11-8343-2a53ba7f2c04",
   "metadata": {},
   "outputs": [],
   "source": [
    "#s[0] #THIS WOULD GIVE A RUNTIME ERROR!"
   ]
  },
  {
   "cell_type": "code",
   "execution_count": 65,
   "id": "1aec07cd-caab-432e-97d2-1eb7820e59da",
   "metadata": {},
   "outputs": [
    {
     "data": {
      "text/plain": [
       "['__and__',\n",
       " '__class__',\n",
       " '__class_getitem__',\n",
       " '__contains__',\n",
       " '__delattr__',\n",
       " '__dir__',\n",
       " '__doc__',\n",
       " '__eq__',\n",
       " '__format__',\n",
       " '__ge__',\n",
       " '__getattribute__',\n",
       " '__gt__',\n",
       " '__hash__',\n",
       " '__iand__',\n",
       " '__init__',\n",
       " '__init_subclass__',\n",
       " '__ior__',\n",
       " '__isub__',\n",
       " '__iter__',\n",
       " '__ixor__',\n",
       " '__le__',\n",
       " '__len__',\n",
       " '__lt__',\n",
       " '__ne__',\n",
       " '__new__',\n",
       " '__or__',\n",
       " '__rand__',\n",
       " '__reduce__',\n",
       " '__reduce_ex__',\n",
       " '__repr__',\n",
       " '__ror__',\n",
       " '__rsub__',\n",
       " '__rxor__',\n",
       " '__setattr__',\n",
       " '__sizeof__',\n",
       " '__str__',\n",
       " '__sub__',\n",
       " '__subclasshook__',\n",
       " '__xor__',\n",
       " 'add',\n",
       " 'clear',\n",
       " 'copy',\n",
       " 'difference',\n",
       " 'difference_update',\n",
       " 'discard',\n",
       " 'intersection',\n",
       " 'intersection_update',\n",
       " 'isdisjoint',\n",
       " 'issubset',\n",
       " 'issuperset',\n",
       " 'pop',\n",
       " 'remove',\n",
       " 'symmetric_difference',\n",
       " 'symmetric_difference_update',\n",
       " 'union',\n",
       " 'update']"
      ]
     },
     "execution_count": 65,
     "metadata": {},
     "output_type": "execute_result"
    }
   ],
   "source": [
    "dir(s)"
   ]
  },
  {
   "cell_type": "code",
   "execution_count": 67,
   "id": "b1b156b2-f30c-418c-9266-4ef6bdc2e1b3",
   "metadata": {},
   "outputs": [
    {
     "data": {
      "text/plain": [
       "{'a', 'c', 'i', 'o'}"
      ]
     },
     "execution_count": 67,
     "metadata": {},
     "output_type": "execute_result"
    }
   ],
   "source": [
    "s2= {x for x in \"ciaociao\"}\n",
    "s2"
   ]
  },
  {
   "cell_type": "markdown",
   "id": "d8650ca0-09c1-4fa9-9ee0-4dd8d4881605",
   "metadata": {},
   "source": [
    "There exists al an immutable version of sets: `frozenset`\n",
    "* Can be used as key in dictionaries    "
   ]
  },
  {
   "cell_type": "code",
   "execution_count": null,
   "id": "9cd36e38-2874-464e-bd61-46984409de4a",
   "metadata": {},
   "outputs": [],
   "source": [
    "fs=frozenset([1,2,3])\n",
    "print(fs)"
   ]
  },
  {
   "cell_type": "markdown",
   "id": "9554b8fb-4d18-4007-a4f2-35fefab4b2b4",
   "metadata": {},
   "source": [
    "### Mapping Types: dictionary"
   ]
  },
  {
   "cell_type": "markdown",
   "id": "dfd3149c-5f35-4e5c-87bc-d96f5691fd73",
   "metadata": {},
   "source": [
    "A [mapping object](https://docs.python.org/3/library/stdtypes.html#mapping-types-dict) allows to __map__ \n",
    "* elements of one type (the __key__) to\n",
    "* elements of another tpye (the __value__)"
   ]
  },
  {
   "cell_type": "markdown",
   "id": "d16b2d2c-8620-4519-b484-f44c6ff79e08",
   "metadata": {},
   "source": [
    "Intuitively, \n",
    "* a list implicitly allows to map integers (the index) to its elements\n",
    "* a mapping type allows to explicitly define key values of desired type"
   ]
  },
  {
   "cell_type": "code",
   "execution_count": 61,
   "id": "89dd024e-a16b-484d-998a-df2383f50a88",
   "metadata": {},
   "outputs": [
    {
     "name": "stdout",
     "output_type": "stream",
     "text": [
      "Integer 1      is mapped to char b\n",
      "Student Andrea is mapped to mark 30\n"
     ]
    }
   ],
   "source": [
    "lst=['a','b','c']\n",
    "key=1\n",
    "print('Integer',key,'     is mapped to char',lst[key])\n",
    "\n",
    "marks={'Andrea':30, 'Daniele':29, 'Giulio':25}\n",
    "print('Student','Andrea','is mapped to mark',marks['Andrea'])"
   ]
  },
  {
   "cell_type": "markdown",
   "id": "99ed48e9-3e25-4f2c-80f0-30deab298624",
   "metadata": {},
   "source": [
    "Which mapping types are we going to use?\n",
    "* **Dictionaries**"
   ]
  },
  {
   "cell_type": "code",
   "execution_count": 62,
   "id": "44834655-5d19-4442-bec7-c887453d3059",
   "metadata": {},
   "outputs": [
    {
     "data": {
      "text/plain": [
       "dict"
      ]
     },
     "execution_count": 62,
     "metadata": {},
     "output_type": "execute_result"
    }
   ],
   "source": [
    "type(marks)"
   ]
  },
  {
   "cell_type": "markdown",
   "id": "e3a70339-8aa8-46ba-b163-66c8dfbe52e7",
   "metadata": {},
   "source": [
    "These will create the same dict\n",
    "- marks : dictionary comprehension\n",
    "- marks2: dictionary constructor zipping two lists\n",
    "- marks3: dictionary constructor list of tuples (1 tuple per entry)"
   ]
  },
  {
   "cell_type": "code",
   "execution_count": null,
   "id": "eccafebc-5d9b-4453-be71-b03769a90039",
   "metadata": {},
   "outputs": [],
   "source": [
    "marks={'Andrea': 30, 'Daniele':30, 'Giulia':25}\n",
    "marks2=dict(zip(['Andrea','Daniele','Giulia'],[30,30,25]))\n",
    "marks3=dict([('Andrea', 30), ('Daniele', 30), ('Giulia', 25)])\n",
    "print(marks==marks2==marks3)"
   ]
  },
  {
   "cell_type": "code",
   "execution_count": 63,
   "id": "aabbc4bc-7355-4e17-a781-9a426160af92",
   "metadata": {},
   "outputs": [
    {
     "data": {
      "text/plain": [
       "{'Andrea': 0, 'Daniele': 1, 'Giulia': 2}"
      ]
     },
     "execution_count": 63,
     "metadata": {},
     "output_type": "execute_result"
    }
   ],
   "source": [
    "dict(zip(['Andrea','Daniele','Giulia'],range(3)))"
   ]
  },
  {
   "cell_type": "code",
   "execution_count": null,
   "id": "cd2471e3-155f-4c2c-b84f-abaa8f30f3c0",
   "metadata": {},
   "outputs": [],
   "source": [
    "#marks is marks2"
   ]
  },
  {
   "cell_type": "markdown",
   "id": "9d32f381-e653-4bd6-8cc2-13c98089eff2",
   "metadata": {},
   "source": [
    "Note that we use the function `zip`\n",
    "* It creates a list-like structure where each element is a pair of elements from the first and second list, resp."
   ]
  },
  {
   "cell_type": "code",
   "execution_count": 64,
   "id": "e269d3f8-30c8-4f8f-b5d0-75bdb4d949ea",
   "metadata": {},
   "outputs": [
    {
     "name": "stdout",
     "output_type": "stream",
     "text": [
      "[('Andrea', 30), ('Daniele', 30), ('Giulio', 25)]\n"
     ]
    }
   ],
   "source": [
    "z=zip(['Andrea','Daniele','Giulio'],[30,30,25])\n",
    "print(list(z))"
   ]
  },
  {
   "cell_type": "markdown",
   "id": "377fd251-d7d9-43e1-a6ba-9c298b83567f",
   "metadata": {},
   "source": [
    "Now suppose that you want to create a dictionary that maps a word to its length.\n",
    "* This can be done elegantly using a dictionary comprehension"
   ]
  },
  {
   "cell_type": "code",
   "execution_count": 68,
   "id": "0855fb00-aa86-4f18-9961-1626aa191331",
   "metadata": {},
   "outputs": [
    {
     "name": "stdout",
     "output_type": "stream",
     "text": [
      "{'Andrea': 6, 'Daniele': 7, 'Giulia': 6}\n"
     ]
    }
   ],
   "source": [
    "names = ['Andrea','Daniele','Giulia']\n",
    "names2len={ n:len(n) for n in names }\n",
    "print(names2len)"
   ]
  },
  {
   "cell_type": "markdown",
   "id": "54df6ea9-2f20-459e-b7ec-81db715a9047",
   "metadata": {},
   "source": [
    "A dict comprehension to associate a name with its initial!?"
   ]
  },
  {
   "cell_type": "markdown",
   "id": "6401822f-90d7-4afd-b298-1f33d91aa7fb",
   "metadata": {},
   "source": [
    "Many types can be used as keys. But only those __hashable__\n",
    "* No mutable collections (list, set, dictionaries)"
   ]
  },
  {
   "cell_type": "code",
   "execution_count": null,
   "id": "0cc1ebb2-7ee5-4ea8-be89-8a7aa5ec034f",
   "metadata": {},
   "outputs": [],
   "source": [
    "lst=[1]\n",
    "string=\"ciao\"\n",
    "ok_dict={string:lst}\n",
    "#wrong_dict={lst:5}   #ERROR"
   ]
  },
  {
   "cell_type": "markdown",
   "id": "ff36ee3f-8011-4b39-8f3d-2bb7430250f9",
   "metadata": {},
   "source": [
    "Some functionalities of dictionaries"
   ]
  },
  {
   "cell_type": "code",
   "execution_count": 70,
   "id": "58d684d2-7aca-40c6-891e-8d57589285a1",
   "metadata": {},
   "outputs": [
    {
     "data": {
      "text/plain": [
       "{'Andrea': 29, 'Daniele': 29, 'Giulio': 25}"
      ]
     },
     "execution_count": 70,
     "metadata": {},
     "output_type": "execute_result"
    }
   ],
   "source": [
    "marks"
   ]
  },
  {
   "cell_type": "code",
   "execution_count": 71,
   "id": "ec6e2a39-f80f-45b7-8a0f-ecc59f974d5b",
   "metadata": {},
   "outputs": [
    {
     "name": "stdout",
     "output_type": "stream",
     "text": [
      "All keys: ['Andrea', 'Daniele', 'Giulio']\n",
      "All values: [29, 29, 25]\n",
      "Number of elements: 3\n",
      "Update\n",
      "{'Andrea': 29, 'Daniele': 29, 'Giulio': 25}\n"
     ]
    }
   ],
   "source": [
    "print('All keys:',list(marks.keys()))\n",
    "print('All values:',list(marks.values()))\n",
    "print('Number of elements:',len(marks))\n",
    "print('Update')\n",
    "marks['Andrea']=29\n",
    "print(marks)"
   ]
  },
  {
   "cell_type": "code",
   "execution_count": 72,
   "id": "37de6a95-c11f-4663-ae74-a8cd0a424f1e",
   "metadata": {},
   "outputs": [
    {
     "data": {
      "text/plain": [
       "{'Andrea': 29, 'Daniele': 29, 'Giulio': 25, 'Marta': 30}"
      ]
     },
     "execution_count": 72,
     "metadata": {},
     "output_type": "execute_result"
    }
   ],
   "source": [
    "marks['Marta']=30\n",
    "marks"
   ]
  },
  {
   "cell_type": "markdown",
   "id": "a6298c1f-48b5-4380-9c39-6cb9ed36b42b",
   "metadata": {},
   "source": [
    "## Which data structure should I use? 'It depends on what you have to do'"
   ]
  },
  {
   "cell_type": "markdown",
   "id": "00850a7f-3079-46fc-8818-5fdf73252384",
   "metadata": {},
   "source": [
    "### You should carefully THINK about which data structure to use for your needs"
   ]
  },
  {
   "cell_type": "markdown",
   "id": "b3370b5d-c56a-4c34-b4d0-ff2a7ace5af4",
   "metadata": {},
   "source": [
    "Each data structure has its pros and cons\n",
    "- Some occupy more space than others\n",
    "- Each specializes in certain operations\n",
    "  - Some allow to insert/delete elements very efficiently, \n",
    "  - Others allow to search very efficiently\n",
    "  - ..."
   ]
  },
  {
   "cell_type": "markdown",
   "id": "5d1b3265-1a86-4544-a579-387e51a9d9d6",
   "metadata": {},
   "source": [
    "These properties are discussed using the notion of [time/space complexity](https://wiki.python.org/moin/TimeComplexity)\n",
    "- Daniele and I attended courses during our studies just on this topic...\n",
    "  - We will try to give you a super short overview\n",
    "  - Just the idea"
   ]
  },
  {
   "cell_type": "markdown",
   "id": "138c778a-4436-49cf-835b-045361bcff67",
   "metadata": {},
   "source": [
    "Complexity is all about this question:\n",
    "- How mouch does it cost an operation depending on the size of the data structure (on the amount of data)?\n",
    "  - __$O(1)$__: VERY GOOD. The size does not matter. \n",
    "     - This operation takes the same time.\n",
    "  - __$O(\\log n)$__: GOOD. The size does not matter much.\n",
    "     - The time necessary increases slowly\n",
    "  - __$O(n)$__: BADish: The size matters!\n",
    "     - The time necessary increases linearly\n",
    "  - __$O(n \\log n)$__: BADish: The size matters!\n",
    "     - The time necessary slightly more than linearly\n",
    "  - __$O(n^2)$__: BAD: The size matters!\n",
    "     - The time necessary quadratically\n",
    "  - __$O(2^n)$__: VERY BAD: The size matters!\n",
    "     - The time necessary exponentially\n",
    "     \n",
    "     \n",
    "\n",
    "Beware\n",
    "- These considerations are important only if your data structure contains many elements (e.g., more than 1000)\n",
    "- There is no free lunch: we can improve on time complexity only by worsening space complexity (using more memory)\n",
    "  - a lists uses less memory than a set or a dictionary..."
   ]
  },
  {
   "cell_type": "markdown",
   "id": "af5ac0f0-5aca-45d7-b6e5-e9d5a85bb93d",
   "metadata": {},
   "source": [
    "### (Simplified) time complexities of python data structures"
   ]
  },
  {
   "cell_type": "markdown",
   "id": "fff5c5c8-80fb-4364-9f31-5b9b0f61e294",
   "metadata": {},
   "source": [
    "#### Lists"
   ]
  },
  {
   "cell_type": "code",
   "execution_count": 75,
   "id": "b83a31d0-c58f-401e-b288-5a400c09df46",
   "metadata": {},
   "outputs": [
    {
     "data": {
      "image/png": "[encoded data removed]",
      "text/plain": [
       "<IPython.core.display.Image object>"
      ]
     },
     "metadata": {
      "image/png": {
       "width": 280
      }
     },
     "output_type": "display_data"
    }
   ],
   "source": [
    "from IPython.display import Image, display\n",
    "#img=Image(filename='images/complexityLists.png',width=280)\n",
    "img=Image(url_github_repo+'jupyter/jupyterNotebooks/images/complexityLists.png',width=280)\n",
    "display(img)"
   ]
  },
  {
   "cell_type": "markdown",
   "id": "fa61e54a-09dd-4e92-b6a8-94aefb0b8418",
   "metadata": {},
   "source": [
    "- Iteration/Copying/Max/Min a list takes O(n): \n",
    "  - I have to scan all the elements\n",
    "- <span style=\"color:green\">Appending an element at the end takes constant time O(1)</span>\n",
    "- __<span style=\"color:red\"> Deleting an intermediate element takes O(n)</span>__\n",
    "   - I have to shift all the elements on its right!\n",
    "- __<span style=\"color:red\"> Searching an element (`x in s`) takes O(n)</span>__\n",
    "  - I have to scan all the elements\n",
    "- <span style=\"color:green\"> Sorting takes O(n \\cdot log n)</span>\n",
    "  - This is an important result in computer science\n",
    "  - There are proofs showing that you can't do better"
   ]
  },
  {
   "cell_type": "markdown",
   "id": "3e8afcb8-a6fe-4ecd-91c6-6f08da94d7e9",
   "metadata": {},
   "source": [
    "#### Sets"
   ]
  },
  {
   "cell_type": "code",
   "execution_count": 76,
   "id": "a75c70b4-d610-4804-9578-d3f91c652de2",
   "metadata": {},
   "outputs": [
    {
     "data": {
      "image/png": "[encoded data removed]",
      "text/plain": [
       "<IPython.core.display.Image object>"
      ]
     },
     "metadata": {
      "image/png": {
       "width": 700
      }
     },
     "output_type": "display_data"
    }
   ],
   "source": [
    "img=Image(url_github_repo+'jupyter/jupyterNotebooks/images/complexitySets.png',width=700)\n",
    "display(img)"
   ]
  },
  {
   "cell_type": "markdown",
   "id": "de1add2d-1def-4201-a323-6a43b6ebde47",
   "metadata": {},
   "source": [
    "The table distinghishes among average case and worst case\n",
    "- Average: what can you expect in practice\n",
    "- Worst: there exist a formal theorem stating that it cannot be worse than this\n",
    "- We keep focusing on the average case\n",
    "\n",
    "\n",
    "We note that:\n",
    "- __<span style=\"color:green\"> Searching an element (`x in s`) takes on average O(1)</span>__\n",
    "  - It transforms x into an int (hashing)\n",
    "  - Uses that int as an 'address'/'index' of x. \n",
    "  \n",
    "A set is implemented as a dict. Check in that table for the missing complexities"
   ]
  },
  {
   "cell_type": "markdown",
   "id": "ea5de599-5390-49c7-b759-a57b5941e420",
   "metadata": {},
   "source": [
    "#### Dict"
   ]
  },
  {
   "cell_type": "code",
   "execution_count": null,
   "id": "e6118325-9353-4788-a093-0a9d388253e2",
   "metadata": {},
   "outputs": [],
   "source": [
    "img=Image(url_github_repo+'jupyter/jupyterNotebooks/images/complexityDicts.png',width=200)\n",
    "display(img)"
   ]
  },
  {
   "cell_type": "markdown",
   "id": "d41f6d8c-c8f5-4417-97b6-f3d7bfae74ce",
   "metadata": {},
   "source": [
    "- <span style=\"color:green\"> Searching an element (`x in s`) takes O(1)</span>\n",
    "  - It transforms x into an int (hashing)\n",
    "  - Uses that int as an 'address'/'index' of x. \n",
    "- __<span style=\"color:green\">Deleting an element (`x in s`) takes O(1)</span>__"
   ]
  },
  {
   "cell_type": "code",
   "execution_count": 77,
   "id": "a4a8cc4c-1295-41c1-9ca7-d6538be9551d",
   "metadata": {},
   "outputs": [],
   "source": [
    "lst = list(range(20000))\n",
    "st =   set(range(20000))"
   ]
  },
  {
   "cell_type": "code",
   "execution_count": 78,
   "id": "e8f249b8-86a4-405d-a2a8-3a7d85987654",
   "metadata": {},
   "outputs": [
    {
     "name": "stdout",
     "output_type": "stream",
     "text": [
      "What: 100 LIST\n",
      "True\n",
      "CPU times: user 10 µs, sys: 0 ns, total: 10 µs\n",
      "Wall time: 12.9 µs\n",
      "What: 100 SET\n",
      "True\n",
      "CPU times: user 6 µs, sys: 0 ns, total: 6 µs\n",
      "Wall time: 8.11 µs\n",
      "\n",
      "What: 1000 LIST\n",
      "True\n",
      "CPU times: user 17 µs, sys: 0 ns, total: 17 µs\n",
      "Wall time: 18.8 µs\n",
      "What: 1000 SET\n",
      "True\n",
      "CPU times: user 5 µs, sys: 0 ns, total: 5 µs\n",
      "Wall time: 7.15 µs\n",
      "\n",
      "What: 10000 LIST\n",
      "True\n",
      "CPU times: user 124 µs, sys: 1e+03 ns, total: 125 µs\n",
      "Wall time: 125 µs\n",
      "What: 10000 SET\n",
      "True\n",
      "CPU times: user 5 µs, sys: 0 ns, total: 5 µs\n",
      "Wall time: 6.2 µs\n",
      "\n",
      "What: 100000 LIST\n",
      "False\n",
      "CPU times: user 237 µs, sys: 1e+03 ns, total: 238 µs\n",
      "Wall time: 238 µs\n",
      "What: 100000 SET\n",
      "False\n",
      "CPU times: user 5 µs, sys: 1e+03 ns, total: 6 µs\n",
      "Wall time: 5.72 µs\n"
     ]
    }
   ],
   "source": [
    "which=100\n",
    "print('What:', which, 'LIST')\n",
    "%time print(which in lst)\n",
    "print('What:', which, 'SET')\n",
    "%time print(which in st)\n",
    "\n",
    "print()\n",
    "which=1000\n",
    "print('What:', which, 'LIST')\n",
    "%time print(which in lst)\n",
    "print('What:', which, 'SET')\n",
    "%time print(which in st)\n",
    "\n",
    "print()\n",
    "which=10000\n",
    "print('What:', which, 'LIST')\n",
    "%time print(which in lst)\n",
    "print('What:', which, 'SET')\n",
    "%time print(which in st)\n",
    "\n",
    "print()\n",
    "which=100000\n",
    "print('What:', which, 'LIST')\n",
    "%time print(which in lst)\n",
    "print('What:', which, 'SET')\n",
    "%time print(which in st)"
   ]
  },
  {
   "cell_type": "code",
   "execution_count": 79,
   "id": "ba47b831-8c4f-4cbf-af34-9547b7a2c4e2",
   "metadata": {},
   "outputs": [],
   "source": [
    "lst = list(range(10000000))\n",
    "st =   set(range(10000000))"
   ]
  },
  {
   "cell_type": "code",
   "execution_count": 80,
   "id": "5b95ef9f-ed9e-4922-aba0-514a83eca5b3",
   "metadata": {},
   "outputs": [
    {
     "name": "stdout",
     "output_type": "stream",
     "text": [
      "What: 100 LIST\n",
      "True\n",
      "CPU times: user 8 µs, sys: 0 ns, total: 8 µs\n",
      "Wall time: 10 µs\n",
      "What: 100 SET\n",
      "True\n",
      "CPU times: user 6 µs, sys: 0 ns, total: 6 µs\n",
      "Wall time: 6.91 µs\n",
      "\n",
      "What: 1000 LIST\n",
      "True\n",
      "CPU times: user 16 µs, sys: 0 ns, total: 16 µs\n",
      "Wall time: 17.2 µs\n",
      "What: 1000 SET\n",
      "True\n",
      "CPU times: user 5 µs, sys: 0 ns, total: 5 µs\n",
      "Wall time: 5.96 µs\n",
      "\n",
      "What: 10000 LIST\n",
      "True\n",
      "CPU times: user 118 µs, sys: 0 ns, total: 118 µs\n",
      "Wall time: 120 µs\n",
      "What: 10000 SET\n",
      "True\n",
      "CPU times: user 6 µs, sys: 1e+03 ns, total: 7 µs\n",
      "Wall time: 7.87 µs\n",
      "\n",
      "What: 100000 LIST\n",
      "True\n",
      "CPU times: user 1.42 ms, sys: 0 ns, total: 1.42 ms\n",
      "Wall time: 1.42 ms\n",
      "What: 100000 SET\n",
      "True\n",
      "CPU times: user 6 µs, sys: 4 µs, total: 10 µs\n",
      "Wall time: 12.2 µs\n",
      "\n",
      "What: 1000000 LIST\n",
      "True\n",
      "CPU times: user 12.5 ms, sys: 100 µs, total: 12.6 ms\n",
      "Wall time: 12.6 ms\n",
      "What: 1000000 SET\n",
      "True\n",
      "CPU times: user 6 µs, sys: 5 µs, total: 11 µs\n",
      "Wall time: 14.1 µs\n",
      "\n",
      "What: 10000000 LIST\n",
      "False\n",
      "CPU times: user 111 ms, sys: 11.3 ms, total: 122 ms\n",
      "Wall time: 122 ms\n",
      "What: 10000000 SET\n",
      "False\n",
      "CPU times: user 6 µs, sys: 0 ns, total: 6 µs\n",
      "Wall time: 8.11 µs\n",
      "\n",
      "What: 100000000 LIST\n",
      "False\n",
      "CPU times: user 107 ms, sys: 1.04 ms, total: 108 ms\n",
      "Wall time: 108 ms\n",
      "What: 100000000 SET\n",
      "False\n",
      "CPU times: user 7 µs, sys: 7 µs, total: 14 µs\n",
      "Wall time: 10 µs\n"
     ]
    }
   ],
   "source": [
    "which=100\n",
    "print('What:', which, 'LIST')\n",
    "%time print(which in lst)\n",
    "print('What:', which, 'SET')\n",
    "%time print(which in st)\n",
    "\n",
    "print()\n",
    "which=1000\n",
    "print('What:', which, 'LIST')\n",
    "%time print(which in lst)\n",
    "print('What:', which, 'SET')\n",
    "%time print(which in st)\n",
    "\n",
    "print()\n",
    "which=10000\n",
    "print('What:', which, 'LIST')\n",
    "%time print(which in lst)\n",
    "print('What:', which, 'SET')\n",
    "%time print(which in st)\n",
    "\n",
    "print()\n",
    "which=100000\n",
    "print('What:', which, 'LIST')\n",
    "%time print(which in lst)\n",
    "print('What:', which, 'SET')\n",
    "%time print(which in st)\n",
    "\n",
    "print()\n",
    "which=1000000\n",
    "print('What:', which, 'LIST')\n",
    "%time print(which in lst)\n",
    "print('What:', which, 'SET')\n",
    "%time print(which in st)\n",
    "\n",
    "print()\n",
    "which=10000000\n",
    "print('What:', which, 'LIST')\n",
    "%time print(which in lst)\n",
    "print('What:', which, 'SET')\n",
    "%time print(which in st)\n",
    "\n",
    "print()\n",
    "which=100000000\n",
    "print('What:', which, 'LIST')\n",
    "%time print(which in lst)\n",
    "print('What:', which, 'SET')\n",
    "%time print(which in st)"
   ]
  },
  {
   "cell_type": "markdown",
   "id": "eeff5301-f9d5-4031-87d8-5d817900dc48",
   "metadata": {},
   "source": [
    "# Control and Repetition Statements"
   ]
  },
  {
   "cell_type": "markdown",
   "id": "e10a83a0-d81d-4046-af63-8a39fe67d313",
   "metadata": {
    "tags": []
   },
   "source": [
    "## Intro: we need to control at runtime the execution flow of our programs"
   ]
  },
  {
   "cell_type": "markdown",
   "id": "d93567e4-eca4-4986-b45b-158d13ccde2f",
   "metadata": {},
   "source": [
    "__We don't precisely do cooking recipes__"
   ]
  },
  {
   "cell_type": "code",
   "execution_count": 81,
   "id": "500f75c7-3fdf-4ea1-9d28-7dcd6f3424ac",
   "metadata": {},
   "outputs": [
    {
     "name": "stdout",
     "output_type": "stream",
     "text": [
      "Open moka\n",
      "Rinse moka\n",
      "Add water\n",
      "Add coffee\n",
      "Turn on fire\n",
      "Drink coffee!\n"
     ]
    }
   ],
   "source": [
    "print('Open moka')\n",
    "print('Rinse moka')\n",
    "print('Add water')\n",
    "print('Add coffee')\n",
    "print('Turn on fire')\n",
    "print('Drink coffee!')"
   ]
  },
  {
   "cell_type": "markdown",
   "id": "bbc4049d-5b41-4049-96cd-9648229f54e8",
   "metadata": {},
   "source": [
    "One might be tempted to see software programs as cooking recipes...\n",
    "\n",
    "* A recipe is a list of instructions (or __statements__) to be executed in sequence. No decisions have to be taken.\n",
    "* When programming, it is very rare to deal with problems that require only such simple processing. \n",
    "\n",
    "Most of the times we need to write programs able to take decisions:\n",
    "* Depending on the input\n",
    "* Depending on the current values of certain variables in the program"
   ]
  },
  {
   "cell_type": "markdown",
   "id": "e0bff03e-1c85-49d1-ab20-5d4c60d69c55",
   "metadata": {},
   "source": [
    "Now, we will discuss the specific statements (aka control and repetition structures) necessary to:\n",
    "  * __IF__: Execute blocks of statements only if a certain condition holds\n",
    "  * __LOOP__: Execute blocks of statements several times as long a certain condition holds "
   ]
  },
  {
   "cell_type": "code",
   "execution_count": 83,
   "id": "02e7a5ec-a7d8-4f0b-a728-9231f04802bf",
   "metadata": {},
   "outputs": [
    {
     "name": "stdout",
     "output_type": "stream",
     "text": [
      "Open moka\n",
      "Rinse moka\n",
      "Add water\n",
      "Add coffee\n",
      "Turn on fire\n"
     ]
    },
    {
     "name": "stdin",
     "output_type": "stream",
     "text": [
      " Taste coffee. Enough sugar? no\n",
      " Taste coffee. Enough sugar? no\n",
      " Taste coffee. Enough sugar? OK\n"
     ]
    },
    {
     "name": "stdout",
     "output_type": "stream",
     "text": [
      "Dirnk coffee!\n"
     ]
    }
   ],
   "source": [
    "print('Open moka')\n",
    "print('Rinse moka')\n",
    "print('Add water')\n",
    "print('Add coffee')\n",
    "print('Turn on fire')\n",
    "enough_sugar=input(' Taste coffee. Enough sugar?')\n",
    "counter=0\n",
    "while enough_sugar!=\"OK\":\n",
    "    enough_sugar=input(' Taste coffee. Enough sugar?')\n",
    "    counter+=1\n",
    "    if counter>3:\n",
    "        print(' This became sugar with coffee rather than coffee with sugar... I terminate')\n",
    "        enough_sugar=\"OK\"\n",
    "print('Dirnk coffee!')"
   ]
  },
  {
   "cell_type": "markdown",
   "id": "faf2a655-1f2c-460f-9a8b-236d24d9d51c",
   "metadata": {},
   "source": [
    "Statements like `if` and loops (`while`, `for`) that contain _blocks of statements_\n",
    "* are known as [__compound statements__](https://docs.python.org/3/reference/compound_stmts.html)\n",
    "* affect/control the execution of those other statements in some way\n",
    "* where blocks are built using the _indentation rule_, as explained below. \n",
    "  * What matters are the spaces preceding a statement\n",
    "  * No explicit block delimiters like `{...}` are needed"
   ]
  },
  {
   "cell_type": "markdown",
   "id": "ece449c7-fee0-41ed-bcbb-58b1b3e97d92",
   "metadata": {},
   "source": [
    "## If statement"
   ]
  },
  {
   "cell_type": "markdown",
   "id": "61d88571-b07b-434d-88a8-5759ad3172da",
   "metadata": {},
   "source": [
    "This section presents the various forms in which we can use the [`if` statement](https://docs.python.org/3/reference/compound_stmts.html#the-if-statement)"
   ]
  },
  {
   "cell_type": "markdown",
   "id": "e6c31d5a-4650-4173-8bd6-2b07d8460c5a",
   "metadata": {},
   "source": [
    "### Choose whether executing a block or not"
   ]
  },
  {
   "cell_type": "markdown",
   "id": "503da52e-e40f-464e-9f83-33eb2536530d",
   "metadata": {},
   "source": [
    "In its simplest form, an `if` statement consists of\n",
    "* A __guard__: a Boolean expression (as presented in class 2 evaluated to either `True` or `False`)\n",
    "* A __body__: block of statements executed only if the guards evaluates to `True`"
   ]
  },
  {
   "cell_type": "code",
   "execution_count": 86,
   "id": "9c807b6e-03d0-4284-a3b6-eff45be31a41",
   "metadata": {},
   "outputs": [
    {
     "name": "stdout",
     "output_type": "stream",
     "text": [
      "fuori\n",
      "After the first if\n",
      "\n",
      "The second guard was satisfied\n",
      "ancora dentro\n",
      "After the second if\n"
     ]
    }
   ],
   "source": [
    "x=1\n",
    "y=2\n",
    "if x==y:\n",
    "    print('The first guard was satisfied')\n",
    "    print('ancora dentro')\n",
    "    print('ancora dentro')    \n",
    "print('fuori')\n",
    "print('After the first if\\n')\n",
    "\n",
    "x=1\n",
    "y=1\n",
    "if x==y :\n",
    "    print('The second guard was satisfied')\n",
    "    print('ancora dentro')    \n",
    "print('After the second if')"
   ]
  },
  {
   "cell_type": "markdown",
   "id": "ddbfa747-7362-4113-8acb-6c5bb51328a7",
   "metadata": {},
   "source": [
    "> Pay attention to tabs/indentation! The body of the `if` is defined by the _indentation rule_"
   ]
  },
  {
   "cell_type": "code",
   "execution_count": null,
   "id": "d2cdba76-d3ed-401a-80e7-44844d4a0c11",
   "metadata": {},
   "outputs": [],
   "source": [
    "x=1\n",
    "y=2\n",
    "if x==y :\n",
    "    print('The guard was satisfied')\n",
    "    print('Still in the if!')\n",
    "print('Not in the if!')    "
   ]
  },
  {
   "cell_type": "markdown",
   "id": "70088bc5-7e31-455e-9122-ff2562e51a07",
   "metadata": {},
   "source": [
    "### Choose which block to execute among two blocks"
   ]
  },
  {
   "cell_type": "markdown",
   "id": "8455d52e-3973-4006-a2a6-394c739b21ba",
   "metadata": {},
   "source": [
    "What if we need to choose between executing two blocks of statements according to a condition?"
   ]
  },
  {
   "cell_type": "code",
   "execution_count": 88,
   "id": "660f275c-d580-4e03-94ee-22ea439ddcb6",
   "metadata": {},
   "outputs": [
    {
     "name": "stdout",
     "output_type": "stream",
     "text": [
      "Withdrawing 6 succeeded. \n",
      "We are left with 4\n"
     ]
    }
   ],
   "source": [
    "deposit = 10\n",
    "withdraw = 6\n",
    "\n",
    "if deposit >= withdraw :\n",
    "    #deposit-=withdraw #\n",
    "    deposit = deposit-withdraw\n",
    "    print('Withdrawing',withdraw,'succeeded. ') \n",
    "    print('We are left with',deposit)\n",
    "else:\n",
    "    #missing = withdraw - deposit \n",
    "    actualWithdraw = deposit\n",
    "    deposit = 0\n",
    "    print('Withdrawing',withdraw,'failed. ')\n",
    "    print('We withdrew',actualWithdraw,'remaining with',deposit)"
   ]
  },
  {
   "cell_type": "code",
   "execution_count": 89,
   "id": "b5ca12ff-e247-4abc-841e-05c88a83cc5f",
   "metadata": {},
   "outputs": [
    {
     "data": {
      "text/plain": [
       "4"
      ]
     },
     "execution_count": 89,
     "metadata": {},
     "output_type": "execute_result"
    }
   ],
   "source": [
    "deposit"
   ]
  },
  {
   "cell_type": "code",
   "execution_count": 91,
   "id": "c5cae776-f1dc-4068-80d6-3bf3ba5951d2",
   "metadata": {},
   "outputs": [
    {
     "name": "stdout",
     "output_type": "stream",
     "text": [
      "Withdrawing 6 failed. \n",
      "We withdrew 0 remaining with 0\n"
     ]
    }
   ],
   "source": [
    "if deposit >= withdraw :\n",
    "    deposit-=withdraw\n",
    "    print('Withdrawing',withdraw,'succeeded. ') \n",
    "    print('We are left with',deposit)\n",
    "else:\n",
    "    #missing = withdraw - deposit \n",
    "    actualWithdraw = deposit\n",
    "    deposit = 0\n",
    "    print('Withdrawing',withdraw,'failed. ')\n",
    "    print('We withdrew',actualWithdraw,'remaining with',deposit)"
   ]
  },
  {
   "cell_type": "markdown",
   "id": "2b5bf1ea-6e3d-4f99-a462-8f05929b11e2",
   "metadata": {},
   "source": [
    "> The copy-paste of code above is __bad practice__. We will see in the next class how to avoid it!"
   ]
  },
  {
   "cell_type": "markdown",
   "id": "6f300f72-f431-4e93-a504-7f3d6199707e",
   "metadata": {},
   "source": [
    "### Choose wich block to execute among several blocks"
   ]
  },
  {
   "cell_type": "code",
   "execution_count": 93,
   "id": "b1aa21ec-4eb7-490c-b025-5192b8d0b3b8",
   "metadata": {},
   "outputs": [
    {
     "name": "stdout",
     "output_type": "stream",
     "text": [
      "The cappuccino law.\n"
     ]
    },
    {
     "name": "stdin",
     "output_type": "stream",
     "text": [
      "What time is it (0-24)? 14\n"
     ]
    },
    {
     "name": "stdout",
     "output_type": "stream",
     "text": [
      "No way!\n",
      "This is the law.\n"
     ]
    }
   ],
   "source": [
    "print('The cappuccino law.')\n",
    "hour=int(input('What time is it (0-24)?'))\n",
    "if hour < 5 :\n",
    "    print('No. But some people have hot milk to help their sleep.')\n",
    "elif hour <= 11 :\n",
    "    print('You can safely have a cappuccino.')\n",
    "elif hour == 12 :\n",
    "    print(\"That's shady. Drink it quickly.\")\n",
    "elif hour <= 15 :\n",
    "    print('No way!')\n",
    "elif hour <= 20 :\n",
    "    print('No. But you can have hot milk if you are sick.')\n",
    "else:\n",
    "    print(\"No. But some people have hot milk before going to sleep.\")\n",
    "\n",
    "print(\"This is the law.\")    "
   ]
  },
  {
   "cell_type": "markdown",
   "id": "ae2f3ddb-8528-4999-aa6c-41ee63ee735a",
   "metadata": {},
   "source": [
    "There can be:\n",
    "* 0, 1, or more `elif`\n",
    "  * take this branch if previous guards failed and this one passes\n",
    "* 0 or 1 `else`\n",
    "  * a sort of _default_ case taken if all other guards fail\n",
    "\n",
    "Of course, we can have nested `if`\n",
    "* The `else` and `elif` are matched to the correct `if` according to the indentation rule"
   ]
  },
  {
   "cell_type": "code",
   "execution_count": null,
   "id": "735c6dee-7915-454b-9739-561fbc5a6999",
   "metadata": {},
   "outputs": [],
   "source": [
    "n=int(input('Give me a non-negative integer'))\n",
    "if n >= 2 :\n",
    "    if n <= 5 :\n",
    "        print(n,'belongs to the interval [2,5]')\n",
    "    else :\n",
    "        print(n,'belongs to the interval (5,infinity)')\n",
    "else :\n",
    "    print(n,'belongs to the interval [0,2)')"
   ]
  },
  {
   "cell_type": "markdown",
   "id": "90b8163f-d6a7-4de2-98f5-7380ed8a3533",
   "metadata": {},
   "source": [
    "## Looping constructs"
   ]
  },
  {
   "cell_type": "markdown",
   "id": "b33b8a7a-4362-4028-85ea-8853ed9c8b68",
   "metadata": {},
   "source": [
    "A basic __`if`__ statement can be used to\n",
    "* decide whether executing a block __0 times or 1 time__\n",
    "\n",
    "A looping construct (__`while`__,__`for`__) is like a basic `if`, but can be used to\n",
    "* decide whether executing a block \n",
    "  - __0 times__, \n",
    "  - __1 time__, \n",
    "  - __2 times__, \n",
    "  - __3 times__, \n",
    "  - __4 times__ \n",
    "  - ..."
   ]
  },
  {
   "cell_type": "markdown",
   "id": "03fd9a5a-2bd7-40db-b02a-849b9a488614",
   "metadata": {},
   "source": [
    "### While loops"
   ]
  },
  {
   "cell_type": "markdown",
   "id": "26ba5fc1-db20-44a1-bebc-3d638742f97b",
   "metadata": {},
   "source": [
    "We begin with [while loops](https://docs.python.org/3/reference/compound_stmts.html#the-while-statement)\n",
    "* showing how we can use them to compute the _factorial_ of a number: $n! = n\\cdot(n-1)\\cdot(n-2)\\cdot\\ldots\\cdot1$"
   ]
  },
  {
   "cell_type": "code",
   "execution_count": null,
   "id": "72b8a371-547a-4bb4-b936-e3adafd020da",
   "metadata": {},
   "outputs": [],
   "source": [
    "nstr = input('Give me a (small) number. I will compute its factorial')\n",
    "n=int(nstr)\n",
    "\n",
    "fact=n\n",
    "while n >1:\n",
    "    n-=1 #n=n-1\n",
    "    #fact*=n \n",
    "    fact = fact*n\n",
    "print('The factorial of',nstr,'is',fact)"
   ]
  },
  {
   "cell_type": "code",
   "execution_count": null,
   "id": "6c3f3ddf-dfb2-4b19-9051-032cc6b2366d",
   "metadata": {},
   "outputs": [],
   "source": [
    "#while True:\n",
    "#    print('ciao')"
   ]
  },
  {
   "cell_type": "markdown",
   "id": "881472ec-2fee-45b2-a015-6e1a6183aa3d",
   "metadata": {},
   "source": [
    "How to \n",
    "- _echo_ lines from console \n",
    "- as long as the user does not type `'end'`?"
   ]
  },
  {
   "cell_type": "code",
   "execution_count": null,
   "id": "c763925e-3837-4a66-9fab-c487439fc12c",
   "metadata": {},
   "outputs": [],
   "source": [
    "line = ''\n",
    "#while line != 'end' or line != 'END':\n",
    "while line.lower() != 'end':\n",
    "    line = input('Next line:')\n",
    "    print(line.upper())\n",
    "print('Bye!')"
   ]
  },
  {
   "cell_type": "markdown",
   "id": "ce50f1a1-418b-43d8-99ff-961e4dc96cb5",
   "metadata": {},
   "source": [
    "We can modify the execution flow within an iteration using\n",
    "* `break` interrupts the current iteration and exits the loop\n",
    "* `continue` interrupts the current iteration and go to the next iteration\n",
    "\n",
    "Let's print only non-numeric strings until we get `'end'`"
   ]
  },
  {
   "cell_type": "code",
   "execution_count": null,
   "id": "5124a743-b5a1-4c19-8e8f-d9d43abc2318",
   "metadata": {},
   "outputs": [],
   "source": [
    "from IPython.display import Image, display\n",
    "img=Image(url_github_repo+'jupyter/jupyterNotebooks/images/breakContinue.png',width=500)\n",
    "display(img)"
   ]
  },
  {
   "cell_type": "code",
   "execution_count": null,
   "id": "12662676-0816-4163-bebe-8408486be3c0",
   "metadata": {},
   "outputs": [],
   "source": [
    "#Echo without printing `'end'`\n",
    "line = ''\n",
    "while True :\n",
    "    line = input('Next line:')\n",
    "    if line == 'end':\n",
    "        break\n",
    "    print(line.upper())\n",
    "print('Bye!')"
   ]
  },
  {
   "cell_type": "code",
   "execution_count": null,
   "id": "0064cda2-ad96-4db4-ba8a-784926ba9078",
   "metadata": {},
   "outputs": [],
   "source": [
    "#Echo without printing `'end'` and without printing numbers\n",
    "line = ''\n",
    "while True :\n",
    "    line = input('Next line:')\n",
    "    if line == 'end' :\n",
    "        break\n",
    "    elif line.isnumeric():\n",
    "        continue\n",
    "    print(line.upper())\n",
    "print('Bye!')"
   ]
  },
  {
   "cell_type": "markdown",
   "id": "394b1b5d-332d-439a-aa28-6f700367adc9",
   "metadata": {},
   "source": [
    "For pedagogical reasons, we gave solutions with `continue` and `break`. \n",
    "- In reality, I would have done it differently, using a more intuitive/simpler approach.\n",
    "\n",
    "For example, we can get 'echo without printing `end`' by \n",
    "* just anticipating the first `input()` before the loop \n",
    "* moving the input from inside the loop to the end of the loop: \n",
    "  * each iteration reads the value for the next iteration\n",
    "\n",
    "> You should always think carefully about how to write your programs, always choosing the __simplest approach__.\n"
   ]
  },
  {
   "cell_type": "code",
   "execution_count": null,
   "id": "037d8785-5dde-4a3d-bdcf-98eef6d9bea1",
   "metadata": {},
   "outputs": [],
   "source": [
    "#Echo without printing `'end'`\n",
    "line = input('Next line:')\n",
    "while line!='end' :\n",
    "    print(line.upper())\n",
    "    line = input('Next line:')\n",
    "print('Bye!')"
   ]
  },
  {
   "cell_type": "markdown",
   "id": "7b8a7c25-d07b-4cb1-b712-f9d3d060033e",
   "metadata": {},
   "source": [
    "### For loops"
   ]
  },
  {
   "cell_type": "markdown",
   "id": "39b54a40-1387-462d-ab3b-a6046a6f2c1f",
   "metadata": {},
   "source": [
    "We now look at [`for` loops](https://docs.python.org/3/reference/compound_stmts.html#the-for-statement)\n",
    "* They have pretty much the same expressive power of while loops, \n",
    "  * but `for` makes it easier the coding of certain computations\n",
    "* The `for` is useful when\n",
    "  * you have to iterate over a collection\n",
    "  * you know in advance the number `n` of iterations you need\n",
    "    * You obtain this using the collection `range(n)`"
   ]
  },
  {
   "cell_type": "markdown",
   "id": "2bf0249c-ae21-4f20-b0a7-f0145bc20a50",
   "metadata": {},
   "source": [
    "#### Basic usage"
   ]
  },
  {
   "cell_type": "code",
   "execution_count": null,
   "id": "1bbd5426-d2d6-4d4f-9523-521cf7a2666a",
   "metadata": {},
   "outputs": [],
   "source": [
    "lst2=[0]*10\n",
    "for i in range(10):\n",
    "    lst2[i]=i*2\n",
    "    print(i*2)\n",
    "print(lst2)"
   ]
  },
  {
   "cell_type": "code",
   "execution_count": null,
   "id": "ff4cab9a-5f81-4b94-b006-6a4488b928b5",
   "metadata": {},
   "outputs": [],
   "source": [
    "for c in 'ciao':\n",
    "    print(c)"
   ]
  },
  {
   "cell_type": "markdown",
   "id": "726e35cc-c228-4faa-822e-e596a244d171",
   "metadata": {},
   "source": [
    "Intuitively, **a for loop is not so different from a list comprehension**\n",
    "* But they are very different constructs. \n",
    "    * List comprehensions can be used as an expression to be assigned.\n",
    "        - for loops can't\n",
    "    * For loops can do much more than (just) creating lists\n",
    "        - List comprehensions can only create lists "
   ]
  },
  {
   "cell_type": "code",
   "execution_count": null,
   "id": "757003a9-808f-4fa6-b957-92c9f2ee9652",
   "metadata": {},
   "outputs": [],
   "source": [
    "rng = range(9)\n",
    "lst = [i*2 for i in rng]\n",
    "print(lst)\n",
    "\n",
    "lst2=[]\n",
    "for i in rng:\n",
    "    lst2.append(i*2)\n",
    "print(lst2)"
   ]
  },
  {
   "cell_type": "markdown",
   "id": "3ea41ed9-cf98-42e8-a8dc-aa99b720cbb4",
   "metadata": {},
   "source": [
    "Rule of thumb: \n",
    "* Whenever you do simple iterations on the elements of a collection to create a new one \n",
    "  * __use list/set/dictionary comprehensions__. They are more efficient!\n",
    "* Whenever you have to do more operations, e.g. execute more statements in each iteration\n",
    "  * use for loops"
   ]
  },
  {
   "cell_type": "code",
   "execution_count": null,
   "id": "9d0aa783-9fa6-4767-8fe0-3cdf9498fd78",
   "metadata": {},
   "outputs": [],
   "source": [
    "for i in range(10):\n",
    "    print('Hello')\n",
    "    print('How are you?')\n",
    "    print('...')\n",
    "    print('The square of',i,'is',i**2)\n",
    "    print()"
   ]
  },
  {
   "cell_type": "markdown",
   "id": "790d247d-c53c-46da-8f5c-247b6f498849",
   "metadata": {},
   "source": [
    "#### Nested loops"
   ]
  },
  {
   "cell_type": "markdown",
   "id": "b1df0fd6-e8f6-4d6a-ab51-4a11470bcef8",
   "metadata": {},
   "source": [
    "Let's create a 3x3 matrix containing random values from 0 to 1"
   ]
  },
  {
   "cell_type": "markdown",
   "id": "817fb321-b4f1-40a1-a8c1-193e34bbc4a0",
   "metadata": {},
   "source": [
    "The following code samples 10 random numbers in [0,1]"
   ]
  },
  {
   "cell_type": "code",
   "execution_count": null,
   "id": "73725cfc-f94c-4c64-86ed-9c023f1b0c5e",
   "metadata": {},
   "outputs": [],
   "source": [
    "import random\n",
    "for i in range(10):\n",
    "    print(random.random())"
   ]
  },
  {
   "cell_type": "code",
   "execution_count": null,
   "id": "e155c18e-7df2-403a-bb23-03a0e7929bb1",
   "metadata": {},
   "outputs": [],
   "source": [
    "n_rows = 3\n",
    "n_cols = 3\n",
    "\n",
    "matrix = [   [ random.random() for c in range(n_cols) ] for r in range(n_rows)   ]\n",
    "print(matrix)\n",
    "print()\n",
    "\n",
    "#Let's pretty-print the created matrix\n",
    "for r in range(n_rows) :\n",
    "    for c in range(n_cols) :\n",
    "        val = '{:.2f}'.format(matrix[r][c])\n",
    "        print(val,' ',end=\"\")\n",
    "    print()\n",
    "#help(print)"
   ]
  },
  {
   "cell_type": "code",
   "execution_count": null,
   "id": "3e054f28-6b9e-45a3-9f02-1252fcceadea",
   "metadata": {},
   "outputs": [],
   "source": [
    "'{:7.2f}'.format(123.1234)"
   ]
  },
  {
   "cell_type": "code",
   "execution_count": null,
   "id": "6f5a61b2-9f6b-423c-b2d3-be30c21fef66",
   "metadata": {},
   "outputs": [],
   "source": [
    "#Let's compute some quantities on the matrix\n",
    "maxm=-1 #the maximum value\n",
    "minm=2  #the minimum value\n",
    "summ=0  #the sum of the values in the matrix\n",
    "for r in range(n_rows) :\n",
    "    for c in range(n_cols) :\n",
    "        if matrix[r][c] > maxm :\n",
    "            maxm = matrix[r][c]\n",
    "        if matrix[r][c] < minm :\n",
    "            minm = matrix[r][c]\n",
    "        #summ+=matrix[r][c]\n",
    "        summ= summ + matrix[r][c]\n",
    "\n",
    "print('Sum {:.2f}, Min {:.4f}, Max {}'.format(summ,minm,maxm))"
   ]
  },
  {
   "cell_type": "markdown",
   "id": "e05533b1-8e0c-4349-b92b-5c7309d0c582",
   "metadata": {},
   "source": [
    "Did you notice\n",
    "- `'Sum {:.2f}, Min {:.4f}, Max {}'.format(summ,minm,maxm)`\n",
    "\n",
    "These are examples of __string formatting__\n",
    "- It can be convenient. [Take a look at further options](https://realpython.com/python-string-formatting/)"
   ]
  },
  {
   "cell_type": "markdown",
   "id": "5eb80017-789c-45b7-bc47-dbfec4768e7d",
   "metadata": {},
   "source": [
    "#### Iterating over more collections at once ...\n",
    "- Do you remember `zip`!?"
   ]
  },
  {
   "cell_type": "code",
   "execution_count": null,
   "id": "a7e012db-92a5-482d-a0ba-4ca225b52d8c",
   "metadata": {},
   "outputs": [],
   "source": [
    "numbers=\"12345\"\n",
    "vowels =\"aeiou\"\n",
    "for (n,v) in zip(numbers,vowels):\n",
    "    print(n,v)"
   ]
  },
  {
   "cell_type": "markdown",
   "id": "ab17b60d-c49f-4275-82f5-f730a6248512",
   "metadata": {},
   "source": [
    "Similarly to the `while` statement, the `for` supports\n",
    "* `continue`\n",
    "* `break`"
   ]
  },
  {
   "cell_type": "markdown",
   "id": "24540dbb-a2ca-412d-aeb7-18ca8787b326",
   "metadata": {},
   "source": [
    "# Functions"
   ]
  },
  {
   "cell_type": "markdown",
   "id": "dcc023e5-d079-4efb-bc40-95ad42cde71f",
   "metadata": {
    "tags": []
   },
   "source": [
    "## Intro: copy-pasting is not a good idea when programming\n",
    "\n",
    "**_How to get readable and maintainable code by avoiding spaghetti code_**"
   ]
  },
  {
   "cell_type": "markdown",
   "id": "68ca74fb-1e8b-403f-9c7b-9e123e799335",
   "metadata": {},
   "source": [
    "Let's sum up the first `n` naturals:"
   ]
  },
  {
   "cell_type": "code",
   "execution_count": null,
   "id": "06b77dba-e922-482f-bcfa-062634b233f6",
   "metadata": {},
   "outputs": [],
   "source": [
    "sum1 = 0\n",
    "\n",
    "n = int(input('Give me n'))\n",
    "rng = range(1,n+1)\n",
    "for i in rng:\n",
    "    sum1+=i\n",
    "print('The sum of the first',n,'naturals',list(rng),'is',sum1)    "
   ]
  },
  {
   "cell_type": "markdown",
   "id": "ec6cb199-db0b-4cb9-926d-eeba6313f6f1",
   "metadata": {},
   "source": [
    "### Classic copy-paste errors"
   ]
  },
  {
   "cell_type": "markdown",
   "id": "5e950d03-ca75-4641-8f64-2b36f2b21fba",
   "metadata": {},
   "source": [
    "What if we want to do this several times in different parts of a program?\n",
    "* A bugged version due to __classic copy-paste errors__"
   ]
  },
  {
   "cell_type": "code",
   "execution_count": null,
   "id": "a79ea770-fc8e-44e0-8b3b-ae602b9fbbc9",
   "metadata": {},
   "outputs": [],
   "source": [
    "#BUGGED VERSION DUE TO CLASSIC COPY-PASTE ERRORS\n",
    "sum1 = 0\n",
    "\n",
    "n = int(input('Give me n'))\n",
    "rng = range(1,n+1)\n",
    "for i in rng:\n",
    "    sum1+=i\n",
    "print('The sum of the first',n,'naturals',list(rng),'is',sum1)\n",
    "\n",
    "\n",
    "# Do something else ... \n",
    "# Do something else ...\n",
    "# Do something else ...\n",
    "# Do something else ...\n",
    "# Do something else ... \n",
    "# Do something else ...\n",
    "# Do something else ...\n",
    "# Do something else ...\n",
    "# Do something else ... \n",
    "# Do something else ...\n",
    "# Do something else ...\n",
    "# Do something else ...\n",
    "# Do something else ... \n",
    "# Do something else ...\n",
    "# Do something else ...\n",
    "# Do something else ...\n",
    "\n",
    "\n",
    "n2 = int(input('Give me n2'))\n",
    "rng = range(1,n+1)\n",
    "for i in rng:\n",
    "    sum1+=i\n",
    "print('The sum of the first',n,'naturals',list(rng),'is',sum1)"
   ]
  },
  {
   "cell_type": "code",
   "execution_count": null,
   "id": "4f6e29ab-ce96-46d9-a843-fcc9d8d0cc04",
   "metadata": {},
   "outputs": [],
   "source": [
    "#FIXED VERSION\n",
    "sum1 = 0\n",
    "\n",
    "n = int(input())\n",
    "rng = range(1,n+1)\n",
    "for i in rng:\n",
    "    sum1+=i\n",
    "print('The sum of the first',n,'naturals',list(rng),'is',sum1)\n",
    "\n",
    "\n",
    "# Do something else ... \n",
    "# Do something else ...\n",
    "# Do something else ...\n",
    "# Do something else ...\n",
    "# Do something else ... \n",
    "# Do something else ...\n",
    "# Do something else ...\n",
    "# Do something else ...\n",
    "# Do something else ... \n",
    "# Do something else ...\n",
    "# Do something else ...\n",
    "# Do something else ...\n",
    "# Do something else ... \n",
    "# Do something else ...\n",
    "# Do something else ...\n",
    "# Do something else ...\n",
    "\n",
    "\n",
    "sum1=0\n",
    "n2 = int(input())\n",
    "rng = range(1,n2+1)\n",
    "for i in rng:\n",
    "    sum1+=i\n",
    "print('The sum of the first',n2,'naturals',list(rng),'is',sum1)"
   ]
  },
  {
   "cell_type": "markdown",
   "id": "cb34004a-596e-4746-8043-af8fc8d042c3",
   "metadata": {},
   "source": [
    "Imagine doing this in a file with __thousands lines__ of code and __several copies__ of the same code\n",
    "* It would be very error-prone!\n",
    "\n",
    "Luckily, we can wrap this computation in __a function__\n",
    "* __Defined__ (written) once\n",
    "* __Invoked__ (used, called) many times"
   ]
  },
  {
   "cell_type": "code",
   "execution_count": null,
   "id": "c3fb35d8-9504-40b8-b47d-37fe3ae3b295",
   "metadata": {},
   "outputs": [],
   "source": [
    "def sum_naturals(n):\n",
    "    sum1 = 0\n",
    "    rng = range(1,n+1)\n",
    "    for i in rng:\n",
    "        sum1+=i\n",
    "    print('The sum of the first',n,'naturals',list(rng),'is',sum1)\n",
    "    return sum1\n",
    "\n",
    "sum3 = sum_naturals(3)\n",
    "sum4 = sum_naturals(4)\n",
    "print('Twice the sum of the first 4 naturals:',sum4*2)"
   ]
  },
  {
   "cell_type": "code",
   "execution_count": null,
   "id": "b75a8386-385c-46df-a6aa-7baf67d11772",
   "metadata": {},
   "outputs": [],
   "source": [
    "sum_naturals(int(input()))\n",
    "sum_naturals(int(input()))"
   ]
  },
  {
   "cell_type": "markdown",
   "id": "6ef6b201-bad1-4996-8b6c-973bd2a6af30",
   "metadata": {},
   "source": [
    "### Functions increase Modularity and Manutenability"
   ]
  },
  {
   "cell_type": "markdown",
   "id": "410ba7b0-aa58-4d1c-8ec2-09b774e0eee9",
   "metadata": {},
   "source": [
    "What if we want to update a function?\n",
    "* Maybe you know that \n",
    "   - $\\sum\\limits_{i=1}^{n} i = \\frac{n\\cdot (n+1)}{2}$\n",
    "   - look, e.g., [here](https://en.wikipedia.org/wiki/1_%2B_2_%2B_3_%2B_4_%2B_%E2%8B%AF)\n",
    "* Above we can just __modify the function once__, and all the rest of the code will become aware of the change \n",
    "  * By magic! ;)  "
   ]
  },
  {
   "cell_type": "code",
   "execution_count": null,
   "id": "73219166-00f2-4176-b440-31ea43aee8a3",
   "metadata": {},
   "outputs": [],
   "source": [
    "def sum_naturals(n):\n",
    "    sum1 = int(n*(n+1)/2)\n",
    "    print('The sum of the first',n,'naturals is',sum1)\n",
    "    return sum1"
   ]
  },
  {
   "cell_type": "markdown",
   "id": "611ed67e-eccc-4b42-a2c6-0542b1a36c7c",
   "metadata": {},
   "source": [
    "## What is a function?"
   ]
  },
  {
   "cell_type": "markdown",
   "id": "5d50f781-17b6-4625-8c12-538e8e64b338",
   "metadata": {},
   "source": [
    "[Functions](https://www.w3schools.com/python/python_functions.asp) (in certain cases called procedures) are a key notion in programming\n",
    "* Enable the **procedural programming style** mentioned in the first lecture\n",
    "  * Break down a big problem into smaller ones\n",
    "  * Decouple \n",
    "    * the program logic (what the program does) from \n",
    "    * the data (what the program manipulates)\n",
    "  * Therefore increase important properties of programs\n",
    "    - __readability__ \n",
    "    - __maintainability__\n",
    "    - __extensibility__\n",
    "\n",
    "A function consists of a sequence of statements (or instructions) that \n",
    "* have been collected together \n",
    "* have been given a name\n",
    "\n",
    "A bit like in mathematics (e.g. $x1= max(x2,x3)$), functions\n",
    "* might have arguments ($x_2,x_3$, the __arguments__ or __parameters__)\n",
    "* execute a number of computations based on the arguments (the statements composing its __body__)\n",
    "* might return a computed value (the __return value__)\n",
    "\n",
    "But in programming languages functions:\n",
    "* might have side effects \n",
    "* might depend on variables defined elsewhere or in inputs from the user"
   ]
  },
  {
   "cell_type": "code",
   "execution_count": null,
   "id": "1ffdf51b-2248-4f95-8723-c275f1242892",
   "metadata": {
    "tags": []
   },
   "outputs": [],
   "source": [
    "def non_mathematical_function(y):\n",
    "    v_in= int(input())\n",
    "    print('The result for',y,'is',v_in+y)\n",
    "    \n",
    "non_mathematical_function(1)\n",
    "non_mathematical_function(1)\n",
    "non_mathematical_function(1)"
   ]
  },
  {
   "cell_type": "markdown",
   "id": "f69a81fc-e202-49ac-afee-b4baaf180213",
   "metadata": {},
   "source": [
    "__Aspects to consider when writing a function__\n",
    "* Each function should have a __single purpose__\n",
    "  * Can you describe what it does with a single verb?\n",
    "  * If a function has more purposes, consider splitting it \n",
    "* Use self-commenting names for function and for arguments\n",
    "  * Something like `def my_fun(my_arg)` is __not a good idea__\n",
    "* Do not change mutable arguments (lists, dictionaries, sets) \n",
    "  * Unless clearly defined, e.g. in the function name\n",
    "  * You might have _bad surprises_ when reusing some old code of yours...\n",
    "* Do not change global variables\n",
    "  * These _side-effects_ will inevitably give you bugs complex to discover!"
   ]
  },
  {
   "cell_type": "markdown",
   "id": "c0780783-05a5-406b-9dcd-38cba637ca54",
   "metadata": {},
   "source": [
    "## Scope of variables (Global variables vs Local variables)"
   ]
  },
  {
   "cell_type": "code",
   "execution_count": null,
   "id": "c1fe0827-a0d7-455d-aef4-74fc217755a0",
   "metadata": {},
   "outputs": [],
   "source": [
    "sum1 = 100\n",
    "\n",
    "def sumNaturals(n):\n",
    "    sum1 = 0\n",
    "    rng = range(1,n+1)\n",
    "    lv = 3\n",
    "    for i in rng:\n",
    "        sum1+=i\n",
    "    print('The sum of the first',n,'naturals',list(rng),'is',sum1,'(here sum1 is the local variable)')\n",
    "    return sum1\n",
    "\n",
    "result = sumNaturals(5)\n",
    "print('Result contains',result)\n",
    "print('sum1   contains',sum1,'(note that we refer to the global variables in the first line of this cell)')\n",
    "#print(lv) #This gives an error"
   ]
  },
  {
   "cell_type": "markdown",
   "id": "d5206bd0-036d-4415-a3ce-b1721236bd70",
   "metadata": {},
   "source": [
    "I just told you that local variables are local to each function invocation\n",
    "* Therefore we get an error (_NameError: name 'lv' is not defined_)\n",
    "* But then why can I print `sum1`?\n",
    "* And why do I get a number different than `15`?\n",
    "\n",
    "> Because I am printing another variable named `sum1`, a __global variable__, that we have declared before the function"
   ]
  },
  {
   "cell_type": "markdown",
   "id": "c85fc928-6c08-48e3-84d0-472dff0a0454",
   "metadata": {},
   "source": [
    "### What to remember about scopes of variables..."
   ]
  },
  {
   "cell_type": "markdown",
   "id": "2bfa9ac2-3411-4f65-b85f-dad04aa17547",
   "metadata": {},
   "source": [
    "[The scope of a variable refers to the code portions in which you can see/modify a variable](https://matthew-brett.github.io/teaching/global_scope.html)\n",
    "* A variable defined at the top level of your script (not inside a function), is a __global variable__\n",
    "  * You can access global variables from anywehere in your script\n",
    "* A variable defined in a function is local to that function\n",
    "  * Statements in other functions or in the top level of your script cannot see it"
   ]
  },
  {
   "cell_type": "markdown",
   "id": "1ebc043e-6d08-47de-93c9-2729129156b0",
   "metadata": {},
   "source": [
    "_Any wise programmer would suggest you..._"
   ]
  },
  {
   "cell_type": "code",
   "execution_count": null,
   "id": "838bc230-2f71-4da0-8300-78745e7699c6",
   "metadata": {},
   "outputs": [],
   "source": [
    "img=Image(url_github_repo+'jupyter/jupyterNotebooks/images/globalVariables2.png',width=800)\n",
    "display(img)"
   ]
  },
  {
   "cell_type": "markdown",
   "id": "63db652a-36d9-4d42-b70a-a4f7c9bfea36",
   "metadata": {},
   "source": [
    "Generated using [rankey.com](http://www.ranzey.com/generators/bart/index.html)"
   ]
  },
  {
   "cell_type": "markdown",
   "id": "66859f7a-998c-47ba-b190-815a6ebbda5a",
   "metadata": {},
   "source": [
    "## Input and output of a function"
   ]
  },
  {
   "cell_type": "markdown",
   "id": "6e4cee3d-220f-4aa2-993c-4dea9ab2ec81",
   "metadata": {},
   "source": [
    "### Pass by reference"
   ]
  },
  {
   "cell_type": "markdown",
   "id": "a50419bc-b791-4a65-a8fa-a82267c39f19",
   "metadata": {},
   "source": [
    "In Python, arguments are passed __by reference__\n",
    "\n",
    "* For example, if you pass a list `lst` as argument:\n",
    "  * The function will not use a copy of `lst`, but `lst` itself (we pass its _address_, possibly using a variable with different name)\n",
    "  * Any modification to the list will be reflected in the code that called the function\n",
    "\n",
    "Intuitively, you pass a _reference to the list_ (think of it as its _address_)\n",
    "\n",
    "> Passing an empty list or a list with 1000 elements has the same cost! <br/>\n",
    "> You pass just the reference to the _beginning_ of the list"
   ]
  },
  {
   "cell_type": "code",
   "execution_count": null,
   "id": "4a39552d-d323-4c1b-8220-92073e3d68eb",
   "metadata": {},
   "outputs": [],
   "source": [
    "def append_to_list(lst):\n",
    "    lst.append('added in the function')\n",
    "\n",
    "mylst = [\"first\",\"second\"]\n",
    "print(mylst)\n",
    "append_to_list(mylst)\n",
    "print(mylst)"
   ]
  },
  {
   "cell_type": "markdown",
   "id": "c9a2de07-9cef-4ee0-8f80-665962fb5f32",
   "metadata": {},
   "source": [
    "What happens if you execute the code below?\n",
    "* More importantly: __why?__"
   ]
  },
  {
   "cell_type": "code",
   "execution_count": null,
   "id": "49a57fb9-fa6b-4e75-b096-3f4b0161fc25",
   "metadata": {},
   "outputs": [],
   "source": [
    "def append_to_list(lst):\n",
    "    lst.append('end')\n",
    "    lst = [1,2]\n",
    "    print('Inside  the function',lst)\n",
    "\n",
    "mylst = [\"first\",\"second\"]\n",
    "print('Before the function',mylst)\n",
    "append_to_list(mylst)\n",
    "print('After the function',mylst)"
   ]
  },
  {
   "cell_type": "code",
   "execution_count": null,
   "id": "39ad6b5d-054f-4a5f-aaf0-c17c4631bff3",
   "metadata": {},
   "outputs": [],
   "source": [
    "img=Image(url_github_repo+'jupyter/jupyterNotebooks/images/func_params.png',width=800)\n",
    "display(img)"
   ]
  },
  {
   "cell_type": "markdown",
   "id": "5b10555a-a6cc-4c27-9b5d-2a0275a6813b",
   "metadata": {},
   "source": [
    "What if we reassign lst before appending?\n",
    "- Why?"
   ]
  },
  {
   "cell_type": "code",
   "execution_count": null,
   "id": "5e8d32b1-c466-442d-b5bd-e606dd3c1c08",
   "metadata": {},
   "outputs": [],
   "source": [
    "def append_to_another_list(lst):\n",
    "    print(lst)\n",
    "    lst = [1,2]\n",
    "    lst.append('end')\n",
    "    return lst\n",
    "\n",
    "mylst = [\"first\",\"second\"]\n",
    "print('Before the function',mylst)\n",
    "returned_list=append_to_list(mylst)\n",
    "print('After the function',mylst)\n",
    "print(\"Returned 'local list'\",list_containing_12end)"
   ]
  },
  {
   "cell_type": "code",
   "execution_count": null,
   "id": "80ed6c69-7909-41eb-93c8-aa59985d28a1",
   "metadata": {},
   "outputs": [],
   "source": [
    "lst1=[1,2]\n",
    "lst2=lst1\n",
    "lst2.append(3)\n",
    "print(lst1)"
   ]
  },
  {
   "cell_type": "code",
   "execution_count": null,
   "id": "7065021c-9291-4536-8c84-bfa674b7a894",
   "metadata": {},
   "outputs": [],
   "source": [
    "lst1=[1,2]\n",
    "lst2=lst1\n",
    "lst2=['a','b']\n"
   ]
  },
  {
   "cell_type": "code",
   "execution_count": null,
   "id": "6933cdb6-129f-4cc2-9ebd-a5b772fed45d",
   "metadata": {},
   "outputs": [],
   "source": [
    "def create_list(n):\n",
    "    lst_loc=list(range(n))\n",
    "    return lst_loc\n",
    "\n",
    "lst=create_list(3)"
   ]
  },
  {
   "cell_type": "markdown",
   "id": "f98319dd-1f01-4e49-a35e-68ad7742b0f1",
   "metadata": {},
   "source": [
    "### The return value of a function"
   ]
  },
  {
   "cell_type": "markdown",
   "id": "989b1779-1071-4ce4-8ed8-bee190cf34a6",
   "metadata": {},
   "source": [
    "A function terminates when \n",
    "* The last statement in its body is executed\n",
    "* A `return` statement is executed"
   ]
  },
  {
   "cell_type": "code",
   "execution_count": null,
   "id": "8585c67c-6476-4b64-ac7d-0070ce48e7ca",
   "metadata": {},
   "outputs": [],
   "source": [
    "def testReturn():\n",
    "    print('This will be printed')\n",
    "    stop=True\n",
    "    if stop:\n",
    "        return\n",
    "    print('This will NOT be printed')\n",
    "\n",
    "testReturn()\n",
    "print('ciao')\n"
   ]
  },
  {
   "cell_type": "code",
   "execution_count": null,
   "id": "64eacd50-d401-4a27-9ae0-b4cbb62467a9",
   "metadata": {},
   "outputs": [],
   "source": [
    "def testReturn2():\n",
    "    print('ciao')\n",
    "    \n",
    "def testReturn3():\n",
    "    print('ciao')\n",
    "    return\n",
    "\n",
    "\n",
    "\n",
    "\n",
    "def ret_ciao():\n",
    "    return \"ciao\"\n",
    "v2=ret_ciao()\n",
    "v=\"ciao\"\n"
   ]
  },
  {
   "cell_type": "markdown",
   "id": "1810b541-1322-4a0d-8409-1292864bf663",
   "metadata": {},
   "source": [
    "As we have seen above, `return` can be used to let the function produce an output\n",
    "* The result of the computation in the function\n",
    "* Returned to the caller of the function"
   ]
  },
  {
   "cell_type": "code",
   "execution_count": null,
   "id": "70ea63dc-bed8-4d87-8dbf-d7a1e9934842",
   "metadata": {},
   "outputs": [],
   "source": [
    "def sumNaturals(n):\n",
    "    sum1 = n*(n+1)/2\n",
    "    return sum1\n",
    "\n",
    "computed_value = sumNaturals(5)\n",
    "print('The function computed',computed_value)"
   ]
  },
  {
   "cell_type": "markdown",
   "id": "5010b6a5-f905-4ecb-8e12-8330249713f1",
   "metadata": {},
   "source": [
    "What if you need to __return more values__?\n",
    "- Use tuples!\n",
    "- It is very pythonic"
   ]
  },
  {
   "cell_type": "code",
   "execution_count": null,
   "id": "4ecc605e-968d-4fc9-8c2d-5ce4bb1a4e43",
   "metadata": {},
   "outputs": [],
   "source": [
    "def string_splitter(s):\n",
    "    half=int(len(s)/2)\n",
    "    s1=s[:half]\n",
    "    s2=s[half:]\n",
    "    return s1,s2\n",
    "\n",
    "t=string_splitter(\"abcdef\")\n",
    "p1=t[0]\n",
    "p2=t[1]\n",
    "print(type(t))\n",
    "print(t[0])\n",
    "print(t[1])"
   ]
  },
  {
   "cell_type": "code",
   "execution_count": null,
   "id": "7c3711b0-9bdc-4104-9b55-c4f713de98ed",
   "metadata": {},
   "outputs": [],
   "source": [
    "# t=string_splitter(\"abcdef\")\n",
    "# p1=t[0]\n",
    "# p2=t[1]\n",
    "p1,p2 = string_splitter(\"abcdef\")\n",
    "print(type( (p1,p2) ))\n",
    "print(p1)\n",
    "print(p2)"
   ]
  },
  {
   "cell_type": "markdown",
   "id": "4d504bf6-4be6-4737-8931-af3f4c2b3163",
   "metadata": {},
   "source": [
    "## A philosophical digression on functions and libraries"
   ]
  },
  {
   "cell_type": "markdown",
   "id": "25e2fc93-d219-4c70-8484-74251587072c",
   "metadata": {},
   "source": [
    "Functions can be seen as \n",
    "* an _interface_ or _contract_"
   ]
  },
  {
   "cell_type": "code",
   "execution_count": null,
   "id": "85af2043-fb16-47cb-b29a-f6a03fdcfed4",
   "metadata": {},
   "outputs": [],
   "source": [
    "def sum_naturals(n):      #Function name and arguments\n",
    "    sum1 = 0              #Actual computation: Black-box internal implementation\n",
    "    rng = range(1,n+1)    \n",
    "    for i in rng:         \n",
    "        sum1+=i \n",
    "    return sum1           #return computed value\n",
    "\n",
    "def sum_naturals(n):      #Function name and arguments\n",
    "    sum1 = int(n*(n+1)/2) #Actual computation: Black-box internal implementation\n",
    "    return sum1           #return computed value"
   ]
  },
  {
   "cell_type": "markdown",
   "id": "9682e237-08e3-4e06-9d08-f181d6e039df",
   "metadata": {},
   "source": [
    "We saw two versions of `sum_naturals` <br/>\n",
    "Both\n",
    "1. take an argument `n`\n",
    "2. compute the sum of the first `n` naturals\n",
    "3. return the computed sum\n",
    "\n",
    "What changed in the two implementations is how step 2 is implemented\n",
    "* But developers do not necessarily need to know what precisely happens in step 2. \n",
    "  * They only need to know what to feed in, and what to expect in output\n",
    "* This allows to split the complexity of a program into several smaller problems, possibly solved by others\n",
    "  * Luckily I don't need to know how strings are converted into int when using `int()`...\n",
    "\n",
    "A __library__ like _matplotlib_ or _csv_ is nothing more than a collection of\n",
    "* types\n",
    "* functions\n",
    "  * you don't know _step 2_!\n",
    "\n",
    "defined in other files"
   ]
  },
  {
   "cell_type": "markdown",
   "id": "cb85a0a1-060e-44e8-834b-0e4afa4f15a3",
   "metadata": {
    "tags": [],
    "toc-nb-collapsed": true
   },
   "source": [
    "# Object-oriented Programming"
   ]
  },
  {
   "cell_type": "markdown",
   "id": "571c1aa0-e17f-4250-9c50-e484ac1560bf",
   "metadata": {},
   "source": [
    "In the previous chapter we discussed how to modularize a program in _functions_\n",
    "\n",
    "Functions\n",
    "* are self-contained units of logic with input/output\n",
    "* enable _procedural programming_\n",
    "\n",
    "We now \n",
    "* __bring modularization to the next level__\n",
    "* show how programs can be further modularized using OOP\n",
    "\n",
    "Intuitively, an object is\n",
    "- a coherent collection of data \n",
    "- a coherent collection of functions to modify such data\n"
   ]
  },
  {
   "cell_type": "markdown",
   "id": "5032b34f-c086-44af-ba4c-60e2009151a1",
   "metadata": {},
   "source": [
    "__Object-oriented Programming__ is a programming paradigm \n",
    "* which allows to transform the problem at hand into a set of interacting objects (or agents)\n",
    "  * therefore much easier for us to visualize and reason about\n",
    "* which naturally leads to modularized software\n",
    "* extremely popular in industry\n",
    "  * because it is _easier_ and _faster_ to program using objects\n",
    "    * therefore developers are much more _productive_\n",
    "\n",
    "Examples of programming languages supporting OOP\n",
    "- Python, Java, C#, C++, [R](https://data-flair.training/blogs/object-oriented-programming-in-r/)\n",
    "\n",
    "Examples of programming languages NOT supporting OOP\n",
    "- C"
   ]
  },
  {
   "cell_type": "markdown",
   "id": "fd006d7c-1c16-47ad-9eb9-7a6b20c9e184",
   "metadata": {},
   "source": [
    "## Classes"
   ]
  },
  {
   "cell_type": "markdown",
   "id": "0b66ab06-6878-4210-b9be-c0fbacb5bd37",
   "metadata": {},
   "source": [
    "Before talking about objects we need to talk about classes\n",
    "* A class defines a new __type__\n",
    "* Every instance of such a type is an object\n",
    "  * A class is the type of an object\n",
    "  * A class specifies the _structure_ of every object of such class\n",
    "\n",
    "A class, e.g. `Individual`, specifies\n",
    "* The type of data that every object of class `Individual` will contain\n",
    "* A number of functions, or __methods__ that can be used on objects of class `Individual` to access and modify such data"
   ]
  },
  {
   "cell_type": "code",
   "execution_count": null,
   "id": "0b9ee451-3722-4c91-a0b2-9fdb02fd1864",
   "metadata": {},
   "outputs": [],
   "source": [
    "class Individual:\n",
    "    current_year = 2023\n",
    "    \n",
    "    #The constructor, creates a new Individual object\n",
    "    # You invoke it by using: indiv = Individual(...)\n",
    "    def __init__(self,name,birth_year,favourite_sport='None'):\n",
    "        self._name=name\n",
    "        self._birth_year=birth_year\n",
    "        self._favourite_sport=favourite_sport\n",
    "    \n",
    "    def get_name(self):\n",
    "        return self._name \n",
    "        #return 'secret' \n",
    "    \n",
    "    def set_name(self,new_name):\n",
    "        if not new_name.isalpha():\n",
    "            print(new_name,'is not admissible')\n",
    "        else:\n",
    "            self._name=new_name\n",
    "    \n",
    "    def compute_age(self):\n",
    "        return Individual.current_year - self._birth_year\n",
    "    \n",
    "    def get_sport(self):\n",
    "        return self._favourite_sport\n",
    "    \n",
    "    def set_sport(self,favourite_sport):\n",
    "        self._favourite_sport=favourite_sport\n",
    "    \n",
    "    ###A printer method\n",
    "    def print(self):\n",
    "        msg = self.get_name()+', born in '+str(self._birth_year)+','\n",
    "        if(self._favourite_sport == 'None'):\n",
    "            print(msg,'does not like sport')\n",
    "        else:\n",
    "            print(msg,'likes',self.get_sport())\n",
    "            \n",
    "    #def __str__(self):\n",
    "    #    ...."
   ]
  },
  {
   "cell_type": "markdown",
   "id": "9559e6ad-84af-4066-ab36-795e0eefb9a7",
   "metadata": {},
   "source": [
    "The class above has \n",
    "* __Name__ `Individual`\n",
    "  * We can use it to create objects representing people\n",
    "* __7 methods__, where\n",
    "  * The first argument of each method refers to the _current object_, the object on which it has been invoked\n",
    "    * By convention, we name it `self`\n",
    "* `__init__` is the constructor of objects of the class. It is executed every time we create a new object\n",
    "    * `andrea = Individual('Andrea',1984,'Rugby')`\n",
    "  * We invoke a method, e.g. `get_name` on an object `andrea` by using the _dot notation_ `andrea.get_name()`\n",
    "    * `andrea.print()`\n",
    "    * `andrea.set_sport('Rugby')`\n",
    "* __3 attributes__ attached to objects\n",
    "  * The `_name` of the individual\n",
    "  * The `_birth_year` of the individual\n",
    "  * The `_favourite_sport` of the individual if any, or initialized to `'None'` otherwise\n",
    "  * __NOTE: every object has its own copy/value for these attributes__\n",
    "  * __NOTE: by convention, attributes that should be considered private to an object (i.e., 'hidden' or not accessible from outside the object should begin with underscore__)\n",
    "    * Other OOP languages allow to explicitly label attributes as public or private. \n",
    "    * In my opiniion, this is a __not nice aspect of Python__\n",
    "* __1 attribute__ attached to the class\n",
    "  * This is a sort of _global attribute_ whose value is shared by all objects\n",
    "  * __NOTE: all objects share the same value for this attribute__"
   ]
  },
  {
   "cell_type": "code",
   "execution_count": null,
   "id": "ceaed2b5-38eb-4f05-af51-3985af17bd41",
   "metadata": {},
   "outputs": [],
   "source": [
    "#help(str)"
   ]
  },
  {
   "cell_type": "code",
   "execution_count": null,
   "id": "868ca836-ca72-4c38-b568-a7c0d66d9847",
   "metadata": {},
   "outputs": [],
   "source": [
    "help(Individual)"
   ]
  },
  {
   "cell_type": "code",
   "execution_count": null,
   "id": "5c9f98e2-ffd7-43bc-9759-fcb1149fc97b",
   "metadata": {},
   "outputs": [],
   "source": [
    "dir(Individual)"
   ]
  },
  {
   "cell_type": "markdown",
   "id": "cb914518-2808-4498-9484-5f2664884f25",
   "metadata": {},
   "source": [
    "## Objects"
   ]
  },
  {
   "cell_type": "markdown",
   "id": "8916157c-b229-47d1-9dd3-9fe7aa8b8027",
   "metadata": {},
   "source": [
    "Now we can \n",
    "- use the defined class `Individual` \n",
    "- to create instances of `Individual`, that is objects of such class"
   ]
  },
  {
   "cell_type": "code",
   "execution_count": null,
   "id": "76e64755-b29c-4cdf-8667-6987931dcc56",
   "metadata": {},
   "outputs": [],
   "source": [
    "ambra = Individual('Ambra', 1985,\"Tennis\")\n",
    "print(type(ambra))\n",
    "ambra.print()\n",
    "\n",
    "andrea = Individual('Andrea',1984)\n",
    "andrea.print()\n",
    "\n",
    "andrea.set_sport('Rugby')\n",
    "andrea.print()\n",
    "\n",
    "#old_andrea = andrea\n",
    "#andrea = Individual('Andrea',1984)\n",
    "\n",
    "print(\"Andrea is\",andrea.compute_age())\n",
    "print(\"Ambra is\",ambra.compute_age())\n",
    "Individual.current_year=2010\n",
    "print(\"Andrea is\",andrea.compute_age())\n",
    "print(\"Ambra is\",ambra.compute_age())"
   ]
  },
  {
   "cell_type": "code",
   "execution_count": null,
   "id": "15dd3376-d3e9-46b1-9fd4-f54d4269432a",
   "metadata": {},
   "outputs": [],
   "source": [
    "type(andrea)"
   ]
  },
  {
   "cell_type": "code",
   "execution_count": null,
   "id": "6cc2d707-9d85-4064-91e2-bbddd4e38a32",
   "metadata": {},
   "outputs": [],
   "source": [
    "type(ambra)"
   ]
  },
  {
   "cell_type": "markdown",
   "id": "96730592-91eb-4ea1-9766-b3e8165f8914",
   "metadata": {},
   "source": [
    "## Inheritance"
   ]
  },
  {
   "cell_type": "markdown",
   "id": "d640f5d2-669c-40aa-9dfd-67100495e496",
   "metadata": {},
   "source": [
    "A nice feature of OOP is that we can _specialize_ existing classes by _extending_ them into more specific versions\n",
    "* In the _child class_ (or __subclass__) we can reuse all unchanged code and methods from the _parent class_ (or __superclass__)\n",
    "* We only need to modify or add what changes\n",
    "    * Redefined methods are known as __overridden methods__\n",
    "    * The rest stays the same! I.e., the rest is __inherited__"
   ]
  },
  {
   "cell_type": "code",
   "execution_count": null,
   "id": "be906a1e-36c6-4fcd-9c65-a0ab78dd4ed6",
   "metadata": {},
   "outputs": [],
   "source": [
    "class Student(Individual):\n",
    "    def __init__(self,name,birth_year,student_id,university,favourite_sport='None'):\n",
    "        super().__init__(name,birth_year,favourite_sport)\n",
    "        #self._name=name\n",
    "        #self._birth_year=birth_year\n",
    "        #self._favourite_sport=favourite_sport\n",
    "        #\n",
    "        \n",
    "        self._university=university\n",
    "        self._student_id=student_id\n",
    "    \n",
    "    def get_university(self):\n",
    "        return self._university\n",
    "    \n",
    "    def get_student_id(self):\n",
    "        return self._student_id\n",
    "    \n",
    "    def print(self):\n",
    "        msg = self.get_name() + ', born in ' + str(self._birth_year) + ', studies at ' + self.get_university() + ' with id ' +str(self.get_student_id())\n",
    "        if(self.get_sport()!='None'):\n",
    "            msg = msg + \". \"+self.get_name()+\" loves \"+self.get_sport()\n",
    "        print(msg)"
   ]
  },
  {
   "cell_type": "code",
   "execution_count": null,
   "id": "10c309b0-c512-4468-9e55-620bc4d06654",
   "metadata": {},
   "outputs": [],
   "source": [
    "dir(Student)"
   ]
  },
  {
   "cell_type": "code",
   "execution_count": null,
   "id": "9957896a-4dd6-4346-b7c2-c61f88c9a0c7",
   "metadata": {},
   "outputs": [],
   "source": [
    "marco = Student('Marco',1984,123,'SSSA')\n",
    "marco.print()\n",
    "\n",
    "marco.set_sport('Football')\n",
    "marco.print()\n",
    "\n",
    "marta = Student('Marta',1984,124,'SSSA','Rugby')\n",
    "marta.print()"
   ]
  },
  {
   "cell_type": "markdown",
   "id": "71245ed0-e757-4a4c-8267-c95c21b960cf",
   "metadata": {},
   "source": [
    "The nice thing, is that we can treat individuals and students \n",
    "- _in a very similar fashion without needing to distinguish among the different types_\n",
    "- As in primary school classes when you got introduce to _sets_ __every student is an individual__"
   ]
  },
  {
   "cell_type": "code",
   "execution_count": null,
   "id": "1acc1a20-21a6-4329-bfbe-1d932ff22eca",
   "metadata": {},
   "outputs": [],
   "source": [
    "img=Image(url_github_repo+'jupyter/jupyterNotebooks/images/potatoes.png',width=600)\n",
    "display(img)"
   ]
  },
  {
   "cell_type": "code",
   "execution_count": null,
   "id": "04c63d7b-5adc-4257-95be-cf7f7e4c7f2c",
   "metadata": {},
   "outputs": [],
   "source": [
    "class SportClub:\n",
    "    def __init__(self,name):\n",
    "        self._name=name\n",
    "        self._members=[]\n",
    "\n",
    "    def add_member(self,individual):\n",
    "        self._members.append(individual)\n",
    "    \n",
    "    def print(self):\n",
    "        print(self._name + ' has',len(self._members),'members:')\n",
    "        for m in self._members:\n",
    "            #We don't know if we are invoking Individual.print or Student.print\n",
    "            m.print()"
   ]
  },
  {
   "cell_type": "code",
   "execution_count": null,
   "id": "f060215c-ca1b-4874-a3a6-7a78a24072d3",
   "metadata": {},
   "outputs": [],
   "source": [
    "rugby_lovers = SportClub('RubgyLovers')\n",
    "#Add the Individual andrea and the Student Marta\n",
    "rugby_lovers.add_member(andrea)\n",
    "rugby_lovers.add_member(marta)\n",
    "rugby_lovers.print()"
   ]
  },
  {
   "cell_type": "markdown",
   "id": "f861503e-346d-4cbe-9fdd-aacb7b7d2467",
   "metadata": {},
   "source": [
    "> The [object-oriented machinery of Python](https://docs.python.org/3/tutorial/classes.html) is actually richer than this\n",
    "> * But in this course we will not investigate this aspect any further"
   ]
  },
  {
   "cell_type": "markdown",
   "id": "d3d8b9e2-4a66-4b28-b827-824f22edbb4e",
   "metadata": {},
   "source": [
    "# A simple example of repeated betting markets (a very simple financial market)"
   ]
  },
  {
   "cell_type": "markdown",
   "id": "e568aac1-a06f-4d7c-b15f-c2b734f91fb0",
   "metadata": {},
   "source": [
    "We are now going to implement in Python using OOP a model of a simple _repeated betting market_ considered in:\n",
    "* [Kets, W et al, Betting Strategies, Market Selection, and the Wisdom of Crowds, 2014](https://www.aaai.org/ocs/index.php/AAAI/AAAI14/paper/viewFile/8387/8494)\n",
    "* [Bottazzi G., Giachini D., Far from the madding crowd: collective wisdom in prediction markets, 2019](https://www.tandfonline.com/doi/abs/10.1080/14697688.2019.1622285)\n",
    "\n",
    "__I thank Daniele Giachini for the great help in preparing this section__"
   ]
  },
  {
   "cell_type": "markdown",
   "id": "37121923-654d-46f9-b766-b3be82e9fe58",
   "metadata": {},
   "source": [
    "## Overview of the model"
   ]
  },
  {
   "cell_type": "code",
   "execution_count": null,
   "id": "41b9d96f-18b3-4f13-bde5-35704f5ae5e9",
   "metadata": {},
   "outputs": [],
   "source": [
    "from IPython.display import Image, display\n",
    "img=Image(url_github_repo+'jupyter/jupyterNotebooks/images/bettingMarket.png',width=1000)\n",
    "display(img)"
   ]
  },
  {
   "cell_type": "markdown",
   "id": "ab05413b-4b0c-4f6f-955b-495f75c0c876",
   "metadata": {},
   "source": [
    "We are going to model a market with 2 agents which place one bet per iteration\n",
    "* __Event__\n",
    "  * We observe the event `evt` \n",
    "  * At every iteration, `evt` might happen or not according to a secret probability `pEvent`\n",
    "* __Agents__\n",
    "  * Each agent has an initial amount of money, or `wealth`\n",
    "  * At every iteration, each agent places bets on the realization (happening) of `evt` or on its 'not realization'\n",
    "  * Each agent decides on what to bet, and how much to bet, depending on some factors\n",
    "    * _What to bet_: Each agent has an opinion about the probability of `evt`, stored in the attribute `belief`\n",
    "    * _How much to bet_: All agents share a common _propensity to bet_ `bet_propensity`\n",
    "        * It is a value from 0 to 1\n",
    "        * The higher is this value, the higher percentage of wealth agents will bet\n",
    "* __Bets__\n",
    "  * At every iteration, the market computes the unitary price (from 0 to 1) for betting on the realization of `evt`, `priceT`\n",
    "  * The price of betting on the non-realization of `evt` is `1-priceT`"
   ]
  },
  {
   "cell_type": "markdown",
   "id": "0375e934-21d3-496f-ab02-36783b8dc393",
   "metadata": {},
   "source": [
    "We begin defining the agents placing bets"
   ]
  },
  {
   "cell_type": "markdown",
   "id": "24300c7a-9ab2-43a3-a3f9-562932865587",
   "metadata": {},
   "source": [
    "## A class for agents"
   ]
  },
  {
   "cell_type": "code",
   "execution_count": null,
   "id": "668b1395-caf5-4ea1-84ca-3e8286b0242c",
   "metadata": {},
   "outputs": [],
   "source": [
    "class Agent:\n",
    "    def __init__(self,w,b):\n",
    "        self._wealth=w #my current amount of money\n",
    "        self._belief=b #my belief on the probability of evt\n",
    "        \n",
    "    def get_wealth(self):\n",
    "        return self._wealth\n",
    "        \n",
    "    def get_belief(self):\n",
    "        return self._belief\n",
    "    \n",
    "    def normalize_wealth(self,totW):\n",
    "        if(totW!=0):\n",
    "            self._wealth=self._wealth/totW\n",
    "    \n",
    "    #evtT=True: \n",
    "    #    evt realized at time t\n",
    "    #bet_propensity:\n",
    "    #    Propensity to bet in [0,1]. \n",
    "    #    The higher the value, the higher the % of wealth that agents will bet\n",
    "    #priceT:\n",
    "    #    Price to place a bet 'evt realizes'\n",
    "    #    The bet is a contract which pays 1 if evt happens\n",
    "    #1-priceT:\n",
    "    #    Price to place a bet 'evt does not realize'\n",
    "    #    The bet is a contract which pays 1 if evt does not happen\n",
    "    \n",
    "    def update_wealth(self,evtT,bet_propensity,priceT):\n",
    "        portfolio=0\n",
    "        if evtT:\n",
    "            #The event happened\n",
    "            if priceT!=0 :    \n",
    "                #I encode the fact that the agent placed a bet on the event happening\n",
    "                #  strategy is the % of wealth bet on the event happening\n",
    "                #  This is an example of so-called fractional Kelly strategy\n",
    "                #    (1-bet_propensity)*priceT is the part of wealth I want to keep safe in my pocket :D\n",
    "                #    bet_ropensity*self.belief is how much I want to bet \n",
    "                strategy = (1 - bet_propensity)*priceT + bet_propensity*self._belief\n",
    "                #Numerator  : how much wealth I bet\n",
    "                #Denumerator: prize of the bet/contract\n",
    "                #portfolio: number of bets/contracts bought\n",
    "                portfolio = strategy*self._wealth/priceT\n",
    "        else:\n",
    "            #The event did not happen\n",
    "            if 1-priceT != 0 :\n",
    "                strategy = (1 - bet_propensity)*(1-priceT) + bet_propensity*(1-self._belief)\n",
    "                portfolio = strategy*self._wealth/(1-priceT)   \n",
    "        #My new wealth is the portfolio itself. Because: \n",
    "        #  Each contract/bet pays 1. \n",
    "        #  My wealth saved in the pocket is included in the portfolio.\n",
    "        self._wealth= portfolio"
   ]
  },
  {
   "cell_type": "markdown",
   "id": "79ee9688-7a06-46a0-8410-0ce92ad9519e",
   "metadata": {},
   "source": [
    "The following checks are present only to avoid divisions by zero. \n",
    "* `if priceT!=0 :`\n",
    "* `if 1 - priceT != 0 :`\n",
    "\n",
    "They make the code less intuitive. \n",
    "* We could have chosen a different implementation where this is more explicit"
   ]
  },
  {
   "cell_type": "code",
   "execution_count": null,
   "id": "bc021bd9-2fad-49bc-bfb8-4c3c32e0d8c9",
   "metadata": {},
   "outputs": [],
   "source": [
    "class AgentWithException(Agent):\n",
    "    \n",
    "    def update_wealth(self,evtT,bet_propensity,priceT):\n",
    "        try:\n",
    "            if evtT:\n",
    "                #I encode the fact that the agent placed a bet on the event happening\n",
    "                #  strategy is the % of wealth bet on the event happening\n",
    "                #  This is an example of fractional Kelly strategy\n",
    "                #    (1-betPropensity)*pt is the part of wealth I want to keep safe in my pocket :D\n",
    "                #    betPropensity*self.belief is how much I want to bet\n",
    "                strategy = (1 - bet_propensity)*priceT + bet_propensity*self._belief\n",
    "                #Numerator  : how much wealth I bet\n",
    "                #Denumerator: prize of the bet/contract\n",
    "                #portfolio: number of bets/contracts bought\n",
    "                portfolio = strategy*self._wealth/priceT\n",
    "            else:\n",
    "                strategy = (1 - bet_propensity)*(1-priceT) + bet_propensity*(1-self._belief)\n",
    "                portfolio = strategy*self._wealth/(1-priceT)   \n",
    "        except ZeroDivisionError:\n",
    "            portfolio=0\n",
    "        #My new wealth is the portfolio itself. Because: \n",
    "        #  Each contract/bet pays 1. \n",
    "        #  My wealth saved in the pocket is included in the portfolio.\n",
    "        self._wealth= portfolio"
   ]
  },
  {
   "cell_type": "markdown",
   "id": "33b15d66-7fa3-4e17-a3c1-06ed6f6c98e1",
   "metadata": {},
   "source": [
    "## A class for the Market"
   ]
  },
  {
   "cell_type": "markdown",
   "id": "db6b1683-8020-44e9-b49d-60d6e6d12754",
   "metadata": {},
   "source": [
    "We can now define the market"
   ]
  },
  {
   "cell_type": "code",
   "execution_count": null,
   "id": "e8bac9b9-5c3f-4759-af08-7223443c2bb9",
   "metadata": {},
   "outputs": [],
   "source": [
    "import random\n",
    "\n",
    "class Market:\n",
    "    def __init__(self,betPropensity,pEvent,agents,seed):\n",
    "        self._bet_propensity=betPropensity\n",
    "        self._pEvent=pEvent\n",
    "        self._agents=agents\n",
    "        self._t=0\n",
    "        self._priceT=0\n",
    "        self._evtT=False\n",
    "        random.seed(seed)\n",
    "        \n",
    "    def perform_one_step(self):\n",
    "        self._t+=1\n",
    "        self._update_aggregate_measures()\n",
    "        self._sample_global_probabilistic_variables()\n",
    "        self._update_agents()\n",
    "        self._normalize_agents_measures()\n",
    "        \n",
    "    def _update_aggregate_measures(self):\n",
    "        self._priceT=0\n",
    "        for agent_i in self._agents:\n",
    "            self._priceT += agent_i.get_belief()*agent_i.get_wealth()\n",
    "        #print('New priceT',self.priceT)\n",
    "            \n",
    "    def _sample_global_probabilistic_variables(self):\n",
    "        self._evtT = (random.random() <= self._pEvent)\n",
    "        #if self.evtAtT:\n",
    "        #    print('!!!evt happened!!!')\n",
    "        \n",
    "    def _update_agents(self):\n",
    "        for agent in self._agents:\n",
    "            agent.update_wealth(self._evtT,self._bet_propensity,self._priceT)\n",
    "        \n",
    "    def _normalize_agents_measures(self):\n",
    "        totW = 0;\n",
    "        for agent in self._agents:\n",
    "            totW += agent.get_wealth()\n",
    "        for agent in self._agents:\n",
    "            agent.normalize_wealth(totW);\n",
    "            \n",
    "    def __str__(self):\n",
    "        descr = 't='+str(self._t)\n",
    "        descr+= ' priceT='+str(round(self._priceT,2))+\"\\n  \"\n",
    "        for i in range(len(self._agents)):\n",
    "            w=str(round(self._agents[i].get_wealth(),2))\n",
    "            descr+=\" w\"+str(i)+\"=\"+w\n",
    "        return descr"
   ]
  },
  {
   "cell_type": "markdown",
   "id": "bedc42f6-35d0-49f2-a8b2-41e6bc21a127",
   "metadata": {},
   "source": [
    "## Let's run a simulation"
   ]
  },
  {
   "cell_type": "markdown",
   "id": "c65e332a-ab30-4a31-9a3c-410aff7ebbb3",
   "metadata": {},
   "source": [
    "Let's create a Market instance, and perform some simulations"
   ]
  },
  {
   "cell_type": "code",
   "execution_count": null,
   "id": "87746edc-cb2f-4a86-8fe5-c99e0fdfe39e",
   "metadata": {},
   "outputs": [],
   "source": [
    "seed=3\n",
    "bet_propensity=0.5\n",
    "pEvent=0.65\n",
    "\n",
    "initW=[0.5,0.5]\n",
    "beliefs=[0.8,0.4]\n",
    "agents=[Agent(initW[0],beliefs[0]),Agent(initW[1],beliefs[1])]\n",
    "\n",
    "market = Market(bet_propensity,pEvent,agents,seed)\n",
    "\n",
    "print('Initially')\n",
    "print(market)\n",
    "print()\n",
    "\n",
    "# for step in range(35):\n",
    "#     print('Step',str(step+1))\n",
    "#     market.perform_one_step()\n",
    "#     print(market)\n",
    "\n",
    "for step in range(100000):\n",
    "    market.perform_one_step()\n",
    "print(market)\n",
    "print()"
   ]
  },
  {
   "cell_type": "markdown",
   "id": "9fddf44c-1cd4-41da-bcd7-e5ed10259ebd",
   "metadata": {},
   "source": [
    "## A special Noise trader"
   ]
  },
  {
   "cell_type": "markdown",
   "id": "07099524-fdd4-44a4-a537-0618732d3ecd",
   "metadata": {},
   "source": [
    "Let us now consider a so-called _Noise trader_\n",
    "* One agent takes decisions using _uninformative data_ \n",
    "* A more precise definition can be found [here](https://www.sciencedirect.com/topics/economics-econometrics-and-finance/noise-trading)\n",
    ">  Noise traders trade on the basis of what they falsely believe to be special information or misinterpret useful information concerning the future price or payoffs of a risky asset."
   ]
  },
  {
   "cell_type": "markdown",
   "id": "68225ac3-5d53-4e01-b531-31f4b6c41914",
   "metadata": {},
   "source": [
    "We are going to consider a noise trader who changes his/her belief before every bet...\n",
    "* according to what the horoscope says :D"
   ]
  },
  {
   "cell_type": "code",
   "execution_count": null,
   "id": "45974bb5-baae-49fb-ac52-6523b841e20f",
   "metadata": {},
   "outputs": [],
   "source": [
    "class NoiseTraderAgent(Agent):\n",
    "    def _consult_horoscope(self):\n",
    "        self._belief = random.random()\n",
    "        #print('The horoscope tells me',self.belief)\n",
    "        \n",
    "    def update_wealth(self,evtT,bet_propensity,priceT):\n",
    "        self._consult_horoscope()\n",
    "        super().update_wealth(evtT,bet_propensity,priceT)"
   ]
  },
  {
   "cell_type": "markdown",
   "id": "ae895d6e-2b58-4745-9532-84dfb6adea9c",
   "metadata": {},
   "source": [
    "Let's run the same model\n",
    "* where we replace the second Agent with a NoiseTraderAgent"
   ]
  },
  {
   "cell_type": "code",
   "execution_count": null,
   "id": "efd37a2b-0f39-4573-bcc8-5869e32cca24",
   "metadata": {},
   "outputs": [],
   "source": [
    "seed=3 \n",
    "bet_propensity=0.5\n",
    "pEvent=0.65\n",
    "\n",
    "initW=[0.5,0.5]\n",
    "beliefs=[0.8,0.4]\n",
    "\n",
    "agents=[Agent(initW[0],beliefs[0]),NoiseTraderAgent(initW[1],beliefs[1])]\n",
    "market = Market(bet_propensity,pEvent,agents,seed)\n",
    "\n",
    "print('Initially')\n",
    "print(market)\n",
    "print()\n",
    "\n",
    "# for step in range(35):\n",
    "#     print('Step',str(step+1))\n",
    "#     market.perform_one_step()\n",
    "#     print(market)\n",
    "\n",
    "for step in range(100000):\n",
    "    market.perform_one_step()\n",
    "print(market)"
   ]
  }
 ],
 "metadata": {
  "kernelspec": {
   "display_name": "env_p4ef_2023",
   "language": "python",
   "name": "env_p4ef_2023"
  },
  "language_info": {
   "codemirror_mode": {
    "name": "ipython",
    "version": 3
   },
   "file_extension": ".py",
   "mimetype": "text/x-python",
   "name": "python",
   "nbconvert_exporter": "python",
   "pygments_lexer": "ipython3",
   "version": "3.9.10"
  },
  "toc-autonumbering": true
 },
 "nbformat": 4,
 "nbformat_minor": 5
}
